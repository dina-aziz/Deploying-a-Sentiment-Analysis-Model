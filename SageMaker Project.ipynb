{
 "cells": [
  {
   "cell_type": "markdown",
   "metadata": {},
   "source": [
    "# Creating a Sentiment Analysis Web App\n",
    "## Using PyTorch and SageMaker\n",
    "\n",
    "_Deep Learning Nanodegree Program | Deployment_\n",
    "\n",
    "---\n",
    "\n",
    "Now that we have a basic understanding of how SageMaker works we will try to use it to construct a complete project from end to end. Our goal will be to have a simple web page which a user can use to enter a movie review. The web page will then send the review off to our deployed model which will predict the sentiment of the entered review.\n",
    "\n",
    "## Instructions\n",
    "\n",
    "Some template code has already been provided for you, and you will need to implement additional functionality to successfully complete this notebook. You will not need to modify the included code beyond what is requested. Sections that begin with '**TODO**' in the header indicate that you need to complete or implement some portion within them. Instructions will be provided for each section and the specifics of the implementation are marked in the code block with a `# TODO: ...` comment. Please be sure to read the instructions carefully!\n",
    "\n",
    "In addition to implementing code, there will be questions for you to answer which relate to the task and your implementation. Each section where you will answer a question is preceded by a '**Question:**' header. Carefully read each question and provide your answer below the '**Answer:**' header by editing the Markdown cell.\n",
    "\n",
    "> **Note**: Code and Markdown cells can be executed using the **Shift+Enter** keyboard shortcut. In addition, a cell can be edited by typically clicking it (double-click for Markdown cells) or by pressing **Enter** while it is highlighted.\n",
    "\n",
    "## General Outline\n",
    "\n",
    "Recall the general outline for SageMaker projects using a notebook instance.\n",
    "\n",
    "1. Download or otherwise retrieve the data.\n",
    "2. Process / Prepare the data.\n",
    "3. Upload the processed data to S3.\n",
    "4. Train a chosen model.\n",
    "5. Test the trained model (typically using a batch transform job).\n",
    "6. Deploy the trained model.\n",
    "7. Use the deployed model.\n",
    "\n",
    "For this project, you will be following the steps in the general outline with some modifications. \n",
    "\n",
    "First, you will not be testing the model in its own step. You will still be testing the model, however, you will do it by deploying your model and then using the deployed model by sending the test data to it. One of the reasons for doing this is so that you can make sure that your deployed model is working correctly before moving forward.\n",
    "\n",
    "In addition, you will deploy and use your trained model a second time. In the second iteration you will customize the way that your trained model is deployed by including some of your own code. In addition, your newly deployed model will be used in the sentiment analysis web app."
   ]
  },
  {
   "cell_type": "markdown",
   "metadata": {},
   "source": [
    "## Step 1: Downloading the data\n",
    "\n",
    "As in the XGBoost in SageMaker notebook, we will be using the [IMDb dataset](http://ai.stanford.edu/~amaas/data/sentiment/)\n",
    "\n",
    "> Maas, Andrew L., et al. [Learning Word Vectors for Sentiment Analysis](http://ai.stanford.edu/~amaas/data/sentiment/). In _Proceedings of the 49th Annual Meeting of the Association for Computational Linguistics: Human Language Technologies_. Association for Computational Linguistics, 2011."
   ]
  },
  {
   "cell_type": "code",
   "execution_count": 1,
   "metadata": {},
   "outputs": [
    {
     "name": "stdout",
     "output_type": "stream",
     "text": [
      "mkdir: cannot create directory ‘../data’: File exists\n",
      "--2019-05-14 22:31:50--  http://ai.stanford.edu/~amaas/data/sentiment/aclImdb_v1.tar.gz\n",
      "Resolving ai.stanford.edu (ai.stanford.edu)... 171.64.68.10\n",
      "Connecting to ai.stanford.edu (ai.stanford.edu)|171.64.68.10|:80... connected.\n",
      "HTTP request sent, awaiting response... 200 OK\n",
      "Length: 84125825 (80M) [application/x-gzip]\n",
      "Saving to: ‘../data/aclImdb_v1.tar.gz’\n",
      "\n",
      "../data/aclImdb_v1. 100%[===================>]  80.23M  23.6MB/s    in 5.4s    \n",
      "\n",
      "2019-05-14 22:31:56 (14.8 MB/s) - ‘../data/aclImdb_v1.tar.gz’ saved [84125825/84125825]\n",
      "\n"
     ]
    }
   ],
   "source": [
    "%mkdir ../data\n",
    "!wget -O ../data/aclImdb_v1.tar.gz http://ai.stanford.edu/~amaas/data/sentiment/aclImdb_v1.tar.gz\n",
    "!tar -zxf ../data/aclImdb_v1.tar.gz -C ../data"
   ]
  },
  {
   "cell_type": "markdown",
   "metadata": {},
   "source": [
    "## Step 2: Preparing and Processing the data\n",
    "\n",
    "Also, as in the XGBoost notebook, we will be doing some initial data processing. The first few steps are the same as in the XGBoost example. To begin with, we will read in each of the reviews and combine them into a single input structure. Then, we will split the dataset into a training set and a testing set."
   ]
  },
  {
   "cell_type": "code",
   "execution_count": 2,
   "metadata": {},
   "outputs": [],
   "source": [
    "import os\n",
    "import glob\n",
    "\n",
    "def read_imdb_data(data_dir='../data/aclImdb'):\n",
    "    data = {}\n",
    "    labels = {}\n",
    "    \n",
    "    for data_type in ['train', 'test']:\n",
    "        data[data_type] = {}\n",
    "        labels[data_type] = {}\n",
    "        \n",
    "        for sentiment in ['pos', 'neg']:\n",
    "            data[data_type][sentiment] = []\n",
    "            labels[data_type][sentiment] = []\n",
    "            \n",
    "            path = os.path.join(data_dir, data_type, sentiment, '*.txt')\n",
    "            files = glob.glob(path)\n",
    "            \n",
    "            for f in files:\n",
    "                with open(f) as review:\n",
    "                    data[data_type][sentiment].append(review.read())\n",
    "                    # Here we represent a positive review by '1' and a negative review by '0'\n",
    "                    labels[data_type][sentiment].append(1 if sentiment == 'pos' else 0)\n",
    "                    \n",
    "            assert len(data[data_type][sentiment]) == len(labels[data_type][sentiment]), \\\n",
    "                    \"{}/{} data size does not match labels size\".format(data_type, sentiment)\n",
    "                \n",
    "    return data, labels"
   ]
  },
  {
   "cell_type": "code",
   "execution_count": 3,
   "metadata": {},
   "outputs": [
    {
     "name": "stdout",
     "output_type": "stream",
     "text": [
      "IMDB reviews: train = 12500 pos / 12500 neg, test = 12500 pos / 12500 neg\n"
     ]
    }
   ],
   "source": [
    "data, labels = read_imdb_data()\n",
    "print(\"IMDB reviews: train = {} pos / {} neg, test = {} pos / {} neg\".format(\n",
    "            len(data['train']['pos']), len(data['train']['neg']),\n",
    "            len(data['test']['pos']), len(data['test']['neg'])))"
   ]
  },
  {
   "cell_type": "markdown",
   "metadata": {},
   "source": [
    "Now that we've read the raw training and testing data from the downloaded dataset, we will combine the positive and negative reviews and shuffle the resulting records."
   ]
  },
  {
   "cell_type": "code",
   "execution_count": 4,
   "metadata": {},
   "outputs": [],
   "source": [
    "from sklearn.utils import shuffle\n",
    "\n",
    "def prepare_imdb_data(data, labels):\n",
    "    \"\"\"Prepare training and test sets from IMDb movie reviews.\"\"\"\n",
    "    \n",
    "    #Combine positive and negative reviews and labels\n",
    "    data_train = data['train']['pos'] + data['train']['neg']\n",
    "    data_test = data['test']['pos'] + data['test']['neg']\n",
    "    labels_train = labels['train']['pos'] + labels['train']['neg']\n",
    "    labels_test = labels['test']['pos'] + labels['test']['neg']\n",
    "    \n",
    "    #Shuffle reviews and corresponding labels within training and test sets\n",
    "    data_train, labels_train = shuffle(data_train, labels_train)\n",
    "    data_test, labels_test = shuffle(data_test, labels_test)\n",
    "    \n",
    "    # Return a unified training data, test data, training labels, test labets\n",
    "    return data_train, data_test, labels_train, labels_test"
   ]
  },
  {
   "cell_type": "code",
   "execution_count": 5,
   "metadata": {},
   "outputs": [
    {
     "name": "stdout",
     "output_type": "stream",
     "text": [
      "IMDb reviews (combined): train = 25000, test = 25000\n"
     ]
    }
   ],
   "source": [
    "train_X, test_X, train_y, test_y = prepare_imdb_data(data, labels)\n",
    "print(\"IMDb reviews (combined): train = {}, test = {}\".format(len(train_X), len(test_X)))"
   ]
  },
  {
   "cell_type": "markdown",
   "metadata": {},
   "source": [
    "Now that we have our training and testing sets unified and prepared, we should do a quick check and see an example of the data our model will be trained on. This is generally a good idea as it allows you to see how each of the further processing steps affects the reviews and it also ensures that the data has been loaded correctly."
   ]
  },
  {
   "cell_type": "code",
   "execution_count": 6,
   "metadata": {},
   "outputs": [
    {
     "name": "stdout",
     "output_type": "stream",
     "text": [
      "Think of a no-budget version of China Syndrome being directed by a film student who idolizes John Woo and you'll get 'Power Play.' The idea was good, but the execution, acting, and dialog absolutely killed it, not to mention ridiculous amounts of violence and disaster sequences that was used to compensate for lack of substance and development of the more interesting parts of the movie.<br /><br />This is the story of a reporter investigating the disappearance of three members of a guerrilla activist group who mysteriously went missing after they broke into the offices of a power plant that is suspected to be causing a frenzy of earthquake. The rather cavalier reporter, going up against what should've been a more ruthless bunch of company execs, is chased around town (along with anyone he speaks to) in order to \"clean\" whatever conclusive evidence might remain of the plant's faults.<br /><br />Unfortunately, there is no real sense of emergency because the characters interact with much hesitancy, coupled with idiotic dialog and a lot of horrible acting. Not to mention, the viewer, who may only be attracted to the movie for it's action genre appeal, is forced to endure a mounting body count and ridiculous amounts of violent shoot em-ups plus earthquake disaster scenes. All of the focus was put in the wrong place to apologetically compensate for the lack of direction and more interesting sequence of events that should've propelled the story. It might've been much better had the filmmakers focused more on a thriller, and paid greater attention to developing the corruption aspects of this story. Creepy villains, a naive reporter, and those who attempt to alert the reporter of the wrong-doing afoot. It is formulaic, but at least it would've been entertaining.\n",
      "0\n"
     ]
    }
   ],
   "source": [
    "print(train_X[100])\n",
    "print(train_y[100])"
   ]
  },
  {
   "cell_type": "markdown",
   "metadata": {},
   "source": [
    "The first step in processing the reviews is to make sure that any html tags that appear should be removed. In addition we wish to tokenize our input, that way words such as *entertained* and *entertaining* are considered the same with regard to sentiment analysis."
   ]
  },
  {
   "cell_type": "code",
   "execution_count": 7,
   "metadata": {},
   "outputs": [],
   "source": [
    "import nltk\n",
    "from nltk.corpus import stopwords\n",
    "from nltk.stem.porter import *\n",
    "\n",
    "import re\n",
    "from bs4 import BeautifulSoup\n",
    "\n",
    "def review_to_words(review):\n",
    "    nltk.download(\"stopwords\", quiet=True)\n",
    "    stemmer = PorterStemmer()\n",
    "    \n",
    "    text = BeautifulSoup(review, \"html.parser\").get_text() # Remove HTML tags\n",
    "    text = re.sub(r\"[^a-zA-Z0-9]\", \" \", text.lower()) # Convert to lower case\n",
    "    words = text.split() # Split string into words\n",
    "    words = [w for w in words if w not in stopwords.words(\"english\")] # Remove stopwords\n",
    "    words = [PorterStemmer().stem(w) for w in words] # stem\n",
    "    \n",
    "    return words"
   ]
  },
  {
   "cell_type": "markdown",
   "metadata": {},
   "source": [
    "The `review_to_words` method defined above uses `BeautifulSoup` to remove any html tags that appear and uses the `nltk` package to tokenize the reviews. As a check to ensure we know how everything is working, try applying `review_to_words` to one of the reviews in the training set."
   ]
  },
  {
   "cell_type": "code",
   "execution_count": 8,
   "metadata": {},
   "outputs": [
    {
     "name": "stdout",
     "output_type": "stream",
     "text": [
      "As far as I can tell you, in spite of earlier comments posted by other commentors, this film IS currently available on DVD. I found it only a few weeks ago.<br /><br />It is on the Value DVD label and I paid the grand total of 98 cents plus tax for it. I found it at a 98 cent store among racks of plastic bowls and disposable chopsticks. Now don't you people who shelled out beau coup bucks for the super-duper Swedish import limited edition version feel like you were had??? I thought so.<br /><br />This film was indeed well worth 98 cents. 99 cents, I might start to argue with you. But clearly worth 98 cents. And remember that saying about getting what you pay for. For slasher film mavens only.\n"
     ]
    }
   ],
   "source": [
    "print(train_X[75])"
   ]
  },
  {
   "cell_type": "code",
   "execution_count": 9,
   "metadata": {},
   "outputs": [
    {
     "name": "stdout",
     "output_type": "stream",
     "text": [
      "['far', 'tell', 'spite', 'earlier', 'comment', 'post', 'commentor', 'film', 'current', 'avail', 'dvd', 'found', 'week', 'ago', 'valu', 'dvd', 'label', 'paid', 'grand', 'total', '98', 'cent', 'plu', 'tax', 'found', '98', 'cent', 'store', 'among', 'rack', 'plastic', 'bowl', 'dispos', 'chopstick', 'peopl', 'shell', 'beau', 'coup', 'buck', 'super', 'duper', 'swedish', 'import', 'limit', 'edit', 'version', 'feel', 'like', 'thought', 'film', 'inde', 'well', 'worth', '98', 'cent', '99', 'cent', 'might', 'start', 'argu', 'clearli', 'worth', '98', 'cent', 'rememb', 'say', 'get', 'pay', 'slasher', 'film', 'maven']\n"
     ]
    }
   ],
   "source": [
    "# TODO: Apply review_to_words to a review (train_X[100] or any other review)\n",
    "print(review_to_words(train_X[75]))"
   ]
  },
  {
   "cell_type": "markdown",
   "metadata": {},
   "source": [
    "**Question:** Above we mentioned that `review_to_words` method removes html formatting and allows us to tokenize the words found in a review, for example, converting *entertained* and *entertaining* into *entertain* so that they are treated as though they are the same word. What else, if anything, does this method do to the input?"
   ]
  },
  {
   "cell_type": "markdown",
   "metadata": {},
   "source": [
    "**Answer:**   \n",
    " It filters out stopwords (commonly used words) such as: the”, “a”, “an”, “in”... etc."
   ]
  },
  {
   "cell_type": "markdown",
   "metadata": {},
   "source": [
    "The method below applies the `review_to_words` method to each of the reviews in the training and testing datasets. In addition it caches the results. This is because performing this processing step can take a long time. This way if you are unable to complete the notebook in the current session, you can come back without needing to process the data a second time."
   ]
  },
  {
   "cell_type": "code",
   "execution_count": 10,
   "metadata": {},
   "outputs": [],
   "source": [
    "import pickle\n",
    "\n",
    "cache_dir = os.path.join(\"../cache\", \"sentiment_analysis\")  # where to store cache files\n",
    "os.makedirs(cache_dir, exist_ok=True)  # ensure cache directory exists\n",
    "\n",
    "def preprocess_data(data_train, data_test, labels_train, labels_test,\n",
    "                    cache_dir=cache_dir, cache_file=\"preprocessed_data.pkl\"):\n",
    "    \"\"\"Convert each review to words; read from cache if available.\"\"\"\n",
    "\n",
    "    # If cache_file is not None, try to read from it first\n",
    "    cache_data = None\n",
    "    if cache_file is not None:\n",
    "        try:\n",
    "            with open(os.path.join(cache_dir, cache_file), \"rb\") as f:\n",
    "                cache_data = pickle.load(f)\n",
    "            print(\"Read preprocessed data from cache file:\", cache_file)\n",
    "        except:\n",
    "            pass  # unable to read from cache, but that's okay\n",
    "    \n",
    "    # If cache is missing, then do the heavy lifting\n",
    "    if cache_data is None:\n",
    "        # Preprocess training and test data to obtain words for each review\n",
    "        #words_train = list(map(review_to_words, data_train))\n",
    "        #words_test = list(map(review_to_words, data_test))\n",
    "        words_train = [review_to_words(review) for review in data_train]\n",
    "        words_test = [review_to_words(review) for review in data_test]\n",
    "        \n",
    "        # Write to cache file for future runs\n",
    "        if cache_file is not None:\n",
    "            cache_data = dict(words_train=words_train, words_test=words_test,\n",
    "                              labels_train=labels_train, labels_test=labels_test)\n",
    "            with open(os.path.join(cache_dir, cache_file), \"wb\") as f:\n",
    "                pickle.dump(cache_data, f)\n",
    "            print(\"Wrote preprocessed data to cache file:\", cache_file)\n",
    "    else:\n",
    "        # Unpack data loaded from cache file\n",
    "        words_train, words_test, labels_train, labels_test = (cache_data['words_train'],\n",
    "                cache_data['words_test'], cache_data['labels_train'], cache_data['labels_test'])\n",
    "    \n",
    "    return words_train, words_test, labels_train, labels_test"
   ]
  },
  {
   "cell_type": "code",
   "execution_count": 11,
   "metadata": {},
   "outputs": [
    {
     "name": "stdout",
     "output_type": "stream",
     "text": [
      "Read preprocessed data from cache file: preprocessed_data.pkl\n"
     ]
    }
   ],
   "source": [
    "# Preprocess data\n",
    "train_X, test_X, train_y, test_y = preprocess_data(train_X, test_X, train_y, test_y)"
   ]
  },
  {
   "cell_type": "markdown",
   "metadata": {},
   "source": [
    "## Transform the data\n",
    "\n",
    "In the XGBoost notebook we transformed the data from its word representation to a bag-of-words feature representation. For the model we are going to construct in this notebook we will construct a feature representation which is very similar. To start, we will represent each word as an integer. Of course, some of the words that appear in the reviews occur very infrequently and so likely don't contain much information for the purposes of sentiment analysis. The way we will deal with this problem is that we will fix the size of our working vocabulary and we will only include the words that appear most frequently. We will then combine all of the infrequent words into a single category and, in our case, we will label it as `1`.\n",
    "\n",
    "Since we will be using a recurrent neural network, it will be convenient if the length of each review is the same. To do this, we will fix a size for our reviews and then pad short reviews with the category 'no word' (which we will label `0`) and truncate long reviews."
   ]
  },
  {
   "cell_type": "markdown",
   "metadata": {},
   "source": [
    "### (TODO) Create a word dictionary\n",
    "\n",
    "To begin with, we need to construct a way to map words that appear in the reviews to integers. Here we fix the size of our vocabulary (including the 'no word' and 'infrequent' categories) to be `5000` but you may wish to change this to see how it affects the model.\n",
    "\n",
    "> **TODO:** Complete the implementation for the `build_dict()` method below. Note that even though the vocab_size is set to `5000`, we only want to construct a mapping for the most frequently appearing `4998` words. This is because we want to reserve the special labels `0` for 'no word' and `1` for 'infrequent word'."
   ]
  },
  {
   "cell_type": "code",
   "execution_count": 12,
   "metadata": {},
   "outputs": [],
   "source": [
    "import numpy as np\n",
    "from collections import Counter\n",
    "\n",
    "def build_dict(data, vocab_size = 5000):\n",
    "    \"\"\"Construct and return a dictionary mapping each of the most frequently appearing words to a unique integer.\"\"\"\n",
    "    \n",
    "    # TODO: Determine how often each word appears in `data`. Note that `data` is a list of sentences and that a\n",
    "    #       sentence is a list of words.\n",
    "    \n",
    "    flat_data=[j for sub in train_X for j in sub]\n",
    "    word_dict = dict(Counter(flat_data))      # A dict storing the words that appear in the reviews along with how often they occur\n",
    "    \n",
    "    # TODO: Sort the words found in `data` so that sorted_words[0] is the most frequently appearing word and\n",
    "    #       sorted_words[-1] is the least frequently appearing word.\n",
    "    \n",
    "    sorted_words =  sorted(word_dict, key=word_dict.get, reverse=True)\n",
    "    \n",
    "    word_dict = {} # This is what we are building, a dictionary that translates words into integers\n",
    "    for idx, word in enumerate(sorted_words[:vocab_size - 2]): # The -2 is so that we save room for the 'no word'\n",
    "        word_dict[word] = idx + 2                              # 'infrequent' labels\n",
    "        \n",
    "    return word_dict"
   ]
  },
  {
   "cell_type": "code",
   "execution_count": 13,
   "metadata": {},
   "outputs": [],
   "source": [
    "word_dict = build_dict(train_X)"
   ]
  },
  {
   "cell_type": "code",
   "execution_count": 14,
   "metadata": {},
   "outputs": [
    {
     "name": "stdout",
     "output_type": "stream",
     "text": [
      "{'movi': 2, 'film': 3, 'one': 4, 'like': 5, 'time': 6, 'good': 7, 'make': 8, 'charact': 9, 'get': 10, 'see': 11, 'watch': 12, 'stori': 13, 'even': 14, 'would': 15, 'realli': 16, 'well': 17, 'scene': 18, 'look': 19, 'show': 20, 'much': 21, 'end': 22, 'peopl': 23, 'bad': 24, 'go': 25, 'great': 26, 'also': 27, 'first': 28, 'love': 29, 'think': 30, 'way': 31, 'act': 32, 'play': 33, 'made': 34, 'thing': 35, 'could': 36, 'know': 37, 'say': 38, 'seem': 39, 'work': 40, 'plot': 41, 'two': 42, 'actor': 43, 'year': 44, 'come': 45, 'mani': 46, 'seen': 47, 'take': 48, 'want': 49, 'life': 50, 'never': 51, 'littl': 52, 'best': 53, 'tri': 54, 'man': 55, 'ever': 56, 'give': 57, 'better': 58, 'still': 59, 'perform': 60, 'find': 61, 'feel': 62, 'part': 63, 'back': 64, 'use': 65, 'someth': 66, 'director': 67, 'actual': 68, 'interest': 69, 'lot': 70, 'real': 71, 'old': 72, 'cast': 73, 'though': 74, 'live': 75, 'star': 76, 'enjoy': 77, 'guy': 78, 'anoth': 79, 'new': 80, 'role': 81, 'noth': 82, '10': 83, 'funni': 84, 'music': 85, 'point': 86, 'start': 87, 'set': 88, 'girl': 89, 'origin': 90, 'day': 91, 'world': 92, 'everi': 93, 'believ': 94, 'turn': 95, 'quit': 96, 'direct': 97, 'us': 98, 'thought': 99, 'fact': 100, 'minut': 101, 'horror': 102, 'kill': 103, 'action': 104, 'comedi': 105, 'pretti': 106, 'young': 107, 'wonder': 108, 'happen': 109, 'around': 110, 'got': 111, 'effect': 112, 'right': 113, 'long': 114, 'howev': 115, 'big': 116, 'line': 117, 'famili': 118, 'enough': 119, 'seri': 120, 'may': 121, 'need': 122, 'fan': 123, 'bit': 124, 'script': 125, 'beauti': 126, 'person': 127, 'becom': 128, 'without': 129, 'must': 130, 'alway': 131, 'friend': 132, 'tell': 133, 'reason': 134, 'saw': 135, 'last': 136, 'final': 137, 'kid': 138, 'almost': 139, 'put': 140, 'least': 141, 'sure': 142, 'done': 143, 'whole': 144, 'place': 145, 'complet': 146, 'kind': 147, 'expect': 148, 'differ': 149, 'shot': 150, 'far': 151, 'mean': 152, 'anyth': 153, 'book': 154, 'laugh': 155, 'might': 156, 'name': 157, 'sinc': 158, 'begin': 159, '2': 160, 'probabl': 161, 'woman': 162, 'help': 163, 'entertain': 164, 'let': 165, 'screen': 166, 'call': 167, 'tv': 168, 'moment': 169, 'away': 170, 'read': 171, 'yet': 172, 'rather': 173, 'worst': 174, 'run': 175, 'fun': 176, 'lead': 177, 'hard': 178, 'audienc': 179, 'idea': 180, 'anyon': 181, 'episod': 182, 'american': 183, 'found': 184, 'appear': 185, 'bore': 186, 'especi': 187, 'although': 188, 'hope': 189, 'cours': 190, 'keep': 191, 'anim': 192, 'job': 193, 'goe': 194, 'move': 195, 'sens': 196, 'version': 197, 'dvd': 198, 'war': 199, 'money': 200, 'someon': 201, 'mind': 202, 'mayb': 203, 'problem': 204, 'true': 205, 'hous': 206, 'everyth': 207, 'nice': 208, 'second': 209, 'rate': 210, 'three': 211, 'night': 212, 'face': 213, 'follow': 214, 'recommend': 215, 'main': 216, 'product': 217, 'worth': 218, 'leav': 219, 'human': 220, 'special': 221, 'excel': 222, 'togeth': 223, 'wast': 224, 'sound': 225, 'everyon': 226, 'john': 227, 'hand': 228, '1': 229, 'father': 230, 'later': 231, 'eye': 232, 'said': 233, 'view': 234, 'instead': 235, 'review': 236, 'boy': 237, 'high': 238, 'hour': 239, 'miss': 240, 'talk': 241, 'classic': 242, 'wife': 243, 'understand': 244, 'left': 245, 'care': 246, 'black': 247, 'death': 248, 'open': 249, 'murder': 250, 'write': 251, 'half': 252, 'head': 253, 'rememb': 254, 'chang': 255, 'viewer': 256, 'fight': 257, 'gener': 258, 'surpris': 259, 'includ': 260, 'short': 261, 'die': 262, 'fall': 263, 'less': 264, 'els': 265, 'entir': 266, 'piec': 267, 'involv': 268, 'pictur': 269, 'simpli': 270, 'home': 271, 'top': 272, 'power': 273, 'total': 274, 'usual': 275, 'budget': 276, 'attempt': 277, 'suppos': 278, 'releas': 279, 'hollywood': 280, 'terribl': 281, 'song': 282, 'men': 283, 'possibl': 284, 'featur': 285, 'portray': 286, 'disappoint': 287, 'poor': 288, '3': 289, 'coupl': 290, 'camera': 291, 'stupid': 292, 'dead': 293, 'wrong': 294, 'produc': 295, 'low': 296, 'either': 297, 'video': 298, 'aw': 299, 'definit': 300, 'except': 301, 'rest': 302, 'given': 303, 'absolut': 304, 'women': 305, 'lack': 306, 'word': 307, 'writer': 308, 'titl': 309, 'talent': 310, 'decid': 311, 'full': 312, 'perfect': 313, 'along': 314, 'style': 315, 'close': 316, 'truli': 317, 'school': 318, 'emot': 319, 'save': 320, 'age': 321, 'sex': 322, 'next': 323, 'bring': 324, 'mr': 325, 'case': 326, 'killer': 327, 'heart': 328, 'comment': 329, 'sort': 330, 'creat': 331, 'perhap': 332, 'came': 333, 'brother': 334, 'sever': 335, 'joke': 336, 'art': 337, 'dialogu': 338, 'game': 339, 'small': 340, 'base': 341, 'flick': 342, 'written': 343, 'sequenc': 344, 'meet': 345, 'earli': 346, 'often': 347, 'other': 348, 'mother': 349, 'develop': 350, 'humor': 351, 'actress': 352, 'consid': 353, 'dark': 354, 'guess': 355, 'amaz': 356, 'unfortun': 357, 'lost': 358, 'light': 359, 'exampl': 360, 'cinema': 361, 'drama': 362, 'white': 363, 'ye': 364, 'experi': 365, 'imagin': 366, 'mention': 367, 'stop': 368, 'natur': 369, 'forc': 370, 'manag': 371, 'felt': 372, 'cut': 373, 'present': 374, 'children': 375, 'fail': 376, 'son': 377, 'support': 378, 'car': 379, 'qualiti': 380, 'ask': 381, 'hit': 382, 'side': 383, 'voic': 384, 'extrem': 385, 'impress': 386, 'evil': 387, 'wors': 388, 'stand': 389, 'went': 390, 'certainli': 391, 'basic': 392, 'oh': 393, 'overal': 394, 'favorit': 395, 'horribl': 396, 'mysteri': 397, 'number': 398, 'type': 399, 'danc': 400, 'wait': 401, 'hero': 402, 'alreadi': 403, '5': 404, 'learn': 405, 'matter': 406, '4': 407, 'michael': 408, 'genr': 409, 'fine': 410, 'despit': 411, 'throughout': 412, 'walk': 413, 'success': 414, 'histori': 415, 'question': 416, 'zombi': 417, 'town': 418, 'realiz': 419, 'relationship': 420, 'child': 421, 'past': 422, 'daughter': 423, 'late': 424, 'b': 425, 'wish': 426, 'hate': 427, 'credit': 428, 'event': 429, 'theme': 430, 'touch': 431, 'citi': 432, 'today': 433, 'sometim': 434, 'behind': 435, 'god': 436, 'twist': 437, 'sit': 438, 'stay': 439, 'deal': 440, 'annoy': 441, 'abl': 442, 'rent': 443, 'pleas': 444, 'edit': 445, 'blood': 446, 'deserv': 447, 'anyway': 448, 'comic': 449, 'appar': 450, 'soon': 451, 'gave': 452, 'etc': 453, 'level': 454, 'slow': 455, 'chanc': 456, 'score': 457, 'bodi': 458, 'brilliant': 459, 'incred': 460, 'figur': 461, 'situat': 462, 'major': 463, 'self': 464, 'stuff': 465, 'decent': 466, 'element': 467, 'return': 468, 'dream': 469, 'obvious': 470, 'continu': 471, 'order': 472, 'pace': 473, 'ridicul': 474, 'happi': 475, 'group': 476, 'add': 477, 'highli': 478, 'thank': 479, 'ladi': 480, 'novel': 481, 'speak': 482, 'pain': 483, 'career': 484, 'shoot': 485, 'strang': 486, 'heard': 487, 'sad': 488, 'polic': 489, 'husband': 490, 'import': 491, 'break': 492, 'took': 493, 'cannot': 494, 'strong': 495, 'predict': 496, 'robert': 497, 'violenc': 498, 'hilari': 499, 'recent': 500, 'countri': 501, 'known': 502, 'particularli': 503, 'pick': 504, 'documentari': 505, 'season': 506, 'critic': 507, 'jame': 508, 'compar': 509, 'alon': 510, 'obviou': 511, 'told': 512, 'state': 513, 'rock': 514, 'visual': 515, 'theater': 516, 'offer': 517, 'exist': 518, 'opinion': 519, 'gore': 520, 'hold': 521, 'crap': 522, 'result': 523, 'hear': 524, 'realiti': 525, 'room': 526, 'clich': 527, 'effort': 528, 'thriller': 529, 'caus': 530, 'serious': 531, 'explain': 532, 'sequel': 533, 'king': 534, 'local': 535, 'ago': 536, 'hell': 537, 'none': 538, 'note': 539, 'allow': 540, 'sister': 541, 'david': 542, 'simpl': 543, 'femal': 544, 'deliv': 545, 'ok': 546, 'convinc': 547, 'class': 548, 'check': 549, 'suspens': 550, 'win': 551, 'buy': 552, 'oscar': 553, 'huge': 554, 'valu': 555, 'sexual': 556, 'cool': 557, 'scari': 558, 'similar': 559, 'excit': 560, 'exactli': 561, 'provid': 562, 'apart': 563, 'avoid': 564, 'shown': 565, 'seriou': 566, 'english': 567, 'taken': 568, 'whose': 569, 'cinematographi': 570, 'shock': 571, 'polit': 572, 'spoiler': 573, 'offic': 574, 'across': 575, 'middl': 576, 'street': 577, 'pass': 578, 'messag': 579, 'charm': 580, 'somewhat': 581, 'silli': 582, 'modern': 583, 'confus': 584, 'filmmak': 585, 'form': 586, 'tale': 587, 'singl': 588, 'jack': 589, 'mostli': 590, 'attent': 591, 'carri': 592, 'william': 593, 'sing': 594, 'subject': 595, 'five': 596, 'prove': 597, 'richard': 598, 'stage': 599, 'team': 600, 'unlik': 601, 'cop': 602, 'georg': 603, 'monster': 604, 'televis': 605, 'earth': 606, 'villain': 607, 'cover': 608, 'pay': 609, 'marri': 610, 'toward': 611, 'build': 612, 'pull': 613, 'parent': 614, 'due': 615, 'respect': 616, 'fill': 617, 'four': 618, 'dialog': 619, 'remind': 620, 'futur': 621, 'weak': 622, 'typic': 623, '7': 624, 'cheap': 625, 'intellig': 626, 'atmospher': 627, 'british': 628, '80': 629, 'clearli': 630, 'dog': 631, 'paul': 632, 'non': 633, 'knew': 634, 'artist': 635, 'fast': 636, '8': 637, 'crime': 638, 'easili': 639, 'escap': 640, 'doubt': 641, 'adult': 642, 'detail': 643, 'date': 644, 'member': 645, 'fire': 646, 'romant': 647, 'gun': 648, 'drive': 649, 'straight': 650, 'beyond': 651, 'fit': 652, 'attack': 653, 'imag': 654, 'upon': 655, 'posit': 656, 'whether': 657, 'peter': 658, 'fantast': 659, 'appreci': 660, 'captur': 661, 'aspect': 662, 'ten': 663, 'plan': 664, 'discov': 665, 'remain': 666, 'near': 667, 'period': 668, 'realist': 669, 'air': 670, 'mark': 671, 'red': 672, 'dull': 673, 'adapt': 674, 'within': 675, 'spend': 676, 'lose': 677, 'color': 678, 'materi': 679, 'chase': 680, 'mari': 681, 'storylin': 682, 'forget': 683, 'bunch': 684, 'clear': 685, 'lee': 686, 'victim': 687, 'nearli': 688, 'box': 689, 'york': 690, 'match': 691, 'inspir': 692, 'finish': 693, 'mess': 694, 'standard': 695, 'easi': 696, 'truth': 697, 'suffer': 698, 'busi': 699, 'space': 700, 'dramat': 701, 'bill': 702, 'western': 703, 'e': 704, 'list': 705, 'battl': 706, 'notic': 707, 'de': 708, 'french': 709, 'ad': 710, '9': 711, 'tom': 712, 'larg': 713, 'among': 714, 'eventu': 715, 'accept': 716, 'train': 717, 'agre': 718, 'soundtrack': 719, 'spirit': 720, 'third': 721, 'teenag': 722, 'adventur': 723, 'soldier': 724, 'sorri': 725, 'suggest': 726, 'drug': 727, 'famou': 728, 'cri': 729, 'babi': 730, 'normal': 731, 'ultim': 732, 'troubl': 733, 'contain': 734, 'certain': 735, 'cultur': 736, 'romanc': 737, 'rare': 738, 'lame': 739, 'somehow': 740, 'mix': 741, 'disney': 742, 'gone': 743, 'cartoon': 744, 'student': 745, 'fear': 746, 'reveal': 747, 'suck': 748, 'kept': 749, 'attract': 750, 'appeal': 751, 'premis': 752, 'secret': 753, 'greatest': 754, 'design': 755, 'shame': 756, 'throw': 757, 'copi': 758, 'scare': 759, 'wit': 760, 'admit': 761, 'america': 762, 'relat': 763, 'particular': 764, 'brought': 765, 'screenplay': 766, 'whatev': 767, 'pure': 768, '70': 769, 'harri': 770, 'averag': 771, 'master': 772, 'describ': 773, 'male': 774, 'treat': 775, '20': 776, 'fantasi': 777, 'issu': 778, 'warn': 779, 'inde': 780, 'forward': 781, 'background': 782, 'free': 783, 'project': 784, 'memor': 785, 'japanes': 786, 'poorli': 787, 'award': 788, 'locat': 789, 'potenti': 790, 'amus': 791, 'struggl': 792, 'weird': 793, 'magic': 794, 'societi': 795, 'okay': 796, 'accent': 797, 'doctor': 798, 'imdb': 799, 'hot': 800, 'water': 801, 'alien': 802, 'express': 803, 'dr': 804, '30': 805, 'odd': 806, 'choic': 807, 'crazi': 808, 'studio': 809, 'fiction': 810, 'becam': 811, 'control': 812, 'masterpiec': 813, 'fli': 814, 'difficult': 815, 'joe': 816, 'scream': 817, 'costum': 818, 'lover': 819, 'uniqu': 820, 'refer': 821, 'remak': 822, 'girlfriend': 823, 'vampir': 824, 'prison': 825, 'execut': 826, 'wear': 827, 'jump': 828, 'wood': 829, 'unless': 830, 'creepi': 831, 'cheesi': 832, 'superb': 833, 'otherwis': 834, 'parti': 835, 'roll': 836, 'ghost': 837, 'mad': 838, 'public': 839, 'depict': 840, 'earlier': 841, 'jane': 842, 'week': 843, 'moral': 844, 'badli': 845, 'fi': 846, 'dumb': 847, 'flaw': 848, 'grow': 849, 'sci': 850, 'deep': 851, 'cat': 852, 'maker': 853, 'connect': 854, 'footag': 855, 'older': 856, 'bother': 857, 'plenti': 858, 'outsid': 859, 'stick': 860, 'gay': 861, 'catch': 862, 'co': 863, 'plu': 864, 'popular': 865, 'equal': 866, 'social': 867, 'quickli': 868, 'disturb': 869, 'perfectli': 870, 'dress': 871, '90': 872, 'era': 873, 'mistak': 874, 'lie': 875, 'ride': 876, 'previou': 877, 'combin': 878, 'concept': 879, 'band': 880, 'rich': 881, 'surviv': 882, 'answer': 883, 'front': 884, 'sweet': 885, 'christma': 886, 'insid': 887, 'bare': 888, 'concern': 889, 'eat': 890, 'ben': 891, 'listen': 892, 'beat': 893, 'c': 894, 'serv': 895, 'term': 896, 'meant': 897, 'la': 898, 'german': 899, 'hardli': 900, 'stereotyp': 901, 'innoc': 902, 'law': 903, 'desper': 904, 'memori': 905, 'promis': 906, 'intent': 907, 'cute': 908, 'steal': 909, 'variou': 910, 'inform': 911, 'brain': 912, 'post': 913, 'tone': 914, 'island': 915, 'amount': 916, 'track': 917, 'compani': 918, 'nuditi': 919, 'store': 920, 'claim': 921, '50': 922, 'flat': 923, 'hair': 924, 'univers': 925, 'land': 926, 'kick': 927, 'scott': 928, 'fairli': 929, 'danger': 930, 'player': 931, 'step': 932, 'plain': 933, 'crew': 934, 'toni': 935, 'share': 936, 'centuri': 937, 'tast': 938, 'achiev': 939, 'engag': 940, 'cold': 941, 'travel': 942, 'record': 943, 'rip': 944, 'suit': 945, 'sadli': 946, 'manner': 947, 'spot': 948, 'wrote': 949, 'tension': 950, 'fascin': 951, 'intens': 952, 'familiar': 953, 'depth': 954, 'remark': 955, 'burn': 956, 'destroy': 957, 'histor': 958, 'sleep': 959, 'purpos': 960, 'languag': 961, 'ruin': 962, 'ignor': 963, 'delight': 964, 'unbeliev': 965, 'italian': 966, 'collect': 967, 'soul': 968, 'abil': 969, 'detect': 970, 'clever': 971, 'violent': 972, 'rape': 973, 'reach': 974, 'door': 975, 'liter': 976, 'trash': 977, 'scienc': 978, 'reveng': 979, 'commun': 980, 'caught': 981, 'creatur': 982, 'trip': 983, 'approach': 984, 'intrigu': 985, 'fashion': 986, 'introduc': 987, 'paint': 988, 'skill': 989, 'channel': 990, 'complex': 991, 'camp': 992, 'christian': 993, 'extra': 994, 'hole': 995, 'limit': 996, 'mental': 997, 'ann': 998, 'immedi': 999, 'mere': 1000, 'slightli': 1001, '6': 1002, 'million': 1003, 'comput': 1004, 'conclus': 1005, 'slasher': 1006, 'suddenli': 1007, 'imposs': 1008, 'crimin': 1009, 'teen': 1010, 'neither': 1011, 'physic': 1012, 'nation': 1013, 'spent': 1014, 'respons': 1015, 'planet': 1016, 'fake': 1017, 'receiv': 1018, 'sick': 1019, 'blue': 1020, 'bizarr': 1021, 'embarrass': 1022, 'indian': 1023, '15': 1024, 'ring': 1025, 'pop': 1026, 'drop': 1027, 'drag': 1028, 'haunt': 1029, 'suspect': 1030, 'pointless': 1031, 'search': 1032, 'edg': 1033, 'handl': 1034, 'common': 1035, 'biggest': 1036, 'hurt': 1037, 'faith': 1038, 'arriv': 1039, 'technic': 1040, 'angel': 1041, 'genuin': 1042, 'dad': 1043, 'f': 1044, 'awesom': 1045, 'solid': 1046, 'focu': 1047, 'colleg': 1048, 'van': 1049, 'former': 1050, 'count': 1051, 'heavi': 1052, 'tear': 1053, 'rais': 1054, 'wall': 1055, 'younger': 1056, 'visit': 1057, 'laughabl': 1058, 'excus': 1059, 'fair': 1060, 'sign': 1061, 'cult': 1062, 'key': 1063, 'motion': 1064, 'tough': 1065, 'desir': 1066, 'super': 1067, 'addit': 1068, 'stun': 1069, 'exploit': 1070, 'cloth': 1071, 'tortur': 1072, 'smith': 1073, 'race': 1074, 'davi': 1075, 'cross': 1076, 'author': 1077, 'jim': 1078, 'focus': 1079, 'minor': 1080, 'consist': 1081, 'compel': 1082, 'pathet': 1083, 'chemistri': 1084, 'commit': 1085, 'park': 1086, 'frank': 1087, 'obsess': 1088, 'tradit': 1089, 'grade': 1090, '60': 1091, 'asid': 1092, 'brutal': 1093, 'steve': 1094, 'somewher': 1095, 'opportun': 1096, 'rule': 1097, 'grant': 1098, 'explor': 1099, 'u': 1100, 'depress': 1101, 'honest': 1102, 'besid': 1103, 'dub': 1104, 'anti': 1105, 'intend': 1106, 'trailer': 1107, 'bar': 1108, 'scientist': 1109, 'longer': 1110, 'west': 1111, 'regard': 1112, 'decad': 1113, 'judg': 1114, 'silent': 1115, 'creativ': 1116, 'armi': 1117, 'wild': 1118, 'south': 1119, 'stewart': 1120, 'g': 1121, 'draw': 1122, 'road': 1123, 'govern': 1124, 'boss': 1125, 'ex': 1126, 'practic': 1127, 'gang': 1128, 'motiv': 1129, 'festiv': 1130, 'club': 1131, 'surprisingli': 1132, 'redeem': 1133, 'green': 1134, 'london': 1135, 'page': 1136, 'display': 1137, 'militari': 1138, 'aliv': 1139, 'idiot': 1140, 'machin': 1141, 'thrill': 1142, 'repeat': 1143, 'yeah': 1144, 'nobodi': 1145, '100': 1146, 'folk': 1147, '40': 1148, 'garbag': 1149, 'journey': 1150, 'ground': 1151, 'smile': 1152, 'tire': 1153, 'bought': 1154, 'mood': 1155, 'sam': 1156, 'cost': 1157, 'stone': 1158, 'mouth': 1159, 'noir': 1160, 'agent': 1161, 'terrif': 1162, 'utterli': 1163, 'requir': 1164, 'area': 1165, 'honestli': 1166, 'sexi': 1167, 'report': 1168, 'geniu': 1169, 'investig': 1170, 'enter': 1171, 'glad': 1172, 'humour': 1173, 'serial': 1174, 'narr': 1175, 'passion': 1176, 'occasion': 1177, 'climax': 1178, 'marriag': 1179, 'industri': 1180, 'studi': 1181, 'ship': 1182, 'center': 1183, 'charli': 1184, 'nowher': 1185, 'demon': 1186, 'hors': 1187, 'bear': 1188, 'loos': 1189, 'wow': 1190, 'hang': 1191, 'graphic': 1192, 'admir': 1193, 'giant': 1194, 'send': 1195, 'damn': 1196, 'loud': 1197, 'nake': 1198, 'rel': 1199, 'profession': 1200, 'subtl': 1201, 'blow': 1202, 'bottom': 1203, 'insult': 1204, 'batman': 1205, 'doubl': 1206, 'boyfriend': 1207, 'r': 1208, 'kelli': 1209, 'initi': 1210, 'frame': 1211, 'gem': 1212, 'opera': 1213, 'church': 1214, 'challeng': 1215, 'cinemat': 1216, 'affect': 1217, 'drawn': 1218, 'j': 1219, 'l': 1220, 'evid': 1221, 'fulli': 1222, 'seek': 1223, 'nightmar': 1224, 'conflict': 1225, 'arm': 1226, 'essenti': 1227, 'christoph': 1228, 'henri': 1229, 'wind': 1230, 'grace': 1231, 'narrat': 1232, 'witch': 1233, 'assum': 1234, 'hunt': 1235, 'push': 1236, 'chri': 1237, 'wise': 1238, 'repres': 1239, 'nomin': 1240, 'month': 1241, 'affair': 1242, 'sceneri': 1243, 'hide': 1244, 'avail': 1245, 'bond': 1246, 'justic': 1247, 'smart': 1248, 'thu': 1249, 'outstand': 1250, 'flashback': 1251, 'interview': 1252, 'satisfi': 1253, 'constantli': 1254, 'presenc': 1255, 'bed': 1256, 'central': 1257, 'sell': 1258, 'iron': 1259, 'content': 1260, 'gag': 1261, 'everybodi': 1262, 'slowli': 1263, 'hotel': 1264, 'hire': 1265, 'system': 1266, 'charl': 1267, 'individu': 1268, 'adam': 1269, 'hey': 1270, 'thrown': 1271, 'mediocr': 1272, 'allen': 1273, 'jone': 1274, 'billi': 1275, 'ray': 1276, 'lesson': 1277, 'photographi': 1278, 'cameo': 1279, 'fellow': 1280, 'pari': 1281, 'strike': 1282, 'brief': 1283, 'rise': 1284, 'absurd': 1285, 'independ': 1286, 'neg': 1287, 'phone': 1288, 'impact': 1289, 'ill': 1290, 'born': 1291, 'model': 1292, 'angl': 1293, 'fresh': 1294, 'spoil': 1295, 'abus': 1296, 'likabl': 1297, 'discuss': 1298, 'hill': 1299, 'ahead': 1300, 'sight': 1301, 'sent': 1302, 'photograph': 1303, 'logic': 1304, 'blame': 1305, 'occur': 1306, 'shine': 1307, 'mainli': 1308, 'bruce': 1309, 'forev': 1310, 'commerci': 1311, 'skip': 1312, 'segment': 1313, 'held': 1314, 'teacher': 1315, 'surround': 1316, 'blond': 1317, 'zero': 1318, 'resembl': 1319, 'satir': 1320, 'summer': 1321, 'trap': 1322, 'queen': 1323, 'six': 1324, 'fool': 1325, 'ball': 1326, 'sub': 1327, 'twice': 1328, 'tragedi': 1329, 'pack': 1330, 'reaction': 1331, 'bomb': 1332, 'protagonist': 1333, 'hospit': 1334, 'will': 1335, 'mile': 1336, 'sport': 1337, 'jerri': 1338, 'drink': 1339, 'trust': 1340, 'vote': 1341, 'mom': 1342, 'encount': 1343, 'plane': 1344, 'current': 1345, 'al': 1346, 'station': 1347, 'program': 1348, 'martin': 1349, 'celebr': 1350, 'choos': 1351, 'join': 1352, 'tragic': 1353, 'lord': 1354, 'favourit': 1355, 'field': 1356, 'round': 1357, 'vision': 1358, 'jean': 1359, 'robot': 1360, 'arthur': 1361, 'tie': 1362, 'roger': 1363, 'fortun': 1364, 'random': 1365, 'psycholog': 1366, 'intern': 1367, 'dread': 1368, 'prefer': 1369, 'epic': 1370, 'nonsens': 1371, 'improv': 1372, 'pleasur': 1373, 'formula': 1374, 'highlight': 1375, 'legend': 1376, '11': 1377, 'dollar': 1378, 'tape': 1379, 'thin': 1380, 'wide': 1381, 'object': 1382, 'porn': 1383, 'gorgeou': 1384, 'fox': 1385, 'buddi': 1386, 'influenc': 1387, 'ugli': 1388, 'nasti': 1389, 'prepar': 1390, 'ii': 1391, 'progress': 1392, 'warm': 1393, 'reflect': 1394, 'supposedli': 1395, 'youth': 1396, 'worthi': 1397, 'unusu': 1398, 'length': 1399, 'latter': 1400, 'crash': 1401, 'seven': 1402, 'shop': 1403, 'superior': 1404, 'childhood': 1405, 'theatr': 1406, 'remot': 1407, 'pilot': 1408, 'paid': 1409, 'disgust': 1410, 'funniest': 1411, 'fell': 1412, 'trick': 1413, 'castl': 1414, 'convers': 1415, 'establish': 1416, 'gangster': 1417, 'disast': 1418, 'rob': 1419, 'heaven': 1420, 'disappear': 1421, 'mine': 1422, 'suicid': 1423, 'ident': 1424, 'mask': 1425, 'decis': 1426, 'tend': 1427, 'singer': 1428, 'forgotten': 1429, 'heroin': 1430, 'brian': 1431, 'partner': 1432, 'desert': 1433, 'alan': 1434, 'recogn': 1435, 'thoroughli': 1436, 'ms': 1437, 'p': 1438, 'stuck': 1439, 'sky': 1440, 'replac': 1441, 'accur': 1442, 'market': 1443, 'andi': 1444, 'eddi': 1445, 'seemingli': 1446, 'commentari': 1447, 'clue': 1448, 'uncl': 1449, 'danni': 1450, 'jackson': 1451, 'devil': 1452, 'refus': 1453, 'therefor': 1454, 'pair': 1455, 'that': 1456, 'fate': 1457, 'unit': 1458, 'river': 1459, 'fault': 1460, 'accid': 1461, 'ed': 1462, 'tune': 1463, 'afraid': 1464, 'hidden': 1465, 'clean': 1466, 'russian': 1467, 'stephen': 1468, 'irrit': 1469, 'captain': 1470, 'quick': 1471, 'convey': 1472, 'readi': 1473, 'test': 1474, 'instanc': 1475, 'european': 1476, 'daniel': 1477, 'frustrat': 1478, 'insan': 1479, 'rescu': 1480, 'wed': 1481, '1950': 1482, 'chines': 1483, 'food': 1484, 'dirti': 1485, 'angri': 1486, 'lock': 1487, 'joy': 1488, 'steven': 1489, 'price': 1490, 'bland': 1491, 'cage': 1492, 'rang': 1493, 'anymor': 1494, 'wooden': 1495, 'jason': 1496, 'n': 1497, 'rush': 1498, 'news': 1499, 'worri': 1500, 'martial': 1501, 'board': 1502, 'twenti': 1503, '12': 1504, 'led': 1505, 'hunter': 1506, 'transform': 1507, 'cgi': 1508, 'symbol': 1509, 'piti': 1510, 'sentiment': 1511, 'x': 1512, 'onto': 1513, 'johnni': 1514, 'invent': 1515, 'attitud': 1516, 'process': 1517, 'explan': 1518, 'awar': 1519, 'owner': 1520, 'aim': 1521, 'floor': 1522, 'energi': 1523, 'target': 1524, 'favor': 1525, 'necessari': 1526, 'opposit': 1527, 'religi': 1528, 'blind': 1529, 'window': 1530, 'insight': 1531, 'chick': 1532, 'movement': 1533, 'comparison': 1534, 'research': 1535, 'possess': 1536, 'mountain': 1537, 'deepli': 1538, 'whatsoev': 1539, 'comed': 1540, 'rain': 1541, 'grand': 1542, 'bank': 1543, 'shadow': 1544, 'mid': 1545, 'began': 1546, 'princ': 1547, 'parodi': 1548, 'weapon': 1549, 'credibl': 1550, 'taylor': 1551, 'pre': 1552, 'friendship': 1553, 'flesh': 1554, 'dougla': 1555, 'teach': 1556, 'protect': 1557, 'terror': 1558, 'hint': 1559, 'bloodi': 1560, 'marvel': 1561, 'anybodi': 1562, 'accord': 1563, 'load': 1564, 'drunk': 1565, 'watchabl': 1566, 'leader': 1567, 'superman': 1568, 'brown': 1569, 'freddi': 1570, 'appropri': 1571, 'tim': 1572, 'jeff': 1573, 'seat': 1574, 'hitler': 1575, 'knock': 1576, 'villag': 1577, 'charg': 1578, 'keaton': 1579, 'unknown': 1580, 'enemi': 1581, 'media': 1582, 'england': 1583, 'unnecessari': 1584, 'empti': 1585, 'dare': 1586, 'perspect': 1587, 'utter': 1588, 'strength': 1589, 'wave': 1590, 'craft': 1591, 'buck': 1592, 'ford': 1593, 'nativ': 1594, 'contrast': 1595, 'correct': 1596, 'kiss': 1597, 'speed': 1598, 'magnific': 1599, 'anywher': 1600, 'distract': 1601, 'knowledg': 1602, 'soap': 1603, 'chill': 1604, 'nazi': 1605, 'mission': 1606, 'fred': 1607, '1980': 1608, 'ice': 1609, 'breath': 1610, 'jr': 1611, 'moon': 1612, 'crowd': 1613, 'joan': 1614, 'frighten': 1615, 'kate': 1616, '000': 1617, 'soft': 1618, 'dan': 1619, 'nick': 1620, 'hundr': 1621, 'dick': 1622, 'somebodi': 1623, 'radio': 1624, 'dozen': 1625, 'simon': 1626, 'shakespear': 1627, 'academi': 1628, 'thousand': 1629, 'loss': 1630, 'andrew': 1631, 'sum': 1632, 'root': 1633, 'vehicl': 1634, 'quot': 1635, 'account': 1636, 'convent': 1637, 'behavior': 1638, '1970': 1639, 'leg': 1640, 'regular': 1641, 'gold': 1642, 'compet': 1643, 'worker': 1644, 'demand': 1645, 'pretenti': 1646, 'privat': 1647, 'stretch': 1648, 'explos': 1649, 'candi': 1650, 'japan': 1651, 'notabl': 1652, 'interpret': 1653, 'lynch': 1654, 'debut': 1655, 'constant': 1656, 'tarzan': 1657, 'spi': 1658, 'prais': 1659, 'revolv': 1660, 'translat': 1661, 'sea': 1662, 'ass': 1663, 'threaten': 1664, 'franc': 1665, 'quiet': 1666, 'failur': 1667, 'technolog': 1668, 'jesu': 1669, 'sat': 1670, 'aid': 1671, 'met': 1672, 'kevin': 1673, 'toy': 1674, 'higher': 1675, 'punch': 1676, 'abandon': 1677, 'interact': 1678, 'mike': 1679, 'vh': 1680, 'command': 1681, 'bet': 1682, 'separ': 1683, 'confront': 1684, 'recal': 1685, 'site': 1686, 'techniqu': 1687, 'servic': 1688, 'gotten': 1689, 'belong': 1690, 'stunt': 1691, 'foot': 1692, 'cabl': 1693, 'freak': 1694, 'bug': 1695, 'african': 1696, 'bright': 1697, 'fu': 1698, 'capabl': 1699, 'jimmi': 1700, 'fat': 1701, 'succeed': 1702, 'stock': 1703, 'presid': 1704, 'boat': 1705, 'clark': 1706, 'gene': 1707, 'spanish': 1708, 'structur': 1709, 'kidnap': 1710, 'paper': 1711, 'whilst': 1712, 'factor': 1713, 'belief': 1714, 'witti': 1715, 'realism': 1716, 'realis': 1717, 'educ': 1718, 'bob': 1719, 'complic': 1720, 'attend': 1721, 'tree': 1722, 'santa': 1723, 'broken': 1724, 'finest': 1725, 'assist': 1726, 'v': 1727, 'depart': 1728, 'determin': 1729, 'observ': 1730, 'up': 1731, 'smoke': 1732, 'routin': 1733, 'fame': 1734, 'rubbish': 1735, 'domin': 1736, 'lewi': 1737, 'hat': 1738, 'oper': 1739, 'morgan': 1740, 'hook': 1741, 'advanc': 1742, 'lone': 1743, 'foreign': 1744, 'kinda': 1745, 'safe': 1746, 'rank': 1747, 'numer': 1748, 'shallow': 1749, 'vs': 1750, 'civil': 1751, 'rose': 1752, 'washington': 1753, 'werewolf': 1754, 'shape': 1755, 'gari': 1756, 'morn': 1757, 'ordinari': 1758, 'accomplish': 1759, 'winner': 1760, 'kong': 1761, 'virtual': 1762, 'whenev': 1763, 'peac': 1764, 'grab': 1765, 'offens': 1766, 'luck': 1767, 'h': 1768, 'contriv': 1769, 'unfunni': 1770, 'activ': 1771, 'patient': 1772, 'welcom': 1773, 'bigger': 1774, 'complain': 1775, 'pretend': 1776, 'dimension': 1777, 'con': 1778, 'trek': 1779, 'flash': 1780, 'code': 1781, 'wake': 1782, 'eric': 1783, 'cain': 1784, 'dri': 1785, 'lesbian': 1786, 'guard': 1787, 'corrupt': 1788, 'manipul': 1789, 'dancer': 1790, 'albert': 1791, 'statu': 1792, 'awkward': 1793, 'speech': 1794, 'gain': 1795, 'signific': 1796, 'sourc': 1797, 'context': 1798, '13': 1799, 'anthoni': 1800, 'sean': 1801, 'clip': 1802, 'corni': 1803, 'psycho': 1804, 'curiou': 1805, 'reli': 1806, 'advic': 1807, 'priest': 1808, 'theatric': 1809, 'w': 1810, 'religion': 1811, 'addict': 1812, 'flow': 1813, 'jennif': 1814, 'specif': 1815, 'howard': 1816, 'secur': 1817, 'asian': 1818, 'skin': 1819, 'promot': 1820, 'comfort': 1821, 'core': 1822, 'luke': 1823, 'organ': 1824, 'golden': 1825, 'cheat': 1826, 'lucki': 1827, 'cash': 1828, 'lower': 1829, 'associ': 1830, 'dislik': 1831, 'balanc': 1832, 'contribut': 1833, 'devic': 1834, 'spell': 1835, 'frequent': 1836, 'wing': 1837, 'regret': 1838, 'frankli': 1839, 'degre': 1840, 'print': 1841, 'forgiv': 1842, 'sake': 1843, 'lake': 1844, 'betti': 1845, 'thoma': 1846, 'mass': 1847, 'unexpect': 1848, 'gordon': 1849, 'crack': 1850, 'amateur': 1851, 'invit': 1852, 'unfold': 1853, 'categori': 1854, 'depend': 1855, 'construct': 1856, 'grown': 1857, 'grew': 1858, 'condit': 1859, 'matur': 1860, 'honor': 1861, 'anna': 1862, 'walter': 1863, 'intellectu': 1864, 'mirror': 1865, 'spectacular': 1866, 'sudden': 1867, 'veteran': 1868, 'sole': 1869, 'gift': 1870, 'liner': 1871, 'meanwhil': 1872, 'overli': 1873, 'demonstr': 1874, 'card': 1875, 'grip': 1876, 'robin': 1877, 'experienc': 1878, 'freedom': 1879, 'circumst': 1880, 'theori': 1881, 'crappi': 1882, 'oliv': 1883, 'colour': 1884, 'section': 1885, 'sheriff': 1886, 'brilliantli': 1887, 'unabl': 1888, 'subtitl': 1889, 'drew': 1890, 'laughter': 1891, 'pile': 1892, 'matt': 1893, 'path': 1894, 'sheer': 1895, 'altern': 1896, 'parker': 1897, 'cook': 1898, 'wander': 1899, 'sinatra': 1900, 'hall': 1901, 'relief': 1902, 'treatment': 1903, 'accident': 1904, 'defin': 1905, 'lawyer': 1906, 'captiv': 1907, 'hank': 1908, 'dragon': 1909, 'moor': 1910, 'gratuit': 1911, 'halloween': 1912, 'cowboy': 1913, 'wayn': 1914, 'barbara': 1915, 'k': 1916, 'broadway': 1917, 'wound': 1918, 'unintent': 1919, 'kung': 1920, 'jacki': 1921, 'surreal': 1922, 'spoof': 1923, 'winter': 1924, 'statement': 1925, 'canadian': 1926, 'fare': 1927, 'compos': 1928, 'gonna': 1929, 'cheer': 1930, 'fish': 1931, 'treasur': 1932, 'victor': 1933, 'woodi': 1934, 'sensit': 1935, 'emerg': 1936, 'unrealist': 1937, 'driven': 1938, 'sympathet': 1939, 'ran': 1940, 'neighbor': 1941, 'topic': 1942, 'menac': 1943, 'authent': 1944, 'overlook': 1945, 'expos': 1946, 'glass': 1947, 'chief': 1948, 'gross': 1949, 'handsom': 1950, 'ancient': 1951, 'michel': 1952, 'comedian': 1953, 'nevertheless': 1954, 'network': 1955, 'pleasant': 1956, 'contemporari': 1957, 'russel': 1958, 'feet': 1959, 'cinderella': 1960, 'built': 1961, 'stranger': 1962, 'miser': 1963, 'gori': 1964, 'underr': 1965, 'earn': 1966, 'blockbust': 1967, 'consider': 1968, 'endless': 1969, 'letter': 1970, 'solv': 1971, 'brook': 1972, 'switch': 1973, 'bullet': 1974, 'convict': 1975, 'joseph': 1976, 'edward': 1977, 'virgin': 1978, 'victoria': 1979, 'cynic': 1980, 'scale': 1981, 'scenario': 1982, 'chosen': 1983, '0': 1984, 'alex': 1985, 'curs': 1986, 'com': 1987, 'gut': 1988, 'outrag': 1989, 'sword': 1990, 'substanc': 1991, 'uk': 1992, 'screenwrit': 1993, 'juli': 1994, 'driver': 1995, 'proper': 1996, 'wrap': 1997, 'monkey': 1998, 'bird': 1999, 'par': 2000, 'remov': 2001, 'indic': 2002, 'court': 2003, 'consequ': 2004, 'loser': 2005, 'roy': 2006, 'rental': 2007, 'inevit': 2008, 'grave': 2009, 'advertis': 2010, 'naiv': 2011, 'nanci': 2012, 'le': 2013, 'slap': 2014, 'bridg': 2015, 'invis': 2016, 'germani': 2017, 'brave': 2018, 'fatal': 2019, 'loui': 2020, 'anger': 2021, 'ador': 2022, 'footbal': 2023, 'provok': 2024, 'anderson': 2025, 'alcohol': 2026, 'chan': 2027, 'ryan': 2028, 'professor': 2029, 'stumbl': 2030, 'willi': 2031, 'bat': 2032, 'australian': 2033, 'sharp': 2034, 'assassin': 2035, '1930': 2036, 'patrick': 2037, 'refresh': 2038, 'lousi': 2039, 'cell': 2040, 'heck': 2041, 'liber': 2042, 'trilog': 2043, 'saturday': 2044, 'amateurish': 2045, 'eight': 2046, 'ape': 2047, 'deni': 2048, 'strongli': 2049, 'sin': 2050, 'san': 2051, 'justifi': 2052, 'resid': 2053, 'vagu': 2054, 'creator': 2055, 'reput': 2056, 'indi': 2057, 'terrifi': 2058, 'defeat': 2059, 'sympathi': 2060, 'mini': 2061, 'tediou': 2062, 'expert': 2063, 'prevent': 2064, 'task': 2065, 'endur': 2066, 'tabl': 2067, 'basebal': 2068, 'che': 2069, 'employ': 2070, 'trial': 2071, 'imit': 2072, 'offend': 2073, 'rival': 2074, 'weekend': 2075, 'beach': 2076, 'max': 2077, 'dig': 2078, 'fairi': 2079, 'complaint': 2080, 'pitch': 2081, 'europ': 2082, 'murphi': 2083, 'purchas': 2084, 'format': 2085, 'risk': 2086, 'tini': 2087, 'glimps': 2088, 'titan': 2089, 'harsh': 2090, 'nois': 2091, 'reminisc': 2092, 'hype': 2093, 'bite': 2094, 'powel': 2095, 'strip': 2096, 'prime': 2097, 'till': 2098, '14': 2099, 'north': 2100, 'fals': 2101, 'asleep': 2102, 'texa': 2103, 'africa': 2104, 'descript': 2105, 'revel': 2106, 'destruct': 2107, 'surfac': 2108, 'inner': 2109, 'uninterest': 2110, 'sitcom': 2111, 'semi': 2112, 'spin': 2113, 'arrest': 2114, 'excess': 2115, 'massiv': 2116, 'dinosaur': 2117, 'makeup': 2118, 'controversi': 2119, 'twin': 2120, 'argu': 2121, 'maintain': 2122, 'hitchcock': 2123, 'reject': 2124, 'ideal': 2125, 'kim': 2126, 'melodrama': 2127, 'stare': 2128, 'expens': 2129, 'insist': 2130, 'ludicr': 2131, 'atroci': 2132, 'erot': 2133, 'host': 2134, 'ga': 2135, 'press': 2136, 'columbo': 2137, 'supernatur': 2138, 'ala': 2139, 'nail': 2140, 'subplot': 2141, 'forest': 2142, 'dude': 2143, 'presum': 2144, 'notch': 2145, 'cant': 2146, 'identifi': 2147, 'closer': 2148, 'guest': 2149, 'character': 2150, 'method': 2151, 'forgett': 2152, 'crude': 2153, 'plagu': 2154, 'beast': 2155, 'foster': 2156, 'border': 2157, 'ear': 2158, 'lion': 2159, 'princess': 2160, 'landscap': 2161, 'accus': 2162, 'birth': 2163, 'urban': 2164, 'jungl': 2165, 'bound': 2166, 'previous': 2167, 'pacino': 2168, 'damag': 2169, 'aunt': 2170, 'storytel': 2171, 'guid': 2172, 'propaganda': 2173, 'doll': 2174, 'thirti': 2175, 'jess': 2176, 'chose': 2177, 'nude': 2178, 'emma': 2179, 'pet': 2180, 'mate': 2181, 'warrior': 2182, '25': 2183, 'mainstream': 2184, 'whoever': 2185, 'exact': 2186, 'upset': 2187, 'cooper': 2188, 'gritti': 2189, 'latest': 2190, 'poster': 2191, 'deadli': 2192, 'friday': 2193, 'size': 2194, 'merit': 2195, 'corps': 2196, 'wilson': 2197, 'contest': 2198, 'ton': 2199, 'buff': 2200, 'contact': 2201, 'warner': 2202, 'settl': 2203, '1990': 2204, 'blend': 2205, 'rough': 2206, 'popul': 2207, 'citizen': 2208, 'sun': 2209, 'bu': 2210, 'metal': 2211, 'alic': 2212, 'widow': 2213, 'environ': 2214, 'pitt': 2215, 'mgm': 2216, 'overcom': 2217, 'rat': 2218, 'select': 2219, 'particip': 2220, 'guilti': 2221, 'link': 2222, 'lift': 2223, 'ted': 2224, 'revolut': 2225, 'prostitut': 2226, 'johnson': 2227, 'corner': 2228, 'exagger': 2229, 'corpor': 2230, 'moron': 2231, 'afternoon': 2232, 'matrix': 2233, 'accompani': 2234, '1960': 2235, 'clair': 2236, 'hood': 2237, 'friendli': 2238, 'holm': 2239, 'leagu': 2240, 'instal': 2241, 'multipl': 2242, 'sincer': 2243, 'doom': 2244, 'hip': 2245, 'irish': 2246, 'junk': 2247, 'grim': 2248, 'campi': 2249, 'defend': 2250, 'aka': 2251, 'sunday': 2252, 'advis': 2253, 'blah': 2254, 'examin': 2255, 'string': 2256, 'lugosi': 2257, 'shake': 2258, 'icon': 2259, 'shut': 2260, 'tight': 2261, 'pro': 2262, 'confid': 2263, 'varieti': 2264, 'rachel': 2265, 'denni': 2266, 'attach': 2267, 'jaw': 2268, 'directli': 2269, 'sullivan': 2270, 'goal': 2271, 'medic': 2272, 'mexican': 2273, 'sentenc': 2274, 'duke': 2275, 'courag': 2276, 'sarah': 2277, 'prior': 2278, 'vietnam': 2279, 'bourn': 2280, 'legendari': 2281, 'truck': 2282, 'terrorist': 2283, 'breast': 2284, 'dean': 2285, 'nose': 2286, 'yell': 2287, 'un': 2288, 'proceed': 2289, 'split': 2290, 'behav': 2291, 'hong': 2292, 'entri': 2293, 'donald': 2294, 'borrow': 2295, 'confess': 2296, 'stolen': 2297, 'crush': 2298, 'unconvinc': 2299, 'buri': 2300, 'forth': 2301, 'lifetim': 2302, 'concentr': 2303, 'jerk': 2304, 'gather': 2305, 'swim': 2306, 'everywher': 2307, 'pan': 2308, 'julia': 2309, 'deliveri': 2310, 'turkey': 2311, 'lip': 2312, 'spite': 2313, 'california': 2314, 'freeman': 2315, 'china': 2316, 'flight': 2317, 'quest': 2318, 'offici': 2319, 'proud': 2320, 'hoffman': 2321, 'downright': 2322, 'reward': 2323, 'inept': 2324, 'lazi': 2325, 'fade': 2326, 'jail': 2327, 'sir': 2328, 'fabul': 2329, 'encourag': 2330, 'notori': 2331, 'betray': 2332, 'worthwhil': 2333, 'sink': 2334, 'jon': 2335, 'bag': 2336, 'retard': 2337, 'shower': 2338, 'storm': 2339, 'survivor': 2340, 'bell': 2341, 'relev': 2342, 'cousin': 2343, 'susan': 2344, 'lisa': 2345, 'branagh': 2346, 'imageri': 2347, 'teeth': 2348, 'alright': 2349, 'summari': 2350, 'bride': 2351, 'finger': 2352, 'trade': 2353, 'hugh': 2354, 'quirki': 2355, 'toler': 2356, 'facial': 2357, 'shark': 2358, 'stab': 2359, 'tremend': 2360, 'mexico': 2361, 'blown': 2362, 'von': 2363, 'pose': 2364, 'hyster': 2365, 'bitter': 2366, 'ha': 2367, 'larri': 2368, 'afterward': 2369, 'ron': 2370, 'address': 2371, 'cruel': 2372, 'christ': 2373, 'scheme': 2374, 'ned': 2375, 'bone': 2376, 'swear': 2377, 'tour': 2378, 'traci': 2379, 'thumb': 2380, 'pursu': 2381, 'screw': 2382, 'beg': 2383, 'feed': 2384, 'snake': 2385, 'distinct': 2386, 'occas': 2387, 'stomach': 2388, 'mechan': 2389, 'chair': 2390, 'photo': 2391, 'raw': 2392, 'obscur': 2393, 'argument': 2394, 'holiday': 2395, 'hardi': 2396, 'sidney': 2397, 'chain': 2398, 'cabin': 2399, 'southern': 2400, 'resist': 2401, 'necessarili': 2402, 'heavili': 2403, 'gruesom': 2404, 'render': 2405, 'indulg': 2406, 'philip': 2407, 'understood': 2408, 'india': 2409, 'racist': 2410, 'satan': 2411, 'lay': 2412, 'tongu': 2413, 'fourth': 2414, 'belov': 2415, 'integr': 2416, 'outfit': 2417, 'obnoxi': 2418, 'midnight': 2419, 'stalk': 2420, 'forgot': 2421, 'pregnant': 2422, 'inhabit': 2423, 'slapstick': 2424, 'garden': 2425, 'magazin': 2426, 'ticket': 2427, 'carol': 2428, '17': 2429, 'deeper': 2430, 'restor': 2431, 'incid': 2432, 'shoe': 2433, 'brad': 2434, 'devot': 2435, 'lincoln': 2436, 'anticip': 2437, 'guarante': 2438, 'disbelief': 2439, 'benefit': 2440, 'maria': 2441, 'divorc': 2442, 'underground': 2443, 'sandler': 2444, 'elizabeth': 2445, 'lili': 2446, 'slave': 2447, 'greater': 2448, 'cring': 2449, 'explod': 2450, 'creation': 2451, 'princip': 2452, 'capit': 2453, 'amazingli': 2454, 'mildli': 2455, 'bbc': 2456, 'extraordinari': 2457, 'lesli': 2458, 'funnier': 2459, 'halfway': 2460, 'introduct': 2461, 'punish': 2462, 'advantag': 2463, 'enhanc': 2464, 'text': 2465, 'extent': 2466, 'overwhelm': 2467, 'wreck': 2468, 'tap': 2469, 'transfer': 2470, 'east': 2471, 'horrif': 2472, 'error': 2473, 'preview': 2474, 'dynam': 2475, 'jessica': 2476, 'plant': 2477, 'deliber': 2478, 'lane': 2479, 'lo': 2480, 'sophist': 2481, 'miscast': 2482, '2000': 2483, 'vacat': 2484, 'homosexu': 2485, 'basi': 2486, 'vincent': 2487, 'miller': 2488, 'ensu': 2489, 'appli': 2490, 'spoken': 2491, 'via': 2492, 'extend': 2493, 'elev': 2494, 'reed': 2495, 'uncomfort': 2496, 'sleazi': 2497, 'steel': 2498, 'measur': 2499, 'bollywood': 2500, 'mansion': 2501, 'fix': 2502, 'alter': 2503, 'beer': 2504, 'overact': 2505, 'goofi': 2506, 'assign': 2507, 'blair': 2508, 'stanley': 2509, 'conceiv': 2510, 'melt': 2511, 'breathtak': 2512, 'mous': 2513, 'daili': 2514, 'hippi': 2515, 'cathol': 2516, 'dentist': 2517, 'savag': 2518, 'oppos': 2519, 'properli': 2520, 'succe': 2521, 'nowaday': 2522, 'inspector': 2523, 'burt': 2524, 'subsequ': 2525, 'sacrific': 2526, 'carpent': 2527, 'everyday': 2528, 'neck': 2529, 'laura': 2530, 'block': 2531, 'circl': 2532, 'massacr': 2533, 'concert': 2534, 'pool': 2535, 'fallen': 2536, 'lesser': 2537, 'mob': 2538, 'christi': 2539, 'portrait': 2540, 'grey': 2541, 'access': 2542, 'fay': 2543, 'seagal': 2544, 'sinist': 2545, 'chees': 2546, 'isol': 2547, 'jewish': 2548, 'react': 2549, 'competit': 2550, 'usa': 2551, 'jake': 2552, 'relax': 2553, 'creep': 2554, 'suitabl': 2555, 'ironi': 2556, 'lyric': 2557, 'appal': 2558, 'stink': 2559, 'nine': 2560, 'chop': 2561, 'spiritu': 2562, 'immens': 2563, '2006': 2564, 'nonetheless': 2565, 'sold': 2566, 'navi': 2567, 'rage': 2568, 'needless': 2569, 'shirt': 2570, 'franchis': 2571, 'spring': 2572, 'retir': 2573, 'nut': 2574, 'showcas': 2575, 'user': 2576, 'reduc': 2577, 'adopt': 2578, 'luci': 2579, 'uninspir': 2580, 'nurs': 2581, 'asham': 2582, 'bath': 2583, 'jay': 2584, 'per': 2585, 'digit': 2586, 'zone': 2587, 'bulli': 2588, 'stanwyck': 2589, 'illustr': 2590, 'laid': 2591, 'broadcast': 2592, 'sutherland': 2593, 'oddli': 2594, 'amongst': 2595, 'upper': 2596, '1940': 2597, '2001': 2598, 'baker': 2599, 'brando': 2600, 'throat': 2601, 'fulfil': 2602, 'disguis': 2603, 'stylish': 2604, 'aspir': 2605, 'pride': 2606, 'endear': 2607, 'impli': 2608, 'thief': 2609, 'pound': 2610, 'wwii': 2611, 'nobl': 2612, 'em': 2613, 'wanna': 2614, '18': 2615, 'neighborhood': 2616, 'cinematograph': 2617, 'diseas': 2618, 'distribut': 2619, 'tens': 2620, 'shift': 2621, '16': 2622, 'bo': 2623, 'dinner': 2624, 'bett': 2625, 'shoulder': 2626, 'coher': 2627, 'prop': 2628, 'rochest': 2629, 'dawn': 2630, 'albeit': 2631, 'function': 2632, 'rebel': 2633, 'contract': 2634, 'matthau': 2635, 'snow': 2636, 'poignant': 2637, 'shout': 2638, 'knife': 2639, 'silenc': 2640, 'wash': 2641, 'forti': 2642, 'surf': 2643, 'duti': 2644, 'cancel': 2645, 'cannib': 2646, 'reunion': 2647, 'height': 2648, 'henc': 2649, 'heat': 2650, 'proof': 2651, 'widmark': 2652, 'chuck': 2653, 'internet': 2654, 'silver': 2655, 'horrend': 2656, 'eeri': 2657, 'mindless': 2658, 'elvira': 2659, 'instinct': 2660, 'derek': 2661, 'pie': 2662, 'alik': 2663, 'greatli': 2664, 'musician': 2665, 'innov': 2666, 'torn': 2667, 'etern': 2668, 'premier': 2669, 'mill': 2670, 'neat': 2671, 'absorb': 2672, 'spielberg': 2673, 'incoher': 2674, 'repetit': 2675, 'glori': 2676, 'elvi': 2677, 'homag': 2678, 'fbi': 2679, 'infam': 2680, 'diamond': 2681, 'horrifi': 2682, 'precis': 2683, 'racism': 2684, 'britain': 2685, 'nelson': 2686, 'redempt': 2687, 'announc': 2688, 'crisi': 2689, 'bang': 2690, 'burton': 2691, 'itali': 2692, 'trite': 2693, 'wealthi': 2694, 'lovabl': 2695, 'blank': 2696, 'happili': 2697, 'dedic': 2698, 'pat': 2699, 'ensembl': 2700, 'streisand': 2701, 'chaplin': 2702, 'flop': 2703, 'helen': 2704, 'parallel': 2705, 'hammer': 2706, 'resolut': 2707, 'wilder': 2708, 'disagre': 2709, 'oil': 2710, 'st': 2711, 'factori': 2712, 'carter': 2713, 'conclud': 2714, 'mar': 2715, 'triumph': 2716, 'cube': 2717, 'plastic': 2718, 'broke': 2719, 'march': 2720, 'own': 2721, 'climb': 2722, 'row': 2723, 'fighter': 2724, 'chuckl': 2725, 'weight': 2726, 'rocket': 2727, 'vega': 2728, 'bush': 2729, 'dane': 2730, 'luca': 2731, 'wherea': 2732, 'boot': 2733, 'mst3k': 2734, 'thug': 2735, 'dump': 2736, 'sensibl': 2737, 'spare': 2738, 'unforgett': 2739, 'kurt': 2740, 'enorm': 2741, 'meaning': 2742, 'lust': 2743, 'butt': 2744, 'brand': 2745, 'caricatur': 2746, 'bobbi': 2747, 'dear': 2748, 'fifti': 2749, 'engin': 2750, 'threat': 2751, 'stress': 2752, 'arnold': 2753, 'adequ': 2754, 'difficulti': 2755, 'rap': 2756, 'karloff': 2757, 'ego': 2758, 'ralph': 2759, 'journalist': 2760, 'secretari': 2761, 'arrog': 2762, 'swing': 2763, 'flynn': 2764, 'fest': 2765, 'polish': 2766, 'homeless': 2767, 'elabor': 2768, 'barri': 2769, 'hamlet': 2770, 'unbear': 2771, 'simpson': 2772, 'puppet': 2773, 'resort': 2774, 'tool': 2775, 'induc': 2776, 'fanci': 2777, 'conspiraci': 2778, 'spike': 2779, 'grate': 2780, 'arrang': 2781, 'float': 2782, 'cruis': 2783, 'pig': 2784, 'muppet': 2785, 'basement': 2786, 'guilt': 2787, 'tribut': 2788, 'choreograph': 2789, 'phillip': 2790, 'exercis': 2791, 'boll': 2792, '24': 2793, 'toilet': 2794, 'item': 2795, 'puzzl': 2796, 'layer': 2797, 'ham': 2798, 'korean': 2799, 'fianc': 2800, 'file': 2801, 'editor': 2802, 'slip': 2803, 'tower': 2804, 'stan': 2805, 'babe': 2806, 'ward': 2807, 'medium': 2808, 'document': 2809, 'scarecrow': 2810, 'slaughter': 2811, 'superfici': 2812, 'territori': 2813, 'librari': 2814, 'catherin': 2815, 'spark': 2816, 'minim': 2817, 'orient': 2818, 'assur': 2819, 'inexplic': 2820, 'transit': 2821, 'glover': 2822, 'larger': 2823, 'philosoph': 2824, 'doc': 2825, 'portion': 2826, 'persona': 2827, 'denzel': 2828, 'financi': 2829, 'walken': 2830, 'owe': 2831, 'dorothi': 2832, 'curti': 2833, 'ban': 2834, 'pg': 2835, 'jet': 2836, 'boredom': 2837, 'shi': 2838, 'wolf': 2839, 'jeremi': 2840, 'sneak': 2841, 'multi': 2842, 'ambigu': 2843, 'backdrop': 2844, 'profound': 2845, 'hudson': 2846, 'metaphor': 2847, 'eleph': 2848, 'cusack': 2849, 'whale': 2850, 'rave': 2851, 'notion': 2852, 'ultra': 2853, 'gadget': 2854, 'union': 2855, 'hack': 2856, 'elsewher': 2857, 'implaus': 2858, 'birthday': 2859, 'viru': 2860, 'stiff': 2861, '2005': 2862, 'poison': 2863, 'squar': 2864, 'urg': 2865, 'lloyd': 2866, 'newspap': 2867, 'eva': 2868, 'canada': 2869, 'hawk': 2870, 'slight': 2871, 'pad': 2872, 'distanc': 2873, 'reader': 2874, 'superhero': 2875, '1st': 2876, 'afford': 2877, 'bibl': 2878, 'disc': 2879, 'deriv': 2880, 'eastwood': 2881, 'charisma': 2882, 'health': 2883, 'cure': 2884, 'drown': 2885, 'spread': 2886, 'huh': 2887, 'heston': 2888, 'button': 2889, 'skit': 2890, 'essenc': 2891, 'sadist': 2892, 'restaur': 2893, 'montag': 2894, 'scoobi': 2895, 'gradual': 2896, 'dealt': 2897, 'maniac': 2898, 'lab': 2899, 'godfath': 2900, 'peak': 2901, 'estat': 2902, 'muslim': 2903, 'fetch': 2904, 'invest': 2905, 'companion': 2906, 'subtleti': 2907, 'cup': 2908, 'alli': 2909, 'kane': 2910, 'tea': 2911, 'ritter': 2912, 'gothic': 2913, 'miik': 2914, 'countless': 2915, 'servant': 2916, 'charismat': 2917, 'briefli': 2918, 'iii': 2919, 'elect': 2920, 'salli': 2921, 'electr': 2922, 'heroic': 2923, 'nuanc': 2924, 'reel': 2925, 'ingredi': 2926, 'grandmoth': 2927, 'wannab': 2928, 'neil': 2929, 'resourc': 2930, 'admittedli': 2931, 'tender': 2932, 'bud': 2933, 'cole': 2934, 'toss': 2935, 'carrey': 2936, 'gate': 2937, 'kubrick': 2938, 'poverti': 2939, 'pauli': 2940, 'punk': 2941, 'mild': 2942, 'dawson': 2943, 'stronger': 2944, 'stood': 2945, 'shall': 2946, 'reev': 2947, 'pit': 2948, 'label': 2949, 'mafia': 2950, 'fond': 2951, 'assault': 2952, 'outcom': 2953, 'bakshi': 2954, 'burst': 2955, 'ian': 2956, 'tag': 2957, 'cardboard': 2958, 'smooth': 2959, 'astair': 2960, 'smash': 2961, 'easier': 2962, 'useless': 2963, 'terri': 2964, 'cox': 2965, 'updat': 2966, 'qualifi': 2967, 'vulner': 2968, '2002': 2969, 'fist': 2970, 'rex': 2971, 'sketch': 2972, 'vari': 2973, 'coincid': 2974, 'exchang': 2975, 'resolv': 2976, 'samurai': 2977, 'divers': 2978, 'increasingli': 2979, 'melodramat': 2980, 'luckili': 2981, 'reynold': 2982, 'tame': 2983, 'scratch': 2984, 'suspend': 2985, 'be': 2986, 'brillianc': 2987, 'blast': 2988, 'conveni': 2989, 'insert': 2990, 'templ': 2991, 'nuclear': 2992, 'gotta': 2993, 'walker': 2994, 'ambiti': 2995, 'farm': 2996, 'pin': 2997, 'jami': 2998, 'matthew': 2999, 'coach': 3000, 'strictli': 3001, 'seventi': 3002, 'soprano': 3003, 'meat': 3004, 'hamilton': 3005, 'fisher': 3006, 'revers': 3007, 'empir': 3008, 'grasp': 3009, 'clock': 3010, 'convolut': 3011, 'butcher': 3012, 'eccentr': 3013, 'ninja': 3014, 'timeless': 3015, 'worthless': 3016, 'instantli': 3017, 'spooki': 3018, 'closet': 3019, 'monk': 3020, 'kudo': 3021, 'brosnan': 3022, 'cave': 3023, 'joey': 3024, 'recreat': 3025, 'discoveri': 3026, 'struck': 3027, 'fifteen': 3028, 'importantli': 3029, 'eighti': 3030, 'bleak': 3031, 'declar': 3032, 'miracl': 3033, 'communist': 3034, 'gray': 3035, 'evok': 3036, 'wipe': 3037, 'inconsist': 3038, 'seller': 3039, 'cliff': 3040, 'pal': 3041, 'selfish': 3042, 'partli': 3043, 'mitchel': 3044, 'norman': 3045, 'sloppi': 3046, 'sidekick': 3047, 'clown': 3048, 'aforement': 3049, 'psychiatrist': 3050, 'seed': 3051, 'flawless': 3052, 'enthusiast': 3053, 'australia': 3054, 'lifestyl': 3055, 'chew': 3056, 'cheek': 3057, 'piano': 3058, 'farc': 3059, 'debat': 3060, '45': 3061, 'superbl': 3062, 'websit': 3063, 'destin': 3064, 'stoog': 3065, 'ho': 3066, 'drivel': 3067, 'dire': 3068, 'directori': 3069, 'anni': 3070, 'kitchen': 3071, 'soviet': 3072, 'incompet': 3073, 'slice': 3074, 'bash': 3075, 'wrestl': 3076, 'wick': 3077, 'dash': 3078, 'abc': 3079, 'akshay': 3080, 'emili': 3081, 'pressur': 3082, 'splatter': 3083, 'regardless': 3084, 'doo': 3085, 'cameron': 3086, 'increas': 3087, 'jar': 3088, 'seduc': 3089, 'duo': 3090, 'lou': 3091, 'mann': 3092, 'beaten': 3093, 'boil': 3094, 'curios': 3095, 'judi': 3096, 'artifici': 3097, 'flower': 3098, 'prize': 3099, 'suppli': 3100, 'dave': 3101, 'cia': 3102, 'helicopt': 3103, 'chapter': 3104, 'pleasantli': 3105, 'recov': 3106, 'glow': 3107, 'distant': 3108, 'ken': 3109, 'blob': 3110, 'cagney': 3111, 'francisco': 3112, 'hop': 3113, 'panic': 3114, 'perri': 3115, 'drunken': 3116, 'web': 3117, 'laurel': 3118, 'eleg': 3119, 'goldberg': 3120, 'combat': 3121, 'glenn': 3122, 'craig': 3123, 'ellen': 3124, 'turner': 3125, 'psychot': 3126, 'craven': 3127, 'splendid': 3128, 'favour': 3129, 'ranger': 3130, 'philosophi': 3131, 'plausibl': 3132, 'hatr': 3133, 'rid': 3134, 'alexand': 3135, 'falk': 3136, 'gandhi': 3137, '20th': 3138, 'shortli': 3139, 'ruth': 3140, 'graduat': 3141, 'fx': 3142, 'wizard': 3143, 'flip': 3144, 'min': 3145, 'slightest': 3146, 'gentl': 3147, 'greek': 3148, 'modesti': 3149, 'futurist': 3150, 'fund': 3151, 'preciou': 3152, 'ocean': 3153, 'holi': 3154, 'manhattan': 3155, 'lend': 3156, 'tall': 3157, 'harm': 3158, 'felix': 3159, 'unpleas': 3160, 'dracula': 3161, 'we': 3162, 'legal': 3163, 'knight': 3164, 'jealou': 3165, 'scientif': 3166, 'giallo': 3167, 'thread': 3168, 'nod': 3169, 'forbidden': 3170, 'childish': 3171, 'bless': 3172, 'mock': 3173, 'explicit': 3174, 'ami': 3175, 'overdon': 3176, 'tank': 3177, 'digniti': 3178, 'reviv': 3179, 'thick': 3180, 'torment': 3181, 'verhoeven': 3182, 'unwatch': 3183, 'repeatedli': 3184, 'eve': 3185, 'nerv': 3186, 'awaken': 3187, '2004': 3188, 'yesterday': 3189, 'margaret': 3190, 'broad': 3191, 'awe': 3192, 'pirat': 3193, 'mel': 3194, 'elderli': 3195, '99': 3196, 'fever': 3197, 'eas': 3198, 'acclaim': 3199, 'ambit': 3200, 'automat': 3201, 'romero': 3202, 'publish': 3203, 'kay': 3204, 'rivet': 3205, 'launch': 3206, 'ah': 3207, 'absenc': 3208, 'bin': 3209, 'uniform': 3210, 'politician': 3211, 'custom': 3212, 'timothi': 3213, 'stiller': 3214, 'roman': 3215, 'lean': 3216, 'griffith': 3217, 'royal': 3218, 'crook': 3219, 'warren': 3220, 'bathroom': 3221, 'transport': 3222, 'termin': 3223, 'purpl': 3224, 'homicid': 3225, 'foul': 3226, 'tomato': 3227, 'pierc': 3228, 'sunshin': 3229, 'gabriel': 3230, 'antic': 3231, 'wallac': 3232, 'stinker': 3233, 'darker': 3234, 'phrase': 3235, 'pulp': 3236, 'pray': 3237, 'kenneth': 3238, 'coloni': 3239, 'horrid': 3240, 'juvenil': 3241, 'hollow': 3242, 'revolutionari': 3243, 'viciou': 3244, 'contrari': 3245, 'marin': 3246, 'saint': 3247, 'ought': 3248, 'sixti': 3249, 'karen': 3250, 'li': 3251, 'awak': 3252, 'rambo': 3253, 'packag': 3254, 'eyr': 3255, 'donna': 3256, '2003': 3257, 'album': 3258, 'evolv': 3259, 'q': 3260, 'prom': 3261, 'brazil': 3262, 'choreographi': 3263, 'beatti': 3264, 'defi': 3265, 'overr': 3266, 'ireland': 3267, 'blade': 3268, 'mummi': 3269, 'twelv': 3270, 'nerd': 3271, 'conserv': 3272, 'dose': 3273, 'option': 3274, 'ramon': 3275, 'kapoor': 3276, 'stole': 3277, 'candid': 3278, 'boast': 3279, 'mildr': 3280, 'protest': 3281, 'collabor': 3282, 'kirk': 3283, 'astonish': 3284, 'altman': 3285, 'confirm': 3286, 'detract': 3287, 'global': 3288, 'jazz': 3289, 'funer': 3290, 'natali': 3291, 'fulci': 3292, 'trio': 3293, 'flame': 3294, 'bull': 3295, 'blake': 3296, 'delici': 3297, 'spit': 3298, 'bottl': 3299, 'shade': 3300, 'yellow': 3301, 'mystic': 3302, 'enterpris': 3303, 'nicholson': 3304, 'destini': 3305, 'audio': 3306, 'racial': 3307, 'tommi': 3308, 'whip': 3309, 'leap': 3310, 'inherit': 3311, 'staff': 3312, 'popcorn': 3313, 'threw': 3314, 'enchant': 3315, 'merci': 3316, 'bedroom': 3317, 'altogeth': 3318, 'todd': 3319, 'swedish': 3320, 'harder': 3321, 'fonda': 3322, 'visibl': 3323, 'vivid': 3324, 'reunit': 3325, 'meaningless': 3326, 'pseudo': 3327, 'adolesc': 3328, 'neo': 3329, 'lawrenc': 3330, 'ruthless': 3331, 'await': 3332, 'uneven': 3333, 'fanat': 3334, 'decor': 3335, 'kennedi': 3336, 'lemmon': 3337, 'suspici': 3338, 'befriend': 3339, 'roommat': 3340, 'synopsi': 3341, 'bust': 3342, 'madonna': 3343, 'exhibit': 3344, 'wire': 3345, 'voight': 3346, 'moodi': 3347, 'reserv': 3348, 'leonard': 3349, 'tip': 3350, 'respond': 3351, 'atlanti': 3352, 'jew': 3353, 'crocodil': 3354, 'edi': 3355, 'abysm': 3356, 'incident': 3357, 'rural': 3358, 'voyag': 3359, 'holli': 3360, 'dimens': 3361, 'unsettl': 3362, 'chao': 3363, 'carl': 3364, 'bargain': 3365, 'ventur': 3366, 'audit': 3367, 'centr': 3368, 'bradi': 3369, 'garner': 3370, '2007': 3371, 'bold': 3372, 'palma': 3373, 'clumsi': 3374, 'clint': 3375, 'wealth': 3376, 'daddi': 3377, 'trail': 3378, 'cuba': 3379, '2nd': 3380, 'echo': 3381, 'tiger': 3382, 'characterist': 3383, 'cd': 3384, 'troop': 3385, 'humili': 3386, 'elimin': 3387, 'timon': 3388, 'ant': 3389, 'poetic': 3390, 'imperson': 3391, 'hart': 3392, 'lit': 3393, 'cari': 3394, 'neglect': 3395, 'acknowledg': 3396, 'nearbi': 3397, 'mall': 3398, 'versu': 3399, 'immigr': 3400, 'repuls': 3401, 'jeffrey': 3402, 'prejudic': 3403, 'collaps': 3404, 'celluloid': 3405, 'mistaken': 3406, 'pun': 3407, 'marshal': 3408, 'domest': 3409, 'homer': 3410, 'infect': 3411, 'mickey': 3412, 'paus': 3413, 'solo': 3414, 'saga': 3415, 'hbo': 3416, 'undoubtedli': 3417, 'apolog': 3418, 'inan': 3419, 'sore': 3420, 'coat': 3421, 'harvey': 3422, 'pant': 3423, 'coffe': 3424, 'promin': 3425, 'chest': 3426, 'interrupt': 3427, 'inappropri': 3428, 'tribe': 3429, 'equip': 3430, 'gear': 3431, 'milk': 3432, 'assembl': 3433, 'leon': 3434, 'cake': 3435, '1996': 3436, 'ginger': 3437, 'olivi': 3438, 'brooklyn': 3439, 'pen': 3440, 'embrac': 3441, 'trace': 3442, 'institut': 3443, 'colleagu': 3444, 'retain': 3445, 'pot': 3446, 'maggi': 3447, 'aveng': 3448, 'devast': 3449, 'florida': 3450, 'exot': 3451, 'primari': 3452, 'humbl': 3453, 'solut': 3454, 'consum': 3455, 'colonel': 3456, 'furthermor': 3457, 'instant': 3458, 'highest': 3459, 'airplan': 3460, 'jenni': 3461, 'vulgar': 3462, 'polanski': 3463, 'illog': 3464, 'dutch': 3465, 'poke': 3466, 'linda': 3467, '1999': 3468, 'cope': 3469, 'smaller': 3470, 'disabl': 3471, 'ya': 3472, 'descend': 3473, 'sale': 3474, 'dian': 3475, 'outer': 3476, 'principl': 3477, 'gender': 3478, 'rick': 3479, 'bowl': 3480, 'strain': 3481, '3rd': 3482, 'seduct': 3483, 'wive': 3484, 'godzilla': 3485, 'dud': 3486, 'blatant': 3487, 'cue': 3488, 'scope': 3489, 'primarili': 3490, 'bubbl': 3491, 'glamor': 3492, 'inferior': 3493, 'mixtur': 3494, 'gloriou': 3495, 'yard': 3496, 'secondli': 3497, 'predecessor': 3498, 'vast': 3499, 'rabbit': 3500, 'devoid': 3501, 'gundam': 3502, 'hal': 3503, 'dive': 3504, 'beneath': 3505, 'lol': 3506, 'z': 3507, 'alert': 3508, 'domino': 3509, 'disjoint': 3510, 'breed': 3511, 'grinch': 3512, 'casual': 3513, 'april': 3514, 'arab': 3515, 'shelf': 3516, 'invas': 3517, 'simplist': 3518, 'shirley': 3519, 'myer': 3520, 'countrysid': 3521, 'museum': 3522, 'streep': 3523, 'senseless': 3524, 'trademark': 3525, 'hideou': 3526, 'et': 3527, 'alfr': 3528, 'pearl': 3529, 'aggress': 3530, 'talki': 3531, 'garbo': 3532, 'hardcor': 3533, 'vanish': 3534, 'rendit': 3535, 'sh': 3536, 'loyal': 3537, 'boom': 3538, 'defens': 3539, 'mayor': 3540, 'hopeless': 3541, 'mail': 3542, 'disgrac': 3543, 'obtain': 3544, 'stellar': 3545, 'stir': 3546, 'khan': 3547, 'stack': 3548, 'illeg': 3549, 'maci': 3550, 'robinson': 3551, 'slide': 3552, 'acid': 3553, 'oz': 3554, 'unhappi': 3555, 'applaud': 3556, 'experiment': 3557, 'robberi': 3558, 'uwe': 3559, 'span': 3560, 'tempt': 3561, 'soccer': 3562, 'craze': 3563, 'scroog': 3564, 'emphasi': 3565, 'dismiss': 3566, 'incomprehens': 3567, 'tenant': 3568, 'grandfath': 3569, 'counter': 3570, 'declin': 3571, 'topless': 3572, 'dicken': 3573, 'hartley': 3574, 'diana': 3575, 'wont': 3576, 'rifl': 3577, 'blew': 3578, 'psychic': 3579, 'spider': 3580, 'fri': 3581, 'berlin': 3582, 'amanda': 3583, 'recruit': 3584, 'woo': 3585, 'intim': 3586, 'ration': 3587, 'wet': 3588, 'shaw': 3589, 'shed': 3590, 'trashi': 3591, 'resurrect': 3592, 'justin': 3593, 'niro': 3594, 'riot': 3595, 'bitch': 3596, 'sympath': 3597, 'parad': 3598, 'ethnic': 3599, 'porno': 3600, 'goer': 3601, 'revolt': 3602, 'sibl': 3603, 'faster': 3604, 'lumet': 3605, 'hesit': 3606, 'enlighten': 3607, 'partial': 3608, 'hopper': 3609, 'commend': 3610, 'dealer': 3611, 'andr': 3612, 'patriot': 3613, 'gap': 3614, 'region': 3615, 'slick': 3616, 'biographi': 3617, 'nephew': 3618, 'eager': 3619, 'honesti': 3620, 'ballet': 3621, '00': 3622, 'worm': 3623, 'wendi': 3624, 'immort': 3625, 'mario': 3626, 'farmer': 3627, 'steam': 3628, 'weakest': 3629, 'wheel': 3630, 'ensur': 3631, 'choru': 3632, 'unreal': 3633, 'rider': 3634, 'feminist': 3635, 'jonathan': 3636, 'lena': 3637, 'similarli': 3638, 'composit': 3639, 'owen': 3640, 'leo': 3641, 'victori': 3642, 'wore': 3643, 'psychopath': 3644, 'snap': 3645, 'nostalg': 3646, 'skull': 3647, 'confin': 3648, 'macarthur': 3649, 'hung': 3650, 'properti': 3651, 'franco': 3652, 'kingdom': 3653, 'morri': 3654, 'prequel': 3655, 'blunt': 3656, 'repress': 3657, 'sandra': 3658, 'vice': 3659, 'charlott': 3660, 'mutant': 3661, 'sappi': 3662, 'safeti': 3663, 'util': 3664, 'recycl': 3665, 'rambl': 3666, 'rope': 3667, 'farrel': 3668, 'despair': 3669, 'dust': 3670, 'bumbl': 3671, 'del': 3672, 'emperor': 3673, 'compens': 3674, 'heartbreak': 3675, 'speci': 3676, 'valuabl': 3677, 'whoopi': 3678, 'strand': 3679, 'pattern': 3680, 'thru': 3681, 'tad': 3682, 'hyde': 3683, 'kyle': 3684, 'compass': 3685, 'dalton': 3686, 'rocki': 3687, 'latin': 3688, 'exit': 3689, 'campbel': 3690, 'nervou': 3691, 'repli': 3692, 'acquir': 3693, 'bow': 3694, 'deed': 3695, 'bonu': 3696, 'bergman': 3697, 'cg': 3698, 'snl': 3699, '1972': 3700, 'tail': 3701, 'drum': 3702, 'miseri': 3703, 'drain': 3704, 'montana': 3705, 'rapist': 3706, 'gimmick': 3707, 'percept': 3708, 'mistress': 3709, 'bleed': 3710, 'carradin': 3711, 'chess': 3712, 'roth': 3713, 'gal': 3714, 'contempl': 3715, 'da': 3716, 'airport': 3717, 'downhil': 3718, '35': 3719, 'pour': 3720, 'rotten': 3721, 'tonight': 3722, 'radic': 3723, 'martian': 3724, 'orson': 3725, 'oppress': 3726, 'romp': 3727, 'wacki': 3728, 'olli': 3729, 'slug': 3730, 'pervers': 3731, 'pervert': 3732, 'melodi': 3733, 'taught': 3734, 'arguabl': 3735, 'edgar': 3736, 'heal': 3737, 'pursuit': 3738, 'belt': 3739, 'arc': 3740, 'banal': 3741, 'tooth': 3742, 'attorney': 3743, 'dazzl': 3744, 'champion': 3745, '1983': 3746, 'shelley': 3747, 'slash': 3748, 'unpredict': 3749, 'paltrow': 3750, 'tackl': 3751, 'mislead': 3752, 'stilt': 3753, 'preach': 3754, 'programm': 3755, 'franki': 3756, 'marti': 3757, 'orang': 3758, 'plight': 3759, 'vocal': 3760, 'mesmer': 3761, 'raymond': 3762, 'graham': 3763, 'gambl': 3764, 'closest': 3765, 'maid': 3766, 'chicken': 3767, 'cleverli': 3768, 'uplift': 3769, 'sensat': 3770, 'rubi': 3771, 'poem': 3772, 'passeng': 3773, 'employe': 3774, 'duval': 3775, 'conneri': 3776, 'tiresom': 3777, 'vengeanc': 3778, 'bela': 3779, 'dixon': 3780, 'virginia': 3781, 'outing': 3782, 'profan': 3783, 'bay': 3784, 'scottish': 3785, 'crystal': 3786, 'whine': 3787, 'calm': 3788, 'convincingli': 3789, 'inject': 3790, 'mute': 3791, 'iran': 3792, 'giggl': 3793, 'climact': 3794, 'volum': 3795, 'extens': 3796, 'gerard': 3797, 'habit': 3798, 'tube': 3799, 'monologu': 3800, 'engross': 3801, 'abraham': 3802, 'amitabh': 3803, 'paranoia': 3804, 'pokemon': 3805, 'sirk': 3806, 'quarter': 3807, 'suffic': 3808, 'swallow': 3809, 'secretli': 3810, 'clone': 3811, '1968': 3812, 'lundgren': 3813, 'numb': 3814, 'yawn': 3815, 'dispos': 3816, 'abort': 3817, 'bend': 3818, 'meander': 3819, 'linger': 3820, 'franci': 3821, 'plod': 3822, 'junior': 3823, 'taxi': 3824, 'surpass': 3825, 'fed': 3826, 'earl': 3827, 'expand': 3828, 'im': 3829, 'lowest': 3830, 'richardson': 3831, 'poetri': 3832, 'nichola': 3833, 'septemb': 3834, 'backward': 3835, 'grotesqu': 3836, 'frankenstein': 3837, 'underst': 3838, 'chicago': 3839, 'austen': 3840, 'trend': 3841, 'profess': 3842, 'ethan': 3843, 'spock': 3844, 'eugen': 3845, 'muddl': 3846, 'greedi': 3847, 'instrument': 3848, 'simplic': 3849, 'nostalgia': 3850, 'rant': 3851, 'catchi': 3852, 'descent': 3853, 'household': 3854, 'rubber': 3855, 'myth': 3856, 'waitress': 3857, 'cannon': 3858, 'sue': 3859, 'econom': 3860, 'hum': 3861, 'spoke': 3862, 'literatur': 3863, 'compliment': 3864, 'mundan': 3865, 'dysfunct': 3866, 'lure': 3867, 'der': 3868, 'stallon': 3869, 'tourist': 3870, 'firstli': 3871, 'carel': 3872, 'crucial': 3873, 'phantom': 3874, 'equival': 3875, 'lang': 3876, 'furi': 3877, 'mankind': 3878, 'eaten': 3879, 'randi': 3880, 'bacal': 3881, 'irrelev': 3882, 'dement': 3883, 'coast': 3884, 'recognis': 3885, 'hello': 3886, 'flee': 3887, 'damon': 3888, 'mortal': 3889, 'map': 3890, 'omen': 3891, 'alongsid': 3892, 'recognit': 3893, 'insur': 3894, 'deaf': 3895, 'dictat': 3896, 'sissi': 3897, 'duck': 3898, 'stale': 3899, 'june': 3900, 'molli': 3901, 'occupi': 3902, 'phoni': 3903, 'cent': 3904, 'louis': 3905, 'drake': 3906, 'bike': 3907, 'freez': 3908, 'distinguish': 3909, 'bump': 3910, 'ashley': 3911, 'likewis': 3912, 'daisi': 3913, 'blackmail': 3914, 'lengthi': 3915, 'buffalo': 3916, 'heel': 3917, 'grayson': 3918, 'labor': 3919, 'reign': 3920, 'loyalti': 3921, 'onlin': 3922, 'newli': 3923, 'cyborg': 3924, 'rude': 3925, 'wisdom': 3926, 'damm': 3927, 'twilight': 3928, '1973': 3929, 'biko': 3930, 'rooney': 3931, 'dreari': 3932, 'antwon': 3933, 'butler': 3934, 'baddi': 3935, 'chronicl': 3936, 'nineti': 3937, 'inher': 3938, 'prey': 3939, 'vein': 3940, 'proce': 3941, 'provoc': 3942, 'unorigin': 3943, 'approv': 3944, 'sailor': 3945, 'basketbal': 3946, 'attribut': 3947, 'pink': 3948, 'tunnel': 3949, 'analysi': 3950, 'barrymor': 3951, 'keith': 3952, 'startl': 3953, 'exposur': 3954, 'emphas': 3955, 'boxer': 3956, 'ridden': 3957, 'worn': 3958, 'interior': 3959, 'incorpor': 3960, 'othello': 3961, 'undeni': 3962, 'condemn': 3963, 'barrel': 3964, 'robbin': 3965, 'simmon': 3966, 'nicol': 3967, 'indiffer': 3968, 'mighti': 3969, 'improvis': 3970, 'fleet': 3971, 'mormon': 3972, 'drift': 3973, 'stalker': 3974, 'belushi': 3975, 'degrad': 3976, 'bunni': 3977, 'carla': 3978, 'underli': 3979, 'elm': 3980, 'unrel': 3981, 'millionair': 3982, 'substitut': 3983, 'hypnot': 3984, 'julian': 3985, 'er': 3986, 'predat': 3987, 'meg': 3988, 'meyer': 3989, 'walsh': 3990, 'warmth': 3991, 'hay': 3992, 'edgi': 3993, 'shove': 3994, 'novak': 3995, 'reid': 3996, 'disord': 3997, 'firm': 3998, 'lampoon': 3999, 'exquisit': 4000, 'vital': 4001, 'roof': 4002, 'watson': 4003, 'errol': 4004, 'alarm': 4005, 'greed': 4006, 'rukh': 4007, 'marion': 4008, 'palac': 4009, 'priceless': 4010, 'alison': 4011, 'mtv': 4012, 'nyc': 4013, 'agenda': 4014, 'enthusiasm': 4015, '3d': 4016, 'dolph': 4017, 'unawar': 4018, 'cassidi': 4019, 'profit': 4020, 'peck': 4021, 'championship': 4022, 'preserv': 4023, 'gestur': 4024, 'thompson': 4025, 'beatl': 4026, 'spain': 4027, 'petti': 4028, 'peril': 4029, 'israel': 4030, 'campaign': 4031, '1933': 4032, 'crown': 4033, 'minimum': 4034, 'sergeant': 4035, 'drip': 4036, 'nun': 4037, 'distort': 4038, 'showdown': 4039, 'zizek': 4040, 'randomli': 4041, 'pamela': 4042, 'simultan': 4043, 'angela': 4044, 'iraq': 4045, 'eastern': 4046, 'unleash': 4047, 'valentin': 4048, 'testament': 4049, '13th': 4050, 'what': 4051, 'session': 4052, 'ponder': 4053, 'glanc': 4054, 'coup': 4055, 'orlean': 4056, 'scotland': 4057, 'regist': 4058, '1984': 4059, 'quinn': 4060, 'crow': 4061, 'cream': 4062, 'empathi': 4063, 'climat': 4064, 'bro': 4065, 'valley': 4066, 'cooki': 4067, 'contradict': 4068, 'restrain': 4069, 'stake': 4070, 'represent': 4071, 'jan': 4072, 'mon': 4073, 'unimagin': 4074, 'brenda': 4075, 'realm': 4076, 'travesti': 4077, 'calib': 4078, 'buster': 4079, 'reson': 4080, 'sabrina': 4081, 'stroke': 4082, 'exposit': 4083, 'fido': 4084, 'shootout': 4085, 'din': 4086, 'perpetu': 4087, 'wig': 4088, 'han': 4089, 'rout': 4090, 'miyazaki': 4091, 'gentleman': 4092, 'kurosawa': 4093, 'crawl': 4094, 'greg': 4095, 'abomin': 4096, 'demis': 4097, '1987': 4098, '1997': 4099, 'sucker': 4100, 'soderbergh': 4101, 'mclaglen': 4102, 'compromis': 4103, 'shaki': 4104, 'businessman': 4105, 'baldwin': 4106, 'unsatisfi': 4107, 'shoddi': 4108, 'ustinov': 4109, 'monoton': 4110, 'wax': 4111, 'meryl': 4112, 'delic': 4113, 'distress': 4114, 'absent': 4115, 'passabl': 4116, 'tacki': 4117, 'pretens': 4118, 'femm': 4119, 'cloud': 4120, 'geek': 4121, 'pole': 4122, 'josh': 4123, 'stargat': 4124, 'derang': 4125, 'painter': 4126, 'censor': 4127, 'perceiv': 4128, 'ross': 4129, 'dana': 4130, 'crawford': 4131, 'warrant': 4132, 'spacey': 4133, 'unseen': 4134, 'sammi': 4135, 'traumat': 4136, 'fuller': 4137, 'darren': 4138, 'wholli': 4139, 'fog': 4140, 'anchor': 4141, 'verbal': 4142, 'deniro': 4143, 'jewel': 4144, 'primit': 4145, 'judgment': 4146, 'tarantino': 4147, 'click': 4148, 'furiou': 4149, 'polici': 4150, 'exclus': 4151, 'sid': 4152, 'nathan': 4153, 'austin': 4154, 'valid': 4155, 'kumar': 4156, 'unravel': 4157, 'uncov': 4158, 'deceas': 4159, 'correctli': 4160, 'seal': 4161, 'fenc': 4162, 'accuraci': 4163, 'reluct': 4164, 'dee': 4165, 'antonioni': 4166, 'norm': 4167, 'tech': 4168, '1993': 4169, 'clash': 4170, 'expedit': 4171, 'bake': 4172, 'dreck': 4173, 'sustain': 4174, 'logan': 4175, '1995': 4176, 'enforc': 4177, 'wang': 4178, 'fought': 4179, 'unfair': 4180, 'murray': 4181, 'sand': 4182, 'debt': 4183, 'patienc': 4184, 'conduct': 4185, 'mode': 4186, 'ritual': 4187, '3000': 4188, 'pocket': 4189, 'wretch': 4190, 'alec': 4191, 'seldom': 4192, 'fart': 4193, 'sheet': 4194, 'roller': 4195, 'shanghai': 4196, 'joel': 4197, 'malon': 4198, 'sunni': 4199, '1971': 4200, 'behold': 4201, 'temper': 4202, '2008': 4203, 'nicola': 4204, 'vanc': 4205, 'trait': 4206, 'hallucin': 4207, 'tax': 4208, 'clerk': 4209, 'slam': 4210, 'fabric': 4211, 'crippl': 4212, 'darn': 4213, 'conscious': 4214, 'schedul': 4215, 'despis': 4216, 'exhaust': 4217, 'squad': 4218, 'bias': 4219, 'pete': 4220, 'clau': 4221, 'stuart': 4222, 'soup': 4223, 'sweep': 4224, 'grief': 4225, 'legaci': 4226, 'critiqu': 4227, 'runner': 4228, 'stark': 4229, 'helpless': 4230, 'phil': 4231, 'tactic': 4232, 'scriptwrit': 4233, 'rita': 4234, 'isabel': 4235, 'shell': 4236, 'robber': 4237, 'fundament': 4238, 'bridget': 4239, 'outlin': 4240, 'divid': 4241, 'penni': 4242, 'guitar': 4243, 'preston': 4244, 'technicolor': 4245, 'preposter': 4246, 'canyon': 4247, 'rehash': 4248, 'gregori': 4249, 'flair': 4250, 'sniper': 4251, 'downey': 4252, 'sentinel': 4253, 'unexpectedli': 4254, 'russia': 4255, 'lacklust': 4256, 'invad': 4257, 'drove': 4258, 'cigarett': 4259, 'culmin': 4260, 'bloom': 4261, 'delv': 4262, 'agenc': 4263, 'consciou': 4264, 'boyl': 4265, 'inabl': 4266, 'passag': 4267, 'implic': 4268, 'alley': 4269, 'connor': 4270, 'restrict': 4271, 'vomit': 4272, 'jacket': 4273, 'palanc': 4274, 'propos': 4275, 'marc': 4276, 'newman': 4277, 'jodi': 4278, 'rear': 4279, 'kansa': 4280, 'alicia': 4281, 'liberti': 4282, 'sugar': 4283, 'improb': 4284, 'aesthet': 4285, 'rampag': 4286, 'horn': 4287, '1936': 4288, 'karl': 4289, 'ladder': 4290, 'behaviour': 4291, '22': 4292, 'chainsaw': 4293, 'wrench': 4294, 'yeti': 4295, 'delet': 4296, 'tripe': 4297, 'vet': 4298, 'lush': 4299, 'rod': 4300, 'rehears': 4301, 'kolchak': 4302, 'awhil': 4303, 'cap': 4304, 'tendenc': 4305, 'bacon': 4306, 'asylum': 4307, 'foxx': 4308, 'arrow': 4309, 'sharon': 4310, 'pale': 4311, 'feat': 4312, 'mccoy': 4313, '1978': 4314, 'newcom': 4315, 'fright': 4316, 'suffici': 4317, 'prank': 4318, 'financ': 4319, 'lurk': 4320, 'basing': 4321, 'thunderbird': 4322, 'elit': 4323, 'aristocrat': 4324, 'scoop': 4325, 'filler': 4326, 'suspicion': 4327, 'sung': 4328, 'coaster': 4329, 'wildli': 4330, '1920': 4331, 'weav': 4332, 'rhythm': 4333, 'tasteless': 4334, 'loneli': 4335, 'el': 4336, '1988': 4337, 'spice': 4338, 'minu': 4339, 'shortcom': 4340, 'rumor': 4341, 'underneath': 4342, 'hackney': 4343, '19th': 4344, 'hungri': 4345, 'visitor': 4346, 'amazon': 4347, 'stream': 4348, 'paradis': 4349, 'paramount': 4350, 'tomorrow': 4351, 'hulk': 4352, 'globe': 4353, 'wagner': 4354, 'conscienc': 4355, 'worship': 4356, 'couch': 4357, 'recogniz': 4358, 'dirt': 4359, 'springer': 4360, 'brit': 4361, 'hopkin': 4362, 'ingeni': 4363, 'straightforward': 4364, 'penn': 4365, 'leigh': 4366, 'naughti': 4367, 'entranc': 4368, '75': 4369, 'counterpart': 4370, 'impos': 4371, 'iv': 4372, 'choppi': 4373, 'quietli': 4374, 'minist': 4375, 'ram': 4376, 'atroc': 4377, 'curli': 4378, 'grudg': 4379, 'heist': 4380, 'cancer': 4381, 'immers': 4382, 'inmat': 4383, 'bread': 4384, 'smell': 4385, 'abrupt': 4386, 'standout': 4387, 'teas': 4388, 'paxton': 4389, 'literari': 4390, 'beverli': 4391, '1939': 4392, 'secondari': 4393, 'chamberlain': 4394, 'wwe': 4395, 'tierney': 4396, 'en': 4397, '1989': 4398, 'lectur': 4399, 'posey': 4400, 'rub': 4401, 'chavez': 4402, 'moreov': 4403, 'misguid': 4404, 'transcend': 4405, 'nemesi': 4406, 'duel': 4407, 'ace': 4408, 'policeman': 4409, 'sassi': 4410, 'heartfelt': 4411, 'watcher': 4412, 'convert': 4413, 'nolan': 4414, 'quaid': 4415, 'esther': 4416, 'enthral': 4417, 'laurenc': 4418, 'clan': 4419, 'injuri': 4420, 'missil': 4421, 'attenborough': 4422, 'net': 4423, 'bernard': 4424, 'skeptic': 4425, 'entitl': 4426, 'cattl': 4427, 'sublim': 4428, 'geni': 4429, '1986': 4430, 'variat': 4431, 'morbid': 4432, 'yearn': 4433, 'ratso': 4434, 'lindsay': 4435, 'steadi': 4436, 'facil': 4437, 'youngest': 4438, 'poe': 4439, 'kidman': 4440, 'out': 4441, 'bean': 4442, 'moder': 4443, 'kitti': 4444, 'setup': 4445, 'characteris': 4446, 'unexplain': 4447, 'hk': 4448, 'puppi': 4449, 'reliabl': 4450, 'artsi': 4451, 'grin': 4452, 'graini': 4453, 'enabl': 4454, 'cruelti': 4455, 'rosemari': 4456, 'hopelessli': 4457, 'mytholog': 4458, '1979': 4459, 'obstacl': 4460, 'egg': 4461, 'buzz': 4462, 'tyler': 4463, 'brood': 4464, 'uncut': 4465, 'dont': 4466, 'spiral': 4467, 'carlito': 4468, 'bye': 4469, 'diari': 4470, 'vader': 4471, 'despic': 4472, 'oblig': 4473, 'patricia': 4474, 'clueless': 4475, 'gillian': 4476, 'weather': 4477, 'athlet': 4478, 'niec': 4479, 'preming': 4480, 'kline': 4481, 'baffl': 4482, 'hammi': 4483, 'bounc': 4484, 'gina': 4485, 'underworld': 4486, 'sweat': 4487, 'heap': 4488, 'brendan': 4489, 'effici': 4490, 'disastr': 4491, 'christin': 4492, '1969': 4493, 'bronson': 4494, 'martha': 4495, 'spontan': 4496, 'bewar': 4497, 'hain': 4498, 'narrow': 4499, 'fuel': 4500, 'acquaint': 4501, 'decept': 4502, 'exterior': 4503, 'analyz': 4504, 'virtu': 4505, '73': 4506, 'biker': 4507, 'outlaw': 4508, 'circu': 4509, 'tick': 4510, 'trigger': 4511, 'candl': 4512, 'sleepwalk': 4513, 'suprem': 4514, 'injur': 4515, 'uh': 4516, 'headach': 4517, 'hepburn': 4518, 'shatter': 4519, 'loi': 4520, 'viewpoint': 4521, 'loath': 4522, 'rome': 4523, 'enlist': 4524, 'scar': 4525, 'goof': 4526, 'housewif': 4527, 'sooner': 4528, 'fontain': 4529, '19': 4530, 'mermaid': 4531, 'mayhem': 4532, 'dandi': 4533, 'taboo': 4534, 'dilemma': 4535, 'harmless': 4536, 'lester': 4537, 'astound': 4538, 'preachi': 4539, 'angst': 4540, 'insipid': 4541, 'renaiss': 4542, 'hokey': 4543, 'macho': 4544, 'scorses': 4545, 'amor': 4546, 'ebert': 4547, 'camcord': 4548, 'contempt': 4549, 'filth': 4550, 'whore': 4551, 'overlong': 4552, 'tripl': 4553, 'fluff': 4554, 'steer': 4555, 'dish': 4556, 'slimi': 4557, 'foolish': 4558, 'immatur': 4559, 'guin': 4560, 'oldest': 4561, 'hostag': 4562, 'stair': 4563, 'claustrophob': 4564, 'zoom': 4565, 'redund': 4566, 'hooker': 4567, 'glorifi': 4568, 'cassavet': 4569, 'intric': 4570, 'dismal': 4571, 'sox': 4572, 'boston': 4573, 'idol': 4574, 'surgeri': 4575, 'salt': 4576, 'bent': 4577, 'ariel': 4578, 'phenomenon': 4579, 'spade': 4580, 'stimul': 4581, 'gere': 4582, 'corbett': 4583, 'joker': 4584, 'nolt': 4585, 'margin': 4586, 'harold': 4587, 'strongest': 4588, 'preced': 4589, 'cush': 4590, 'flashi': 4591, 'conquer': 4592, 'mutual': 4593, 'mount': 4594, 'obligatori': 4595, 'assert': 4596, 'flirt': 4597, 'shield': 4598, 'beard': 4599, 'shred': 4600, 'zane': 4601, '1976': 4602, 'gasp': 4603, 'keen': 4604, 'flag': 4605, 'transplant': 4606, 'perman': 4607, 'spinal': 4608, 'remad': 4609, 'proport': 4610, 'messi': 4611, 'radiat': 4612, 'trivia': 4613, 'antagonist': 4614, 'muscl': 4615, 'astronaut': 4616, 'dwarf': 4617, 'corman': 4618, '1981': 4619, 'spree': 4620, 'cow': 4621, 'frantic': 4622, 'widescreen': 4623, 'rhyme': 4624, 'schlock': 4625, 'faint': 4626, 'alvin': 4627, 'naschi': 4628, 'down': 4629, 'gabl': 4630, 'fascist': 4631, 'cohen': 4632, 'fishburn': 4633, 'inflict': 4634, 'flock': 4635, 'departur': 4636, 'boob': 4637, 'triangl': 4638, 'sensual': 4639, 'www': 4640, 'scandal': 4641, 'resum': 4642, 'brush': 4643, 'neurot': 4644, 'danish': 4645, 'repris': 4646, 'info': 4647, 'ritchi': 4648, 'vaniti': 4649, 'discern': 4650, 'wield': 4651, 'someday': 4652, 'mobil': 4653, 'deer': 4654, '95': 4655, 'persuad': 4656, 'raj': 4657, 'claud': 4658, '28': 4659, 'bitten': 4660, 'off': 4661, 'divin': 4662, 'bachelor': 4663, 'instruct': 4664, 'hara': 4665, 'mol': 4666, 'carey': 4667, 'strive': 4668, 'interestingli': 4669, 'barn': 4670, '1945': 4671, 'archiv': 4672, 'aborigin': 4673, 'cb': 4674, 'pixar': 4675, 'heartwarm': 4676, 'harrison': 4677, 'traffic': 4678, 'luka': 4679, 'loretta': 4680, 'senior': 4681, 'undermin': 4682, 'dylan': 4683, 'submit': 4684, 'recit': 4685, 'jade': 4686, 'miracul': 4687, 'helm': 4688, 'pacif': 4689, 'casino': 4690, 'kathryn': 4691, 'biblic': 4692, 'ish': 4693, 'colin': 4694, 'axe': 4695, 'dim': 4696, 'carlo': 4697, 'fragil': 4698, 'earnest': 4699, 'wendigo': 4700, 'cliffhang': 4701, 'vibrant': 4702, 'neill': 4703, 'hug': 4704, 'parson': 4705, 'melissa': 4706, 'pickford': 4707, 'proclaim': 4708, 'rot': 4709, 'mobster': 4710, 'dame': 4711, 'clad': 4712, 'frontier': 4713, 'anton': 4714, 'artwork': 4715, 'bate': 4716, 'banter': 4717, 'prophet': 4718, 'hilar': 4719, 'cher': 4720, 'timberlak': 4721, 'cycl': 4722, 'hapless': 4723, 'europa': 4724, 'vile': 4725, 'jordan': 4726, 'foil': 4727, 'sicken': 4728, 'akin': 4729, 'mathieu': 4730, 'vanessa': 4731, 'winchest': 4732, 'misfortun': 4733, 'http': 4734, 'marlon': 4735, 'cerebr': 4736, 'lui': 4737, 'estrang': 4738, 'legitim': 4739, 'mason': 4740, 'antholog': 4741, 'bondag': 4742, 'holocaust': 4743, 'wardrob': 4744, 'static': 4745, 'rooki': 4746, 'aris': 4747, 'seedi': 4748, 'breakfast': 4749, 'toronto': 4750, 'choke': 4751, 'venom': 4752, 'articl': 4753, 'electron': 4754, 'pc': 4755, 'flavor': 4756, 'jo': 4757, 'alexandr': 4758, 'illus': 4759, 'nope': 4760, 'shepherd': 4761, 'redneck': 4762, 'eli': 4763, 'token': 4764, 'uma': 4765, 'orphan': 4766, 'milo': 4767, 'blatantli': 4768, 'razor': 4769, 'bikini': 4770, 'northern': 4771, 'feast': 4772, 'trier': 4773, 'lucil': 4774, 'isra': 4775, 'outdat': 4776, 'nightclub': 4777, 'cartoonish': 4778, 'comprehend': 4779, 'highway': 4780, 'styliz': 4781, 'turd': 4782, 'peer': 4783, 'glare': 4784, 'feminin': 4785, 'boyer': 4786, 'charlton': 4787, 'magician': 4788, 'howl': 4789, 'gilbert': 4790, 'swept': 4791, 'deem': 4792, 'disregard': 4793, 'oppon': 4794, 'ideolog': 4795, 'psych': 4796, 'abund': 4797, 'wrestler': 4798, 'tack': 4799, 'frog': 4800, 'retriev': 4801, 'smack': 4802, 'ceremoni': 4803, 'linear': 4804, 'clinic': 4805, 'gunga': 4806, 'affleck': 4807, 'shorter': 4808, 'leather': 4809, 'huston': 4810, 'fifth': 4811, 'dudley': 4812, 'audrey': 4813, 'knightley': 4814, 'boo': 4815, 'lifeless': 4816, 'greet': 4817, 'snatch': 4818, 'sleaz': 4819, '1994': 4820, 'durat': 4821, 'monument': 4822, 'phenomen': 4823, 'tara': 4824, '4th': 4825, 'compris': 4826, 'spine': 4827, 'spawn': 4828, 'mitch': 4829, 'chip': 4830, 'whack': 4831, 'goldsworthi': 4832, 'plate': 4833, 'cuban': 4834, 'cemeteri': 4835, 'newer': 4836, 'lighter': 4837, 'senat': 4838, 'bogu': 4839, 'summar': 4840, 'energet': 4841, 'potter': 4842, 'bastard': 4843, 'deliver': 4844, 'corn': 4845, 'btw': 4846, 'breakdown': 4847, 'einstein': 4848, '1991': 4849, 'uniformli': 4850, 'moe': 4851, 'toe': 4852, 'salman': 4853, 'collector': 4854, 'client': 4855, 'conrad': 4856, 'evolut': 4857, 'lavish': 4858, 'braveheart': 4859, 'appl': 4860, 'jedi': 4861, 'luxuri': 4862, 'bulk': 4863, 'alleg': 4864, 'inaccuraci': 4865, 'undead': 4866, 'kazan': 4867, 'undertak': 4868, 'evelyn': 4869, '1977': 4870, 'historian': 4871, 'belli': 4872, 'firmli': 4873, 'jare': 4874, 'neatli': 4875, 'ie': 4876, 'cecil': 4877, 'outright': 4878, 'wtf': 4879, 'nina': 4880, 'ol': 4881, 'gilliam': 4882, 'capot': 4883, 'sorrow': 4884, 'healthi': 4885, 'eleven': 4886, 'embark': 4887, 'lex': 4888, 'trauma': 4889, 'armstrong': 4890, 'jam': 4891, 'fluid': 4892, 'replay': 4893, 'occup': 4894, 'clara': 4895, 'pronounc': 4896, '1974': 4897, 'kent': 4898, 'jule': 4899, 'spectacl': 4900, 'randolph': 4901, 'signal': 4902, 'liu': 4903, 'creek': 4904, 'mcqueen': 4905, 'constitut': 4906, 'judd': 4907, 'bori': 4908, 'lanc': 4909, 'truman': 4910, 'kiddi': 4911, 'bait': 4912, 'goldblum': 4913, 'miniseri': 4914, 'aussi': 4915, 'inclus': 4916, 'roar': 4917, 'curtain': 4918, 'lauren': 4919, 'poker': 4920, 'meal': 4921, '1985': 4922, 'knee': 4923, 'id': 4924, 'subtli': 4925, 'ash': 4926, 'inaccur': 4927, 'abound': 4928, 'porter': 4929, 'spray': 4930, 'forgiven': 4931, 'palm': 4932, 'vain': 4933, 'unsuspect': 4934, 'genet': 4935, 'blur': 4936, 'propheci': 4937, 'miami': 4938, 'decapit': 4939, 'sacrif': 4940, 'groan': 4941, 'tokyo': 4942, 'antonio': 4943, 'comb': 4944, 'paula': 4945, 'fruit': 4946, 'galaxi': 4947, 'vignett': 4948, 'cape': 4949, 'walt': 4950, 'relentless': 4951, 'mum': 4952, 'conan': 4953, 'unattract': 4954, 'comprehens': 4955, 'congratul': 4956, 'pepper': 4957, 'basket': 4958, 'carmen': 4959, 'sidewalk': 4960, 'bsg': 4961, 'rosario': 4962, 'pioneer': 4963, 'monti': 4964, 'ghetto': 4965, 'orchestr': 4966, 'verg': 4967, 'profil': 4968, 'drone': 4969, 'spill': 4970, 'jill': 4971, 'bach': 4972, 'hackman': 4973, 'weari': 4974, 'frontal': 4975, 'incorrect': 4976, 'casper': 4977, 'weaker': 4978, 'modest': 4979, 'ingrid': 4980, 'epitom': 4981, 'omin': 4982, 'reincarn': 4983, 'growth': 4984, 'rapidli': 4985, 'scariest': 4986, 'playboy': 4987, 'victorian': 4988, 'asset': 4989, 'macabr': 4990, 'masterson': 4991, 'vastli': 4992, 'turtl': 4993, 'handicap': 4994, 'motorcycl': 4995, 'detach': 4996, 'dubiou': 4997, 'optimist': 4998, 'bravo': 4999}\n"
     ]
    }
   ],
   "source": [
    "word_dict = build_dict(train_X)\n",
    "print(word_dict)"
   ]
  },
  {
   "cell_type": "markdown",
   "metadata": {},
   "source": [
    "**Question:** What are the five most frequently appearing (tokenized) words in the training set? Does it makes sense that these words appear frequently in the training set?"
   ]
  },
  {
   "cell_type": "markdown",
   "metadata": {},
   "source": [
    "**Answer:**   \n",
    "The five most frequent words are:   \n",
    "1- movi   \n",
    "2- film   \n",
    "3- one   \n",
    "4- like   \n",
    "5- time   \n",
    "\n",
    "Yes, it makes sense that these words appear frequently. It makes a lot of sense that words like 'movie' or 'film' appear in nearly every review, even more than once."
   ]
  },
  {
   "cell_type": "code",
   "execution_count": 15,
   "metadata": {},
   "outputs": [
    {
     "name": "stdout",
     "output_type": "stream",
     "text": [
      "['movi', 'film', 'one', 'like', 'time']\n"
     ]
    }
   ],
   "source": [
    "# TODO: Use this space to determine the five most frequently appearing words in the training set.\n",
    "from itertools import islice\n",
    "print(list(islice(word_dict, 5)))"
   ]
  },
  {
   "cell_type": "markdown",
   "metadata": {},
   "source": [
    "### Save `word_dict`\n",
    "\n",
    "Later on when we construct an endpoint which processes a submitted review we will need to make use of the `word_dict` which we have created. As such, we will save it to a file now for future use."
   ]
  },
  {
   "cell_type": "code",
   "execution_count": 16,
   "metadata": {},
   "outputs": [],
   "source": [
    "data_dir = '../data/pytorch' # The folder we will use for storing data\n",
    "if not os.path.exists(data_dir): # Make sure that the folder exists\n",
    "    os.makedirs(data_dir)"
   ]
  },
  {
   "cell_type": "code",
   "execution_count": 17,
   "metadata": {},
   "outputs": [],
   "source": [
    "with open(os.path.join(data_dir, 'word_dict.pkl'), \"wb\") as f:\n",
    "    pickle.dump(word_dict, f)"
   ]
  },
  {
   "cell_type": "markdown",
   "metadata": {},
   "source": [
    "### Transform the reviews\n",
    "\n",
    "Now that we have our word dictionary which allows us to transform the words appearing in the reviews into integers, it is time to make use of it and convert our reviews to their integer sequence representation, making sure to pad or truncate to a fixed length, which in our case is `500`."
   ]
  },
  {
   "cell_type": "code",
   "execution_count": 18,
   "metadata": {},
   "outputs": [],
   "source": [
    "def convert_and_pad(word_dict, sentence, pad=500):\n",
    "    NOWORD = 0 # We will use 0 to represent the 'no word' category\n",
    "    INFREQ = 1 # and we use 1 to represent the infrequent words, i.e., words not appearing in word_dict\n",
    "    \n",
    "    working_sentence = [NOWORD] * pad\n",
    "    \n",
    "    for word_index, word in enumerate(sentence[:pad]):\n",
    "        if word in word_dict:\n",
    "            working_sentence[word_index] = word_dict[word]\n",
    "        else:\n",
    "            working_sentence[word_index] = INFREQ\n",
    "            \n",
    "    return working_sentence, min(len(sentence), pad)\n",
    "\n",
    "def convert_and_pad_data(word_dict, data, pad=500):\n",
    "    result = []\n",
    "    lengths = []\n",
    "    \n",
    "    for sentence in data:\n",
    "        converted, leng = convert_and_pad(word_dict, sentence, pad)\n",
    "        result.append(converted)\n",
    "        lengths.append(leng)\n",
    "        \n",
    "    return np.array(result), np.array(lengths)"
   ]
  },
  {
   "cell_type": "code",
   "execution_count": 19,
   "metadata": {},
   "outputs": [],
   "source": [
    "train_X, train_X_len = convert_and_pad_data(word_dict, train_X)\n",
    "test_X, test_X_len = convert_and_pad_data(word_dict, test_X)"
   ]
  },
  {
   "cell_type": "markdown",
   "metadata": {},
   "source": [
    "As a quick check to make sure that things are working as intended, check to see what one of the reviews in the training set looks like after having been processeed. Does this look reasonable? What is the length of a review in the training set?"
   ]
  },
  {
   "cell_type": "code",
   "execution_count": 20,
   "metadata": {},
   "outputs": [
    {
     "name": "stdout",
     "output_type": "stream",
     "text": [
      "[4104  228 1314  291   65 2144   57    3  505   19  112 2229   87   10\n",
      " 1064 1019   12   19    5  201 4736    1  521  291 1766  897    1  698\n",
      "   30   15  148   10   21   40 2617  291   40    1 1601  243  353 3183\n",
      "  452   83  101 1072  549   64  231   20  168 1689   58  726   57    4\n",
      "  240  830  122   10 3134   24    1  121 3879    0    0    0    0    0\n",
      "    0    0    0    0    0    0    0    0    0    0    0    0    0    0\n",
      "    0    0    0    0    0    0    0    0    0    0    0    0    0    0\n",
      "    0    0    0    0    0    0    0    0    0    0    0    0    0    0\n",
      "    0    0    0    0    0    0    0    0    0    0    0    0    0    0\n",
      "    0    0    0    0    0    0    0    0    0    0    0    0    0    0\n",
      "    0    0    0    0    0    0    0    0    0    0    0    0    0    0\n",
      "    0    0    0    0    0    0    0    0    0    0    0    0    0    0\n",
      "    0    0    0    0    0    0    0    0    0    0    0    0    0    0\n",
      "    0    0    0    0    0    0    0    0    0    0    0    0    0    0\n",
      "    0    0    0    0    0    0    0    0    0    0    0    0    0    0\n",
      "    0    0    0    0    0    0    0    0    0    0    0    0    0    0\n",
      "    0    0    0    0    0    0    0    0    0    0    0    0    0    0\n",
      "    0    0    0    0    0    0    0    0    0    0    0    0    0    0\n",
      "    0    0    0    0    0    0    0    0    0    0    0    0    0    0\n",
      "    0    0    0    0    0    0    0    0    0    0    0    0    0    0\n",
      "    0    0    0    0    0    0    0    0    0    0    0    0    0    0\n",
      "    0    0    0    0    0    0    0    0    0    0    0    0    0    0\n",
      "    0    0    0    0    0    0    0    0    0    0    0    0    0    0\n",
      "    0    0    0    0    0    0    0    0    0    0    0    0    0    0\n",
      "    0    0    0    0    0    0    0    0    0    0    0    0    0    0\n",
      "    0    0    0    0    0    0    0    0    0    0    0    0    0    0\n",
      "    0    0    0    0    0    0    0    0    0    0    0    0    0    0\n",
      "    0    0    0    0    0    0    0    0    0    0    0    0    0    0\n",
      "    0    0    0    0    0    0    0    0    0    0    0    0    0    0\n",
      "    0    0    0    0    0    0    0    0    0    0    0    0    0    0\n",
      "    0    0    0    0    0    0    0    0    0    0    0    0    0    0\n",
      "    0    0    0    0    0    0    0    0    0    0    0    0    0    0\n",
      "    0    0    0    0    0    0    0    0    0    0    0    0    0    0\n",
      "    0    0    0    0    0    0    0    0    0    0    0    0    0    0\n",
      "    0    0    0    0    0    0    0    0    0    0    0    0    0    0\n",
      "    0    0    0    0    0    0    0    0    0    0]\n",
      "500\n"
     ]
    }
   ],
   "source": [
    "# Use this cell to examine one of the processed reviews to make sure everything is working as intended.\n",
    "print(train_X[75])\n",
    "print(len(train_X[75]))"
   ]
  },
  {
   "cell_type": "markdown",
   "metadata": {},
   "source": [
    "**Question:** In the cells above we use the `preprocess_data` and `convert_and_pad_data` methods to process both the training and testing set. Why or why not might this be a problem?"
   ]
  },
  {
   "cell_type": "markdown",
   "metadata": {},
   "source": [
    "**Answer:**   \n",
    "This should not be a problem, because we should apply the same preprocessing to both the training and test sets, and this is what we do. "
   ]
  },
  {
   "cell_type": "markdown",
   "metadata": {},
   "source": [
    "## Step 3: Upload the data to S3\n",
    "\n",
    "As in the XGBoost notebook, we will need to upload the training dataset to S3 in order for our training code to access it. For now we will save it locally and we will upload to S3 later on.\n",
    "\n",
    "### Save the processed training dataset locally\n",
    "\n",
    "It is important to note the format of the data that we are saving as we will need to know it when we write the training code. In our case, each row of the dataset has the form `label`, `length`, `review[500]` where `review[500]` is a sequence of `500` integers representing the words in the review."
   ]
  },
  {
   "cell_type": "code",
   "execution_count": 21,
   "metadata": {},
   "outputs": [],
   "source": [
    "import pandas as pd\n",
    "    \n",
    "pd.concat([pd.DataFrame(train_y), pd.DataFrame(train_X_len), pd.DataFrame(train_X)], axis=1) \\\n",
    "        .to_csv(os.path.join(data_dir, 'train.csv'), header=False, index=False)"
   ]
  },
  {
   "cell_type": "markdown",
   "metadata": {},
   "source": [
    "### Uploading the training data\n",
    "\n",
    "\n",
    "Next, we need to upload the training data to the SageMaker default S3 bucket so that we can provide access to it while training our model."
   ]
  },
  {
   "cell_type": "code",
   "execution_count": 22,
   "metadata": {},
   "outputs": [],
   "source": [
    "import sagemaker\n",
    "\n",
    "sagemaker_session = sagemaker.Session()\n",
    "\n",
    "bucket = sagemaker_session.default_bucket()\n",
    "prefix = 'sagemaker/sentiment_rnn'\n",
    "\n",
    "role = sagemaker.get_execution_role()"
   ]
  },
  {
   "cell_type": "code",
   "execution_count": 23,
   "metadata": {},
   "outputs": [],
   "source": [
    "input_data = sagemaker_session.upload_data(path=data_dir, bucket=bucket, key_prefix=prefix)"
   ]
  },
  {
   "cell_type": "markdown",
   "metadata": {},
   "source": [
    "**NOTE:** The cell above uploads the entire contents of our data directory. This includes the `word_dict.pkl` file. This is fortunate as we will need this later on when we create an endpoint that accepts an arbitrary review. For now, we will just take note of the fact that it resides in the data directory (and so also in the S3 training bucket) and that we will need to make sure it gets saved in the model directory."
   ]
  },
  {
   "cell_type": "markdown",
   "metadata": {},
   "source": [
    "## Step 4: Build and Train the PyTorch Model\n",
    "\n",
    "In the XGBoost notebook we discussed what a model is in the SageMaker framework. In particular, a model comprises three objects\n",
    "\n",
    " - Model Artifacts,\n",
    " - Training Code, and\n",
    " - Inference Code,\n",
    " \n",
    "each of which interact with one another. In the XGBoost example we used training and inference code that was provided by Amazon. Here we will still be using containers provided by Amazon with the added benefit of being able to include our own custom code.\n",
    "\n",
    "We will start by implementing our own neural network in PyTorch along with a training script. For the purposes of this project we have provided the necessary model object in the `model.py` file, inside of the `train` folder. You can see the provided implementation by running the cell below."
   ]
  },
  {
   "cell_type": "code",
   "execution_count": 24,
   "metadata": {},
   "outputs": [
    {
     "name": "stdout",
     "output_type": "stream",
     "text": [
      "\u001b[34mimport\u001b[39;49;00m \u001b[04m\u001b[36mtorch.nn\u001b[39;49;00m \u001b[34mas\u001b[39;49;00m \u001b[04m\u001b[36mnn\u001b[39;49;00m\r\n",
      "\r\n",
      "\u001b[34mclass\u001b[39;49;00m \u001b[04m\u001b[32mLSTMClassifier\u001b[39;49;00m(nn.Module):\r\n",
      "    \u001b[33m\"\"\"\u001b[39;49;00m\r\n",
      "\u001b[33m    This is the simple RNN model we will be using to perform Sentiment Analysis.\u001b[39;49;00m\r\n",
      "\u001b[33m    \"\"\"\u001b[39;49;00m\r\n",
      "\r\n",
      "    \u001b[34mdef\u001b[39;49;00m \u001b[32m__init__\u001b[39;49;00m(\u001b[36mself\u001b[39;49;00m, embedding_dim, hidden_dim, vocab_size):\r\n",
      "        \u001b[33m\"\"\"\u001b[39;49;00m\r\n",
      "\u001b[33m        Initialize the model by settingg up the various layers.\u001b[39;49;00m\r\n",
      "\u001b[33m        \"\"\"\u001b[39;49;00m\r\n",
      "        \u001b[36msuper\u001b[39;49;00m(LSTMClassifier, \u001b[36mself\u001b[39;49;00m).\u001b[32m__init__\u001b[39;49;00m()\r\n",
      "\r\n",
      "        \u001b[36mself\u001b[39;49;00m.embedding = nn.Embedding(vocab_size, embedding_dim, padding_idx=\u001b[34m0\u001b[39;49;00m)\r\n",
      "        \u001b[36mself\u001b[39;49;00m.lstm = nn.LSTM(embedding_dim, hidden_dim)\r\n",
      "        \u001b[36mself\u001b[39;49;00m.dense = nn.Linear(in_features=hidden_dim, out_features=\u001b[34m1\u001b[39;49;00m)\r\n",
      "        \u001b[36mself\u001b[39;49;00m.sig = nn.Sigmoid()\r\n",
      "        \r\n",
      "        \u001b[36mself\u001b[39;49;00m.word_dict = \u001b[36mNone\u001b[39;49;00m\r\n",
      "\r\n",
      "    \u001b[34mdef\u001b[39;49;00m \u001b[32mforward\u001b[39;49;00m(\u001b[36mself\u001b[39;49;00m, x):\r\n",
      "        \u001b[33m\"\"\"\u001b[39;49;00m\r\n",
      "\u001b[33m        Perform a forward pass of our model on some input.\u001b[39;49;00m\r\n",
      "\u001b[33m        \"\"\"\u001b[39;49;00m\r\n",
      "        x = x.t()\r\n",
      "        lengths = x[\u001b[34m0\u001b[39;49;00m,:]\r\n",
      "        reviews = x[\u001b[34m1\u001b[39;49;00m:,:]\r\n",
      "        embeds = \u001b[36mself\u001b[39;49;00m.embedding(reviews)\r\n",
      "        lstm_out, _ = \u001b[36mself\u001b[39;49;00m.lstm(embeds)\r\n",
      "        out = \u001b[36mself\u001b[39;49;00m.dense(lstm_out)\r\n",
      "        out = out[lengths - \u001b[34m1\u001b[39;49;00m, \u001b[36mrange\u001b[39;49;00m(\u001b[36mlen\u001b[39;49;00m(lengths))]\r\n",
      "        \u001b[34mreturn\u001b[39;49;00m \u001b[36mself\u001b[39;49;00m.sig(out.squeeze())\r\n"
     ]
    }
   ],
   "source": [
    "!pygmentize train/model.py"
   ]
  },
  {
   "cell_type": "markdown",
   "metadata": {},
   "source": [
    "The important takeaway from the implementation provided is that there are three parameters that we may wish to tweak to improve the performance of our model. These are the embedding dimension, the hidden dimension and the size of the vocabulary. We will likely want to make these parameters configurable in the training script so that if we wish to modify them we do not need to modify the script itself. We will see how to do this later on. To start we will write some of the training code in the notebook so that we can more easily diagnose any issues that arise.\n",
    "\n",
    "First we will load a small portion of the training data set to use as a sample. It would be very time consuming to try and train the model completely in the notebook as we do not have access to a gpu and the compute instance that we are using is not particularly powerful. However, we can work on a small bit of the data to get a feel for how our training script is behaving."
   ]
  },
  {
   "cell_type": "code",
   "execution_count": 25,
   "metadata": {},
   "outputs": [],
   "source": [
    "import torch\n",
    "import torch.utils.data\n",
    "\n",
    "# Read in only the first 250 rows\n",
    "train_sample = pd.read_csv(os.path.join(data_dir, 'train.csv'), header=None, names=None, nrows=250)\n",
    "\n",
    "# Turn the input pandas dataframe into tensors\n",
    "train_sample_y = torch.from_numpy(train_sample[[0]].values).float().squeeze()\n",
    "train_sample_X = torch.from_numpy(train_sample.drop([0], axis=1).values).long()\n",
    "\n",
    "# Build the dataset\n",
    "train_sample_ds = torch.utils.data.TensorDataset(train_sample_X, train_sample_y)\n",
    "# Build the dataloader\n",
    "train_sample_dl = torch.utils.data.DataLoader(train_sample_ds, batch_size=50)"
   ]
  },
  {
   "cell_type": "markdown",
   "metadata": {},
   "source": [
    "### (TODO) Writing the training method\n",
    "\n",
    "Next we need to write the training code itself. This should be very similar to training methods that you have written before to train PyTorch models. We will leave any difficult aspects such as model saving / loading and parameter loading until a little later."
   ]
  },
  {
   "cell_type": "code",
   "execution_count": 26,
   "metadata": {},
   "outputs": [],
   "source": [
    "def train(model, train_loader, epochs, optimizer, loss_fn, device):\n",
    "    for epoch in range(1, epochs + 1):\n",
    "        model.train()\n",
    "        total_loss = 0\n",
    "        for batch in train_loader:         \n",
    "            batch_X, batch_y = batch\n",
    "            \n",
    "            batch_X = batch_X.to(device)\n",
    "            batch_y = batch_y.to(device)\n",
    "            \n",
    "            # TODO: Complete this train method to train the model provided.\n",
    "            \n",
    "            model.zero_grad()\n",
    "            output = model(batch_X)\n",
    "            loss = loss_fn(output, batch_y)\n",
    "            loss.backward()\n",
    "            optimizer.step()\n",
    "            \n",
    "            total_loss += loss.data.item()\n",
    "        print(\"Epoch: {}, BCELoss: {}\".format(epoch, total_loss / len(train_loader)))"
   ]
  },
  {
   "cell_type": "markdown",
   "metadata": {},
   "source": [
    "Supposing we have the training method above, we will test that it is working by writing a bit of code in the notebook that executes our training method on the small sample training set that we loaded earlier. The reason for doing this in the notebook is so that we have an opportunity to fix any errors that arise early when they are easier to diagnose."
   ]
  },
  {
   "cell_type": "code",
   "execution_count": 27,
   "metadata": {},
   "outputs": [
    {
     "name": "stdout",
     "output_type": "stream",
     "text": [
      "Epoch: 1, BCELoss: 0.6921978950500488\n",
      "Epoch: 2, BCELoss: 0.6838531494140625\n",
      "Epoch: 3, BCELoss: 0.6768534064292908\n",
      "Epoch: 4, BCELoss: 0.6691322803497315\n",
      "Epoch: 5, BCELoss: 0.6598012566566467\n"
     ]
    }
   ],
   "source": [
    "import torch.optim as optim\n",
    "from train.model import LSTMClassifier\n",
    "\n",
    "device = torch.device(\"cuda\" if torch.cuda.is_available() else \"cpu\")\n",
    "model = LSTMClassifier(32, 100, 5000).to(device)\n",
    "optimizer = optim.Adam(model.parameters())\n",
    "loss_fn = torch.nn.BCELoss()\n",
    "\n",
    "train(model, train_sample_dl, 5, optimizer, loss_fn, device)"
   ]
  },
  {
   "cell_type": "markdown",
   "metadata": {},
   "source": [
    "In order to construct a PyTorch model using SageMaker we must provide SageMaker with a training script. We may optionally include a directory which will be copied to the container and from which our training code will be run. When the training container is executed it will check the uploaded directory (if there is one) for a `requirements.txt` file and install any required Python libraries, after which the training script will be run."
   ]
  },
  {
   "cell_type": "markdown",
   "metadata": {},
   "source": [
    "### (TODO) Training the model\n",
    "\n",
    "When a PyTorch model is constructed in SageMaker, an entry point must be specified. This is the Python file which will be executed when the model is trained. Inside of the `train` directory is a file called `train.py` which has been provided and which contains most of the necessary code to train our model. The only thing that is missing is the implementation of the `train()` method which you wrote earlier in this notebook.\n",
    "\n",
    "**TODO**: Copy the `train()` method written above and paste it into the `train/train.py` file where required.\n",
    "\n",
    "The way that SageMaker passes hyperparameters to the training script is by way of arguments. These arguments can then be parsed and used in the training script. To see how this is done take a look at the provided `train/train.py` file."
   ]
  },
  {
   "cell_type": "code",
   "execution_count": 28,
   "metadata": {},
   "outputs": [],
   "source": [
    "from sagemaker.pytorch import PyTorch\n",
    "\n",
    "estimator = PyTorch(entry_point=\"train.py\",\n",
    "                    source_dir=\"train\",\n",
    "                    role=role,\n",
    "                    framework_version='0.4.0',\n",
    "                    train_instance_count=1,\n",
    "                    train_instance_type='ml.p2.xlarge',\n",
    "                    hyperparameters={\n",
    "                        'epochs': 10,\n",
    "                        'hidden_dim': 200,\n",
    "                    })"
   ]
  },
  {
   "cell_type": "code",
   "execution_count": 29,
   "metadata": {},
   "outputs": [
    {
     "name": "stdout",
     "output_type": "stream",
     "text": [
      "2019-05-14 22:34:39 Starting - Starting the training job...\n",
      "2019-05-14 22:34:41 Starting - Launching requested ML instances......\n",
      "2019-05-14 22:35:46 Starting - Preparing the instances for training......\n",
      "2019-05-14 22:37:04 Downloading - Downloading input data...\n",
      "2019-05-14 22:37:31 Training - Downloading the training image...\n",
      "2019-05-14 22:38:04 Training - Training image download completed. Training in progress..\n",
      "\u001b[31mbash: cannot set terminal process group (-1): Inappropriate ioctl for device\u001b[0m\n",
      "\u001b[31mbash: no job control in this shell\u001b[0m\n",
      "\u001b[31m2019-05-14 22:38:05,656 sagemaker-containers INFO     Imported framework sagemaker_pytorch_container.training\u001b[0m\n",
      "\u001b[31m2019-05-14 22:38:05,679 sagemaker_pytorch_container.training INFO     Block until all host DNS lookups succeed.\u001b[0m\n",
      "\u001b[31m2019-05-14 22:38:08,687 sagemaker_pytorch_container.training INFO     Invoking user training script.\u001b[0m\n",
      "\u001b[31m2019-05-14 22:38:08,892 sagemaker-containers INFO     Module train does not provide a setup.py. \u001b[0m\n",
      "\u001b[31mGenerating setup.py\u001b[0m\n",
      "\u001b[31m2019-05-14 22:38:08,892 sagemaker-containers INFO     Generating setup.cfg\u001b[0m\n",
      "\u001b[31m2019-05-14 22:38:08,892 sagemaker-containers INFO     Generating MANIFEST.in\u001b[0m\n",
      "\u001b[31m2019-05-14 22:38:08,892 sagemaker-containers INFO     Installing module with the following command:\u001b[0m\n",
      "\u001b[31m/usr/bin/python -m pip install -U . -r requirements.txt\u001b[0m\n",
      "\u001b[31mProcessing /opt/ml/code\u001b[0m\n",
      "\u001b[31mCollecting pandas (from -r requirements.txt (line 1))\u001b[0m\n",
      "\u001b[31m  Downloading https://files.pythonhosted.org/packages/74/24/0cdbf8907e1e3bc5a8da03345c23cbed7044330bb8f73bb12e711a640a00/pandas-0.24.2-cp35-cp35m-manylinux1_x86_64.whl (10.0MB)\u001b[0m\n",
      "\u001b[31mCollecting numpy (from -r requirements.txt (line 2))\u001b[0m\n",
      "\u001b[31m  Downloading https://files.pythonhosted.org/packages/f6/f3/cc6c6745347c1e997cc3e58390584a250b8e22b6dfc45414a7d69a3df016/numpy-1.16.3-cp35-cp35m-manylinux1_x86_64.whl (17.2MB)\u001b[0m\n",
      "\u001b[31mCollecting nltk (from -r requirements.txt (line 3))\u001b[0m\n",
      "\u001b[31m  Downloading https://files.pythonhosted.org/packages/73/56/90178929712ce427ebad179f8dc46c8deef4e89d4c853092bee1efd57d05/nltk-3.4.1.zip (3.1MB)\u001b[0m\n",
      "\u001b[31mCollecting beautifulsoup4 (from -r requirements.txt (line 4))\n",
      "  Downloading https://files.pythonhosted.org/packages/1d/5d/3260694a59df0ec52f8b4883f5d23b130bc237602a1411fa670eae12351e/beautifulsoup4-4.7.1-py3-none-any.whl (94kB)\u001b[0m\n",
      "\u001b[31mCollecting html5lib (from -r requirements.txt (line 5))\n",
      "  Downloading https://files.pythonhosted.org/packages/a5/62/bbd2be0e7943ec8504b517e62bab011b4946e1258842bc159e5dfde15b96/html5lib-1.0.1-py2.py3-none-any.whl (117kB)\u001b[0m\n",
      "\u001b[31mCollecting pytz>=2011k (from pandas->-r requirements.txt (line 1))\n",
      "  Downloading https://files.pythonhosted.org/packages/3d/73/fe30c2daaaa0713420d0382b16fbb761409f532c56bdcc514bf7b6262bb6/pytz-2019.1-py2.py3-none-any.whl (510kB)\u001b[0m\n",
      "\u001b[31mRequirement already satisfied, skipping upgrade: python-dateutil>=2.5.0 in /usr/local/lib/python3.5/dist-packages (from pandas->-r requirements.txt (line 1)) (2.7.5)\u001b[0m\n",
      "\u001b[31mRequirement already satisfied, skipping upgrade: six in /usr/local/lib/python3.5/dist-packages (from nltk->-r requirements.txt (line 3)) (1.11.0)\u001b[0m\n",
      "\u001b[31mCollecting soupsieve>=1.2 (from beautifulsoup4->-r requirements.txt (line 4))\n",
      "  Downloading https://files.pythonhosted.org/packages/b9/a5/7ea40d0f8676bde6e464a6435a48bc5db09b1a8f4f06d41dd997b8f3c616/soupsieve-1.9.1-py2.py3-none-any.whl\u001b[0m\n",
      "\u001b[31mCollecting webencodings (from html5lib->-r requirements.txt (line 5))\n",
      "  Downloading https://files.pythonhosted.org/packages/f4/24/2a3e3df732393fed8b3ebf2ec078f05546de641fe1b667ee316ec1dcf3b7/webencodings-0.5.1-py2.py3-none-any.whl\u001b[0m\n",
      "\u001b[31mBuilding wheels for collected packages: nltk, train\n",
      "  Running setup.py bdist_wheel for nltk: started\u001b[0m\n",
      "\u001b[31m  Running setup.py bdist_wheel for nltk: finished with status 'done'\n",
      "  Stored in directory: /root/.cache/pip/wheels/97/8a/10/d646015f33c525688e91986c4544c68019b19a473cb33d3b55\n",
      "  Running setup.py bdist_wheel for train: started\u001b[0m\n",
      "\u001b[31m  Running setup.py bdist_wheel for train: finished with status 'done'\n",
      "  Stored in directory: /tmp/pip-ephem-wheel-cache-qn9j8356/wheels/35/24/16/37574d11bf9bde50616c67372a334f94fa8356bc7164af8ca3\u001b[0m\n",
      "\u001b[31mSuccessfully built nltk train\u001b[0m\n",
      "\u001b[31mInstalling collected packages: pytz, numpy, pandas, nltk, soupsieve, beautifulsoup4, webencodings, html5lib, train\n",
      "  Found existing installation: numpy 1.15.4\n",
      "    Uninstalling numpy-1.15.4:\u001b[0m\n",
      "\u001b[31m      Successfully uninstalled numpy-1.15.4\u001b[0m\n",
      "\u001b[31mSuccessfully installed beautifulsoup4-4.7.1 html5lib-1.0.1 nltk-3.4.1 numpy-1.16.3 pandas-0.24.2 pytz-2019.1 soupsieve-1.9.1 train-1.0.0 webencodings-0.5.1\u001b[0m\n",
      "\u001b[31mYou are using pip version 18.1, however version 19.1.1 is available.\u001b[0m\n",
      "\u001b[31mYou should consider upgrading via the 'pip install --upgrade pip' command.\u001b[0m\n",
      "\u001b[31m2019-05-14 22:38:20,091 sagemaker-containers INFO     Invoking user script\n",
      "\u001b[0m\n",
      "\u001b[31mTraining Env:\n",
      "\u001b[0m\n",
      "\u001b[31m{\n",
      "    \"input_config_dir\": \"/opt/ml/input/config\",\n",
      "    \"network_interface_name\": \"ethwe\",\n",
      "    \"module_name\": \"train\",\n",
      "    \"resource_config\": {\n",
      "        \"current_host\": \"algo-1\",\n",
      "        \"hosts\": [\n",
      "            \"algo-1\"\n",
      "        ],\n",
      "        \"network_interface_name\": \"ethwe\"\n",
      "    },\n",
      "    \"module_dir\": \"s3://sagemaker-us-east-2-964858481411/sagemaker-pytorch-2019-05-14-22-34-38-735/source/sourcedir.tar.gz\",\n",
      "    \"log_level\": 20,\n",
      "    \"input_dir\": \"/opt/ml/input\",\n",
      "    \"additional_framework_parameters\": {},\n",
      "    \"hosts\": [\n",
      "        \"algo-1\"\n",
      "    ],\n",
      "    \"input_data_config\": {\n",
      "        \"training\": {\n",
      "            \"TrainingInputMode\": \"File\",\n",
      "            \"S3DistributionType\": \"FullyReplicated\",\n",
      "            \"RecordWrapperType\": \"None\"\n",
      "        }\n",
      "    },\n",
      "    \"channel_input_dirs\": {\n",
      "        \"training\": \"/opt/ml/input/data/training\"\n",
      "    },\n",
      "    \"num_gpus\": 1,\n",
      "    \"model_dir\": \"/opt/ml/model\",\n",
      "    \"output_data_dir\": \"/opt/ml/output/data\",\n",
      "    \"current_host\": \"algo-1\",\n",
      "    \"output_intermediate_dir\": \"/opt/ml/output/intermediate\",\n",
      "    \"job_name\": \"sagemaker-pytorch-2019-05-14-22-34-38-735\",\n",
      "    \"num_cpus\": 4,\n",
      "    \"framework_module\": \"sagemaker_pytorch_container.training:main\",\n",
      "    \"output_dir\": \"/opt/ml/output\",\n",
      "    \"hyperparameters\": {\n",
      "        \"hidden_dim\": 200,\n",
      "        \"epochs\": 10\n",
      "    },\n",
      "    \"user_entry_point\": \"train.py\"\u001b[0m\n",
      "\u001b[31m}\n",
      "\u001b[0m\n",
      "\u001b[31mEnvironment variables:\n",
      "\u001b[0m\n",
      "\u001b[31mSM_LOG_LEVEL=20\u001b[0m\n",
      "\u001b[31mSM_HP_HIDDEN_DIM=200\u001b[0m\n",
      "\u001b[31mSM_INPUT_DATA_CONFIG={\"training\":{\"RecordWrapperType\":\"None\",\"S3DistributionType\":\"FullyReplicated\",\"TrainingInputMode\":\"File\"}}\u001b[0m\n",
      "\u001b[31mSM_INPUT_CONFIG_DIR=/opt/ml/input/config\u001b[0m\n",
      "\u001b[31mSM_OUTPUT_DATA_DIR=/opt/ml/output/data\u001b[0m\n",
      "\u001b[31mSM_HPS={\"epochs\":10,\"hidden_dim\":200}\u001b[0m\n",
      "\u001b[31mSM_NETWORK_INTERFACE_NAME=ethwe\u001b[0m\n",
      "\u001b[31mSM_NUM_GPUS=1\u001b[0m\n",
      "\u001b[31mSM_MODULE_NAME=train\u001b[0m\n",
      "\u001b[31mSM_HP_EPOCHS=10\u001b[0m\n",
      "\u001b[31mSM_HOSTS=[\"algo-1\"]\u001b[0m\n",
      "\u001b[31mSM_MODEL_DIR=/opt/ml/model\u001b[0m\n",
      "\u001b[31mSM_FRAMEWORK_MODULE=sagemaker_pytorch_container.training:main\u001b[0m\n",
      "\u001b[31mSM_OUTPUT_DIR=/opt/ml/output\u001b[0m\n",
      "\u001b[31mSM_CHANNEL_TRAINING=/opt/ml/input/data/training\u001b[0m\n",
      "\u001b[31mSM_CURRENT_HOST=algo-1\u001b[0m\n",
      "\u001b[31mSM_RESOURCE_CONFIG={\"current_host\":\"algo-1\",\"hosts\":[\"algo-1\"],\"network_interface_name\":\"ethwe\"}\u001b[0m\n",
      "\u001b[31mSM_TRAINING_ENV={\"additional_framework_parameters\":{},\"channel_input_dirs\":{\"training\":\"/opt/ml/input/data/training\"},\"current_host\":\"algo-1\",\"framework_module\":\"sagemaker_pytorch_container.training:main\",\"hosts\":[\"algo-1\"],\"hyperparameters\":{\"epochs\":10,\"hidden_dim\":200},\"input_config_dir\":\"/opt/ml/input/config\",\"input_data_config\":{\"training\":{\"RecordWrapperType\":\"None\",\"S3DistributionType\":\"FullyReplicated\",\"TrainingInputMode\":\"File\"}},\"input_dir\":\"/opt/ml/input\",\"job_name\":\"sagemaker-pytorch-2019-05-14-22-34-38-735\",\"log_level\":20,\"model_dir\":\"/opt/ml/model\",\"module_dir\":\"s3://sagemaker-us-east-2-964858481411/sagemaker-pytorch-2019-05-14-22-34-38-735/source/sourcedir.tar.gz\",\"module_name\":\"train\",\"network_interface_name\":\"ethwe\",\"num_cpus\":4,\"num_gpus\":1,\"output_data_dir\":\"/opt/ml/output/data\",\"output_dir\":\"/opt/ml/output\",\"output_intermediate_dir\":\"/opt/ml/output/intermediate\",\"resource_config\":{\"current_host\":\"algo-1\",\"hosts\":[\"algo-1\"],\"network_interface_name\":\"ethwe\"},\"user_entry_point\":\"train.py\"}\u001b[0m\n",
      "\u001b[31mSM_FRAMEWORK_PARAMS={}\u001b[0m\n",
      "\u001b[31mSM_NUM_CPUS=4\u001b[0m\n",
      "\u001b[31mSM_OUTPUT_INTERMEDIATE_DIR=/opt/ml/output/intermediate\u001b[0m\n",
      "\u001b[31mSM_USER_ENTRY_POINT=train.py\u001b[0m\n",
      "\u001b[31mSM_CHANNELS=[\"training\"]\u001b[0m\n",
      "\u001b[31mSM_MODULE_DIR=s3://sagemaker-us-east-2-964858481411/sagemaker-pytorch-2019-05-14-22-34-38-735/source/sourcedir.tar.gz\u001b[0m\n",
      "\u001b[31mSM_USER_ARGS=[\"--epochs\",\"10\",\"--hidden_dim\",\"200\"]\u001b[0m\n",
      "\u001b[31mPYTHONPATH=/usr/local/bin:/usr/lib/python35.zip:/usr/lib/python3.5:/usr/lib/python3.5/plat-x86_64-linux-gnu:/usr/lib/python3.5/lib-dynload:/usr/local/lib/python3.5/dist-packages:/usr/lib/python3/dist-packages\u001b[0m\n",
      "\u001b[31mSM_INPUT_DIR=/opt/ml/input\n",
      "\u001b[0m\n",
      "\u001b[31mInvoking script with the following command:\n",
      "\u001b[0m\n",
      "\u001b[31m/usr/bin/python -m train --epochs 10 --hidden_dim 200\n",
      "\n",
      "\u001b[0m\n",
      "\u001b[31mUsing device cuda.\u001b[0m\n",
      "\u001b[31mGet train data loader.\u001b[0m\n"
     ]
    },
    {
     "name": "stdout",
     "output_type": "stream",
     "text": [
      "\u001b[31mModel loaded with embedding_dim 32, hidden_dim 200, vocab_size 5000.\u001b[0m\n",
      "\u001b[31mEpoch: 1, BCELoss: 0.671776547723887\u001b[0m\n",
      "\u001b[31mEpoch: 2, BCELoss: 0.5981465651064503\u001b[0m\n",
      "\u001b[31mEpoch: 3, BCELoss: 0.5057935958005944\u001b[0m\n",
      "\u001b[31mEpoch: 4, BCELoss: 0.4270568167676731\u001b[0m\n",
      "\u001b[31mEpoch: 5, BCELoss: 0.3747241831555658\u001b[0m\n",
      "\u001b[31mEpoch: 6, BCELoss: 0.3401184696324018\u001b[0m\n",
      "\u001b[31mEpoch: 7, BCELoss: 0.3318149386620035\u001b[0m\n",
      "\u001b[31mEpoch: 8, BCELoss: 0.3244213826802312\u001b[0m\n",
      "\u001b[31mEpoch: 9, BCELoss: 0.2872343756714646\u001b[0m\n",
      "\u001b[31mEpoch: 10, BCELoss: 0.2746681601417308\u001b[0m\n",
      "\u001b[31m2019-05-14 22:41:18,755 sagemaker-containers INFO     Reporting training SUCCESS\u001b[0m\n",
      "\n",
      "2019-05-14 22:41:27 Uploading - Uploading generated training model\n",
      "2019-05-14 22:41:27 Completed - Training job completed\n",
      "Billable seconds: 263\n"
     ]
    }
   ],
   "source": [
    "estimator.fit({'training': input_data})"
   ]
  },
  {
   "cell_type": "markdown",
   "metadata": {},
   "source": [
    "## Step 5: Testing the model\n",
    "\n",
    "As mentioned at the top of this notebook, we will be testing this model by first deploying it and then sending the testing data to the deployed endpoint. We will do this so that we can make sure that the deployed model is working correctly.\n",
    "\n",
    "## Step 6: Deploy the model for testing\n",
    "\n",
    "Now that we have trained our model, we would like to test it to see how it performs. Currently our model takes input of the form `review_length, review[500]` where `review[500]` is a sequence of `500` integers which describe the words present in the review, encoded using `word_dict`. Fortunately for us, SageMaker provides built-in inference code for models with simple inputs such as this.\n",
    "\n",
    "There is one thing that we need to provide, however, and that is a function which loads the saved model. This function must be called `model_fn()` and takes as its only parameter a path to the directory where the model artifacts are stored. This function must also be present in the python file which we specified as the entry point. In our case the model loading function has been provided and so no changes need to be made.\n",
    "\n",
    "**NOTE**: When the built-in inference code is run it must import the `model_fn()` method from the `train.py` file. This is why the training code is wrapped in a main guard ( ie, `if __name__ == '__main__':` )\n",
    "\n",
    "Since we don't need to change anything in the code that was uploaded during training, we can simply deploy the current model as-is.\n",
    "\n",
    "**NOTE:** When deploying a model you are asking SageMaker to launch an compute instance that will wait for data to be sent to it. As a result, this compute instance will continue to run until *you* shut it down. This is important to know since the cost of a deployed endpoint depends on how long it has been running for.\n",
    "\n",
    "In other words **If you are no longer using a deployed endpoint, shut it down!**\n",
    "\n",
    "**TODO:** Deploy the trained model."
   ]
  },
  {
   "cell_type": "code",
   "execution_count": 30,
   "metadata": {},
   "outputs": [
    {
     "name": "stdout",
     "output_type": "stream",
     "text": [
      "---------------------------------------------------------------------------------------!"
     ]
    }
   ],
   "source": [
    "# TODO: Deploy the trained model\n",
    "rnn_predictor = estimator.deploy(initial_instance_count = 1, instance_type = 'ml.m4.xlarge')"
   ]
  },
  {
   "cell_type": "markdown",
   "metadata": {},
   "source": [
    "## Step 7 - Use the model for testing\n",
    "\n",
    "Once deployed, we can read in the test data and send it off to our deployed model to get some results. Once we collect all of the results we can determine how accurate our model is."
   ]
  },
  {
   "cell_type": "code",
   "execution_count": 31,
   "metadata": {},
   "outputs": [],
   "source": [
    "test_X = pd.concat([pd.DataFrame(test_X_len), pd.DataFrame(test_X)], axis=1)"
   ]
  },
  {
   "cell_type": "code",
   "execution_count": 34,
   "metadata": {},
   "outputs": [],
   "source": [
    "# We split the data into chunks and send each chunk seperately, accumulating the results.\n",
    "\n",
    "def predict(data, rows=512):\n",
    "    split_array = np.array_split(data, int(data.shape[0] / float(rows) + 1))\n",
    "    predictions = np.array([])\n",
    "    for array in split_array:\n",
    "        predictions = np.append(predictions, rnn_predictor.predict(array))\n",
    "    \n",
    "    return predictions"
   ]
  },
  {
   "cell_type": "code",
   "execution_count": 35,
   "metadata": {},
   "outputs": [],
   "source": [
    "predictions = predict(test_X.values)\n",
    "predictions = [round(num) for num in predictions]"
   ]
  },
  {
   "cell_type": "code",
   "execution_count": 36,
   "metadata": {},
   "outputs": [
    {
     "data": {
      "text/plain": [
       "0.84804"
      ]
     },
     "execution_count": 36,
     "metadata": {},
     "output_type": "execute_result"
    }
   ],
   "source": [
    "from sklearn.metrics import accuracy_score\n",
    "accuracy_score(test_y, predictions)"
   ]
  },
  {
   "cell_type": "markdown",
   "metadata": {},
   "source": [
    "**Question:** How does this model compare to the XGBoost model you created earlier? Why might these two models perform differently on this dataset? Which do *you* think is better for sentiment analysis?"
   ]
  },
  {
   "cell_type": "markdown",
   "metadata": {},
   "source": [
    "**Answer:**\n",
    "The two models give comparable results. XGBoost accuracy was around 0.86. With more parameter tuning, I think the RNN might give a better performance. "
   ]
  },
  {
   "cell_type": "markdown",
   "metadata": {},
   "source": [
    "### (TODO) More testing\n",
    "\n",
    "We now have a trained model which has been deployed and which we can send processed reviews to and which returns the predicted sentiment. However, ultimately we would like to be able to send our model an unprocessed review. That is, we would like to send the review itself as a string. For example, suppose we wish to send the following review to our model."
   ]
  },
  {
   "cell_type": "code",
   "execution_count": 39,
   "metadata": {},
   "outputs": [],
   "source": [
    "test_review = 'The simplest pleasures in life are the best, and this film is one of them. Combining a rather basic storyline of love and adventure this movie transcends the usual weekend fair with wit and unmitigated charm.'"
   ]
  },
  {
   "cell_type": "markdown",
   "metadata": {},
   "source": [
    "The question we now need to answer is, how do we send this review to our model?\n",
    "\n",
    "Recall in the first section of this notebook we did a bunch of data processing to the IMDb dataset. In particular, we did two specific things to the provided reviews.\n",
    " - Removed any html tags and stemmed the input\n",
    " - Encoded the review as a sequence of integers using `word_dict`\n",
    " \n",
    "In order process the review we will need to repeat these two steps.\n",
    "\n",
    "**TODO**: Using the `review_to_words` and `convert_and_pad` methods from section one, convert `test_review` into a numpy array `test_data` suitable to send to our model. Remember that our model expects input of the form `review_length, review[500]`."
   ]
  },
  {
   "cell_type": "code",
   "execution_count": 70,
   "metadata": {},
   "outputs": [],
   "source": [
    "# TODO: Convert test_review into a form usable by the model and save the results in test_data\n",
    "test_data_words = review_to_words(test_review)\n",
    "padded_test_data = convert_and_pad(word_dict, test_data_words)[0]\n",
    "test_data = [np.array(padded_test_data)]\n"
   ]
  },
  {
   "cell_type": "markdown",
   "metadata": {},
   "source": [
    "Now that we have processed the review, we can send the resulting array to our model to predict the sentiment of the review."
   ]
  },
  {
   "cell_type": "code",
   "execution_count": 71,
   "metadata": {},
   "outputs": [
    {
     "data": {
      "text/plain": [
       "array(0.5122236, dtype=float32)"
      ]
     },
     "execution_count": 71,
     "metadata": {},
     "output_type": "execute_result"
    }
   ],
   "source": [
    "rnn_predictor.predict(test_data)"
   ]
  },
  {
   "cell_type": "code",
   "execution_count": 72,
   "metadata": {},
   "outputs": [],
   "source": [
    "test_review_2 = 'This movie is amazing! I totally recommend watching it!'"
   ]
  },
  {
   "cell_type": "code",
   "execution_count": 73,
   "metadata": {},
   "outputs": [
    {
     "data": {
      "text/plain": [
       "array(0.7376423, dtype=float32)"
      ]
     },
     "execution_count": 73,
     "metadata": {},
     "output_type": "execute_result"
    }
   ],
   "source": [
    "test_data_words = review_to_words(test_review_2)\n",
    "padded_test_data = convert_and_pad(word_dict, test_data_words)[0]\n",
    "test_data = [np.array(padded_test_data)]\n",
    "rnn_predictor.predict(test_data)"
   ]
  },
  {
   "cell_type": "markdown",
   "metadata": {},
   "source": [
    "Since the return value of our model is close to `1`, we can be certain that the review we submitted is positive."
   ]
  },
  {
   "cell_type": "markdown",
   "metadata": {},
   "source": [
    "### Delete the endpoint\n",
    "\n",
    "Of course, just like in the XGBoost notebook, once we've deployed an endpoint it continues to run until we tell it to shut down. Since we are done using our endpoint for now, we can delete it."
   ]
  },
  {
   "cell_type": "code",
   "execution_count": 74,
   "metadata": {},
   "outputs": [],
   "source": [
    "estimator.delete_endpoint()"
   ]
  },
  {
   "cell_type": "markdown",
   "metadata": {},
   "source": [
    "## Step 6 (again) - Deploy the model for the web app\n",
    "\n",
    "Now that we know that our model is working, it's time to create some custom inference code so that we can send the model a review which has not been processed and have it determine the sentiment of the review.\n",
    "\n",
    "As we saw above, by default the estimator which we created, when deployed, will use the entry script and directory which we provided when creating the model. However, since we now wish to accept a string as input and our model expects a processed review, we need to write some custom inference code.\n",
    "\n",
    "We will store the code that we write in the `serve` directory. Provided in this directory is the `model.py` file that we used to construct our model, a `utils.py` file which contains the `review_to_words` and `convert_and_pad` pre-processing functions which we used during the initial data processing, and `predict.py`, the file which will contain our custom inference code. Note also that `requirements.txt` is present which will tell SageMaker what Python libraries are required by our custom inference code.\n",
    "\n",
    "When deploying a PyTorch model in SageMaker, you are expected to provide four functions which the SageMaker inference container will use.\n",
    " - `model_fn`: This function is the same function that we used in the training script and it tells SageMaker how to load our model.\n",
    " - `input_fn`: This function receives the raw serialized input that has been sent to the model's endpoint and its job is to de-serialize and make the input available for the inference code.\n",
    " - `output_fn`: This function takes the output of the inference code and its job is to serialize this output and return it to the caller of the model's endpoint.\n",
    " - `predict_fn`: The heart of the inference script, this is where the actual prediction is done and is the function which you will need to complete.\n",
    "\n",
    "For the simple website that we are constructing during this project, the `input_fn` and `output_fn` methods are relatively straightforward. We only require being able to accept a string as input and we expect to return a single value as output. You might imagine though that in a more complex application the input or output may be image data or some other binary data which would require some effort to serialize.\n",
    "\n",
    "### (TODO) Writing inference code\n",
    "\n",
    "Before writing our custom inference code, we will begin by taking a look at the code which has been provided."
   ]
  },
  {
   "cell_type": "code",
   "execution_count": 111,
   "metadata": {},
   "outputs": [
    {
     "name": "stdout",
     "output_type": "stream",
     "text": [
      "\u001b[34mimport\u001b[39;49;00m \u001b[04m\u001b[36margparse\u001b[39;49;00m\r\n",
      "\u001b[34mimport\u001b[39;49;00m \u001b[04m\u001b[36mjson\u001b[39;49;00m\r\n",
      "\u001b[34mimport\u001b[39;49;00m \u001b[04m\u001b[36mos\u001b[39;49;00m\r\n",
      "\u001b[34mimport\u001b[39;49;00m \u001b[04m\u001b[36mpickle\u001b[39;49;00m\r\n",
      "\u001b[34mimport\u001b[39;49;00m \u001b[04m\u001b[36msys\u001b[39;49;00m\r\n",
      "\u001b[34mimport\u001b[39;49;00m \u001b[04m\u001b[36msagemaker_containers\u001b[39;49;00m\r\n",
      "\u001b[34mimport\u001b[39;49;00m \u001b[04m\u001b[36mpandas\u001b[39;49;00m \u001b[34mas\u001b[39;49;00m \u001b[04m\u001b[36mpd\u001b[39;49;00m\r\n",
      "\u001b[34mimport\u001b[39;49;00m \u001b[04m\u001b[36mnumpy\u001b[39;49;00m \u001b[34mas\u001b[39;49;00m \u001b[04m\u001b[36mnp\u001b[39;49;00m\r\n",
      "\u001b[34mimport\u001b[39;49;00m \u001b[04m\u001b[36mtorch\u001b[39;49;00m\r\n",
      "\u001b[34mimport\u001b[39;49;00m \u001b[04m\u001b[36mtorch.nn\u001b[39;49;00m \u001b[34mas\u001b[39;49;00m \u001b[04m\u001b[36mnn\u001b[39;49;00m\r\n",
      "\u001b[34mimport\u001b[39;49;00m \u001b[04m\u001b[36mtorch.optim\u001b[39;49;00m \u001b[34mas\u001b[39;49;00m \u001b[04m\u001b[36moptim\u001b[39;49;00m\r\n",
      "\u001b[34mimport\u001b[39;49;00m \u001b[04m\u001b[36mtorch.utils.data\u001b[39;49;00m\r\n",
      "\r\n",
      "\u001b[34mfrom\u001b[39;49;00m \u001b[04m\u001b[36mmodel\u001b[39;49;00m \u001b[34mimport\u001b[39;49;00m LSTMClassifier\r\n",
      "\r\n",
      "\u001b[34mfrom\u001b[39;49;00m \u001b[04m\u001b[36mutils\u001b[39;49;00m \u001b[34mimport\u001b[39;49;00m review_to_words, convert_and_pad\r\n",
      "\r\n",
      "\u001b[34mdef\u001b[39;49;00m \u001b[32mmodel_fn\u001b[39;49;00m(model_dir):\r\n",
      "    \u001b[33m\"\"\"Load the PyTorch model from the `model_dir` directory.\"\"\"\u001b[39;49;00m\r\n",
      "    \u001b[34mprint\u001b[39;49;00m(\u001b[33m\"\u001b[39;49;00m\u001b[33mLoading model.\u001b[39;49;00m\u001b[33m\"\u001b[39;49;00m)\r\n",
      "\r\n",
      "    \u001b[37m# First, load the parameters used to create the model.\u001b[39;49;00m\r\n",
      "    model_info = {}\r\n",
      "    model_info_path = os.path.join(model_dir, \u001b[33m'\u001b[39;49;00m\u001b[33mmodel_info.pth\u001b[39;49;00m\u001b[33m'\u001b[39;49;00m)\r\n",
      "    \u001b[34mwith\u001b[39;49;00m \u001b[36mopen\u001b[39;49;00m(model_info_path, \u001b[33m'\u001b[39;49;00m\u001b[33mrb\u001b[39;49;00m\u001b[33m'\u001b[39;49;00m) \u001b[34mas\u001b[39;49;00m f:\r\n",
      "        model_info = torch.load(f)\r\n",
      "\r\n",
      "    \u001b[34mprint\u001b[39;49;00m(\u001b[33m\"\u001b[39;49;00m\u001b[33mmodel_info: {}\u001b[39;49;00m\u001b[33m\"\u001b[39;49;00m.format(model_info))\r\n",
      "\r\n",
      "    \u001b[37m# Determine the device and construct the model.\u001b[39;49;00m\r\n",
      "    device = torch.device(\u001b[33m\"\u001b[39;49;00m\u001b[33mcuda\u001b[39;49;00m\u001b[33m\"\u001b[39;49;00m \u001b[34mif\u001b[39;49;00m torch.cuda.is_available() \u001b[34melse\u001b[39;49;00m \u001b[33m\"\u001b[39;49;00m\u001b[33mcpu\u001b[39;49;00m\u001b[33m\"\u001b[39;49;00m)\r\n",
      "    model = LSTMClassifier(model_info[\u001b[33m'\u001b[39;49;00m\u001b[33membedding_dim\u001b[39;49;00m\u001b[33m'\u001b[39;49;00m], model_info[\u001b[33m'\u001b[39;49;00m\u001b[33mhidden_dim\u001b[39;49;00m\u001b[33m'\u001b[39;49;00m], model_info[\u001b[33m'\u001b[39;49;00m\u001b[33mvocab_size\u001b[39;49;00m\u001b[33m'\u001b[39;49;00m])\r\n",
      "\r\n",
      "    \u001b[37m# Load the store model parameters.\u001b[39;49;00m\r\n",
      "    model_path = os.path.join(model_dir, \u001b[33m'\u001b[39;49;00m\u001b[33mmodel.pth\u001b[39;49;00m\u001b[33m'\u001b[39;49;00m)\r\n",
      "    \u001b[34mwith\u001b[39;49;00m \u001b[36mopen\u001b[39;49;00m(model_path, \u001b[33m'\u001b[39;49;00m\u001b[33mrb\u001b[39;49;00m\u001b[33m'\u001b[39;49;00m) \u001b[34mas\u001b[39;49;00m f:\r\n",
      "        model.load_state_dict(torch.load(f))\r\n",
      "\r\n",
      "    \u001b[37m# Load the saved word_dict.\u001b[39;49;00m\r\n",
      "    word_dict_path = os.path.join(model_dir, \u001b[33m'\u001b[39;49;00m\u001b[33mword_dict.pkl\u001b[39;49;00m\u001b[33m'\u001b[39;49;00m)\r\n",
      "    \u001b[34mwith\u001b[39;49;00m \u001b[36mopen\u001b[39;49;00m(word_dict_path, \u001b[33m'\u001b[39;49;00m\u001b[33mrb\u001b[39;49;00m\u001b[33m'\u001b[39;49;00m) \u001b[34mas\u001b[39;49;00m f:\r\n",
      "        model.word_dict = pickle.load(f)\r\n",
      "\r\n",
      "    model.to(device).eval()\r\n",
      "\r\n",
      "    \u001b[34mprint\u001b[39;49;00m(\u001b[33m\"\u001b[39;49;00m\u001b[33mDone loading model.\u001b[39;49;00m\u001b[33m\"\u001b[39;49;00m)\r\n",
      "    \u001b[34mreturn\u001b[39;49;00m model\r\n",
      "\r\n",
      "\u001b[34mdef\u001b[39;49;00m \u001b[32minput_fn\u001b[39;49;00m(serialized_input_data, content_type):\r\n",
      "    \u001b[34mprint\u001b[39;49;00m(\u001b[33m'\u001b[39;49;00m\u001b[33mDeserializing the input data.\u001b[39;49;00m\u001b[33m'\u001b[39;49;00m)\r\n",
      "    \u001b[34mif\u001b[39;49;00m content_type == \u001b[33m'\u001b[39;49;00m\u001b[33mtext/plain\u001b[39;49;00m\u001b[33m'\u001b[39;49;00m:\r\n",
      "        data = serialized_input_data.decode(\u001b[33m'\u001b[39;49;00m\u001b[33mutf-8\u001b[39;49;00m\u001b[33m'\u001b[39;49;00m)\r\n",
      "        \u001b[34mreturn\u001b[39;49;00m data\r\n",
      "    \u001b[34mraise\u001b[39;49;00m \u001b[36mException\u001b[39;49;00m(\u001b[33m'\u001b[39;49;00m\u001b[33mRequested unsupported ContentType in content_type: \u001b[39;49;00m\u001b[33m'\u001b[39;49;00m + content_type)\r\n",
      "\r\n",
      "\u001b[34mdef\u001b[39;49;00m \u001b[32moutput_fn\u001b[39;49;00m(prediction_output, accept):\r\n",
      "    \u001b[34mprint\u001b[39;49;00m(\u001b[33m'\u001b[39;49;00m\u001b[33mSerializing the generated output.\u001b[39;49;00m\u001b[33m'\u001b[39;49;00m)\r\n",
      "    \u001b[34mreturn\u001b[39;49;00m \u001b[36mstr\u001b[39;49;00m(prediction_output)\r\n",
      "\r\n",
      "\u001b[34mdef\u001b[39;49;00m \u001b[32mpredict_fn\u001b[39;49;00m(input_data, model):\r\n",
      "    \u001b[34mprint\u001b[39;49;00m(\u001b[33m'\u001b[39;49;00m\u001b[33mInferring sentiment of input data.\u001b[39;49;00m\u001b[33m'\u001b[39;49;00m)\r\n",
      "\r\n",
      "    device = torch.device(\u001b[33m\"\u001b[39;49;00m\u001b[33mcuda\u001b[39;49;00m\u001b[33m\"\u001b[39;49;00m \u001b[34mif\u001b[39;49;00m torch.cuda.is_available() \u001b[34melse\u001b[39;49;00m \u001b[33m\"\u001b[39;49;00m\u001b[33mcpu\u001b[39;49;00m\u001b[33m\"\u001b[39;49;00m)\r\n",
      "    \r\n",
      "    \u001b[34mif\u001b[39;49;00m model.word_dict \u001b[35mis\u001b[39;49;00m \u001b[36mNone\u001b[39;49;00m:\r\n",
      "        \u001b[34mraise\u001b[39;49;00m \u001b[36mException\u001b[39;49;00m(\u001b[33m'\u001b[39;49;00m\u001b[33mModel has not been loaded properly, no word_dict.\u001b[39;49;00m\u001b[33m'\u001b[39;49;00m)\r\n",
      "    \r\n",
      "    \u001b[37m# TODO: Process input_data so that it is ready to be sent to our model.\u001b[39;49;00m\r\n",
      "    \u001b[37m#       You should produce two variables:\u001b[39;49;00m\r\n",
      "    \u001b[37m#         data_X   - A sequence of length 500 which represents the converted review\u001b[39;49;00m\r\n",
      "    \u001b[37m#         data_len - The length of the review\u001b[39;49;00m\r\n",
      "    \r\n",
      "    data_X ,data_len = convert_and_pad(model.word_dict, review_to_words(input_data))\r\n",
      "   \r\n",
      "\r\n",
      "    \u001b[37m# Using data_X and data_len we construct an appropriate input tensor. Remember\u001b[39;49;00m\r\n",
      "    \u001b[37m# that our model expects input data of the form 'len, review[500]'.\u001b[39;49;00m\r\n",
      "    data_pack = np.hstack((data_len, data_X))\r\n",
      "    data_pack = data_pack.reshape(\u001b[34m1\u001b[39;49;00m, -\u001b[34m1\u001b[39;49;00m)\r\n",
      "    \r\n",
      "    data = torch.from_numpy(data_pack)\r\n",
      "    data = data.to(device)\r\n",
      "\r\n",
      "    \u001b[37m# Make sure to put the model into evaluation mode\u001b[39;49;00m\r\n",
      "    model.eval()\r\n",
      "\r\n",
      "    \u001b[37m# TODO: Compute the result of applying the model to the input data. The variable `result` should\u001b[39;49;00m\r\n",
      "    \u001b[37m#       be a numpy array which contains a single integer which is either 1 or 0\u001b[39;49;00m\r\n",
      "    \u001b[34mwith\u001b[39;49;00m torch.no_grad():\r\n",
      "        output = model.forward(data)\r\n",
      "        \r\n",
      "    \u001b[34mif\u001b[39;49;00m (output < \u001b[34m0.5\u001b[39;49;00m):\r\n",
      "        result = np.intc(\u001b[34m0\u001b[39;49;00m)\r\n",
      "    \u001b[34melse\u001b[39;49;00m:\r\n",
      "        result = np.intc(\u001b[34m1\u001b[39;49;00m)\r\n",
      "\r\n",
      "\r\n",
      "\r\n",
      "    \u001b[34mreturn\u001b[39;49;00m result\r\n"
     ]
    }
   ],
   "source": [
    "!pygmentize serve/predict.py"
   ]
  },
  {
   "cell_type": "markdown",
   "metadata": {},
   "source": [
    "As mentioned earlier, the `model_fn` method is the same as the one provided in the training code and the `input_fn` and `output_fn` methods are very simple and your task will be to complete the `predict_fn` method. Make sure that you save the completed file as `predict.py` in the `serve` directory.\n",
    "\n",
    "**TODO**: Complete the `predict_fn()` method in the `serve/predict.py` file."
   ]
  },
  {
   "cell_type": "markdown",
   "metadata": {},
   "source": [
    "### Deploying the model\n",
    "\n",
    "Now that the custom inference code has been written, we will create and deploy our model. To begin with, we need to construct a new PyTorchModel object which points to the model artifacts created during training and also points to the inference code that we wish to use. Then we can call the deploy method to launch the deployment container.\n",
    "\n",
    "**NOTE**: The default behaviour for a deployed PyTorch model is to assume that any input passed to the predictor is a `numpy` array. In our case we want to send a string so we need to construct a simple wrapper around the `RealTimePredictor` class to accomodate simple strings. In a more complicated situation you may want to provide a serialization object, for example if you wanted to sent image data."
   ]
  },
  {
   "cell_type": "code",
   "execution_count": 116,
   "metadata": {},
   "outputs": [
    {
     "name": "stdout",
     "output_type": "stream",
     "text": [
      "---------------------------------------------------------------------------------------!"
     ]
    }
   ],
   "source": [
    "from sagemaker.predictor import RealTimePredictor\n",
    "from sagemaker.pytorch import PyTorchModel\n",
    "\n",
    "class StringPredictor(RealTimePredictor):\n",
    "    def __init__(self, endpoint_name, sagemaker_session):\n",
    "        super(StringPredictor, self).__init__(endpoint_name, sagemaker_session, content_type='text/plain')\n",
    "\n",
    "model = PyTorchModel(model_data=estimator.model_data,\n",
    "                     role = role,\n",
    "                     framework_version='0.4.0',\n",
    "                     entry_point='predict.py',\n",
    "                     source_dir='serve',\n",
    "                     predictor_cls=StringPredictor)\n",
    "predictor = model.deploy(initial_instance_count=1, instance_type='ml.m4.xlarge')"
   ]
  },
  {
   "cell_type": "markdown",
   "metadata": {},
   "source": [
    "### Testing the model\n",
    "\n",
    "Now that we have deployed our model with the custom inference code, we should test to see if everything is working. Here we test our model by loading the first `250` positive and negative reviews and send them to the endpoint, then collect the results. The reason for only sending some of the data is that the amount of time it takes for our model to process the input and then perform inference is quite long and so testing the entire data set would be prohibitive."
   ]
  },
  {
   "cell_type": "code",
   "execution_count": 117,
   "metadata": {},
   "outputs": [],
   "source": [
    "import glob\n",
    "\n",
    "def test_reviews(data_dir='../data/aclImdb', stop=250):\n",
    "    \n",
    "    results = []\n",
    "    ground = []\n",
    "    \n",
    "    # We make sure to test both positive and negative reviews    \n",
    "    for sentiment in ['pos', 'neg']:\n",
    "        \n",
    "        path = os.path.join(data_dir, 'test', sentiment, '*.txt')\n",
    "        files = glob.glob(path)\n",
    "        \n",
    "        files_read = 0\n",
    "        \n",
    "        print('Starting ', sentiment, ' files')\n",
    "        \n",
    "        # Iterate through the files and send them to the predictor\n",
    "        for f in files:\n",
    "            with open(f) as review:\n",
    "                # First, we store the ground truth (was the review positive or negative)\n",
    "                if sentiment == 'pos':\n",
    "                    ground.append(1)\n",
    "                else:\n",
    "                    ground.append(0)\n",
    "                # Read in the review and convert to 'utf-8' for transmission via HTTP\n",
    "                review_input = review.read().encode('utf-8')\n",
    "                # Send the review to the predictor and store the results\n",
    "                results.append(int(predictor.predict(review_input)))\n",
    "                \n",
    "            # Sending reviews to our endpoint one at a time takes a while so we\n",
    "            # only send a small number of reviews\n",
    "            files_read += 1\n",
    "            if files_read == stop:\n",
    "                break\n",
    "            \n",
    "    return ground, results"
   ]
  },
  {
   "cell_type": "code",
   "execution_count": 118,
   "metadata": {},
   "outputs": [
    {
     "name": "stdout",
     "output_type": "stream",
     "text": [
      "Starting  pos  files\n",
      "Starting  neg  files\n"
     ]
    }
   ],
   "source": [
    "ground, results = test_reviews()"
   ]
  },
  {
   "cell_type": "code",
   "execution_count": 119,
   "metadata": {},
   "outputs": [
    {
     "data": {
      "text/plain": [
       "0.864"
      ]
     },
     "execution_count": 119,
     "metadata": {},
     "output_type": "execute_result"
    }
   ],
   "source": [
    "from sklearn.metrics import accuracy_score\n",
    "accuracy_score(ground, results)"
   ]
  },
  {
   "cell_type": "markdown",
   "metadata": {},
   "source": [
    "As an additional test, we can try sending the `test_review` that we looked at earlier."
   ]
  },
  {
   "cell_type": "code",
   "execution_count": 120,
   "metadata": {},
   "outputs": [
    {
     "data": {
      "text/plain": [
       "b'1'"
      ]
     },
     "execution_count": 120,
     "metadata": {},
     "output_type": "execute_result"
    }
   ],
   "source": [
    "predictor.predict(test_review)"
   ]
  },
  {
   "cell_type": "markdown",
   "metadata": {},
   "source": [
    "Now that we know our endpoint is working as expected, we can set up the web page that will interact with it. If you don't have time to finish the project now, make sure to skip down to the end of this notebook and shut down your endpoint. You can deploy it again when you come back."
   ]
  },
  {
   "cell_type": "markdown",
   "metadata": {},
   "source": [
    "## Step 7 (again): Use the model for the web app\n",
    "\n",
    "> **TODO:** This entire section and the next contain tasks for you to complete, mostly using the AWS console.\n",
    "\n",
    "So far we have been accessing our model endpoint by constructing a predictor object which uses the endpoint and then just using the predictor object to perform inference. What if we wanted to create a web app which accessed our model? The way things are set up currently makes that not possible since in order to access a SageMaker endpoint the app would first have to authenticate with AWS using an IAM role which included access to SageMaker endpoints. However, there is an easier way! We just need to use some additional AWS services.\n",
    "\n",
    "<img src=\"Web App Diagram.svg\">\n",
    "\n",
    "The diagram above gives an overview of how the various services will work together. On the far right is the model which we trained above and which is deployed using SageMaker. On the far left is our web app that collects a user's movie review, sends it off and expects a positive or negative sentiment in return.\n",
    "\n",
    "In the middle is where some of the magic happens. We will construct a Lambda function, which you can think of as a straightforward Python function that can be executed whenever a specified event occurs. We will give this function permission to send and recieve data from a SageMaker endpoint.\n",
    "\n",
    "Lastly, the method we will use to execute the Lambda function is a new endpoint that we will create using API Gateway. This endpoint will be a url that listens for data to be sent to it. Once it gets some data it will pass that data on to the Lambda function and then return whatever the Lambda function returns. Essentially it will act as an interface that lets our web app communicate with the Lambda function.\n",
    "\n",
    "### Setting up a Lambda function\n",
    "\n",
    "The first thing we are going to do is set up a Lambda function. This Lambda function will be executed whenever our public API has data sent to it. When it is executed it will receive the data, perform any sort of processing that is required, send the data (the review) to the SageMaker endpoint we've created and then return the result.\n",
    "\n",
    "#### Part A: Create an IAM Role for the Lambda function\n",
    "\n",
    "Since we want the Lambda function to call a SageMaker endpoint, we need to make sure that it has permission to do so. To do this, we will construct a role that we can later give the Lambda function.\n",
    "\n",
    "Using the AWS Console, navigate to the **IAM** page and click on **Roles**. Then, click on **Create role**. Make sure that the **AWS service** is the type of trusted entity selected and choose **Lambda** as the service that will use this role, then click **Next: Permissions**.\n",
    "\n",
    "In the search box type `sagemaker` and select the check box next to the **AmazonSageMakerFullAccess** policy. Then, click on **Next: Review**.\n",
    "\n",
    "Lastly, give this role a name. Make sure you use a name that you will remember later on, for example `LambdaSageMakerRole`. Then, click on **Create role**.\n",
    "\n",
    "#### Part B: Create a Lambda function\n",
    "\n",
    "Now it is time to actually create the Lambda function.\n",
    "\n",
    "Using the AWS Console, navigate to the AWS Lambda page and click on **Create a function**. When you get to the next page, make sure that **Author from scratch** is selected. Now, name your Lambda function, using a name that you will remember later on, for example `sentiment_analysis_func`. Make sure that the **Python 3.6** runtime is selected and then choose the role that you created in the previous part. Then, click on **Create Function**.\n",
    "\n",
    "On the next page you will see some information about the Lambda function you've just created. If you scroll down you should see an editor in which you can write the code that will be executed when your Lambda function is triggered. In our example, we will use the code below. \n",
    "\n",
    "```python\n",
    "# We need to use the low-level library to interact with SageMaker since the SageMaker API\n",
    "# is not available natively through Lambda.\n",
    "import boto3\n",
    "\n",
    "def lambda_handler(event, context):\n",
    "\n",
    "    # The SageMaker runtime is what allows us to invoke the endpoint that we've created.\n",
    "    runtime = boto3.Session().client('sagemaker-runtime')\n",
    "\n",
    "    # Now we use the SageMaker runtime to invoke our endpoint, sending the review we were given\n",
    "    response = runtime.invoke_endpoint(EndpointName = '**ENDPOINT NAME HERE**',    # The name of the endpoint we created\n",
    "                                       ContentType = 'text/plain',                 # The data format that is expected\n",
    "                                       Body = event['body'])                       # The actual review\n",
    "\n",
    "    # The response is an HTTP response whose body contains the result of our inference\n",
    "    result = response['Body'].read().decode('utf-8')\n",
    "\n",
    "    return {\n",
    "        'statusCode' : 200,\n",
    "        'headers' : { 'Content-Type' : 'text/plain', 'Access-Control-Allow-Origin' : '*' },\n",
    "        'body' : result\n",
    "    }\n",
    "```\n",
    "\n",
    "Once you have copy and pasted the code above into the Lambda code editor, replace the `**ENDPOINT NAME HERE**` portion with the name of the endpoint that we deployed earlier. You can determine the name of the endpoint using the code cell below."
   ]
  },
  {
   "cell_type": "code",
   "execution_count": 121,
   "metadata": {},
   "outputs": [
    {
     "data": {
      "text/plain": [
       "'sagemaker-pytorch-2019-05-15-00-56-15-458'"
      ]
     },
     "execution_count": 121,
     "metadata": {},
     "output_type": "execute_result"
    }
   ],
   "source": [
    "predictor.endpoint"
   ]
  },
  {
   "cell_type": "markdown",
   "metadata": {},
   "source": [
    "Once you have added the endpoint name to the Lambda function, click on **Save**. Your Lambda function is now up and running. Next we need to create a way for our web app to execute the Lambda function.\n",
    "\n",
    "### Setting up API Gateway\n",
    "\n",
    "Now that our Lambda function is set up, it is time to create a new API using API Gateway that will trigger the Lambda function we have just created.\n",
    "\n",
    "Using AWS Console, navigate to **Amazon API Gateway** and then click on **Get started**.\n",
    "\n",
    "On the next page, make sure that **New API** is selected and give the new api a name, for example, `sentiment_analysis_api`. Then, click on **Create API**.\n",
    "\n",
    "Now we have created an API, however it doesn't currently do anything. What we want it to do is to trigger the Lambda function that we created earlier.\n",
    "\n",
    "Select the **Actions** dropdown menu and click **Create Method**. A new blank method will be created, select its dropdown menu and select **POST**, then click on the check mark beside it.\n",
    "\n",
    "For the integration point, make sure that **Lambda Function** is selected and click on the **Use Lambda Proxy integration**. This option makes sure that the data that is sent to the API is then sent directly to the Lambda function with no processing. It also means that the return value must be a proper response object as it will also not be processed by API Gateway.\n",
    "\n",
    "Type the name of the Lambda function you created earlier into the **Lambda Function** text entry box and then click on **Save**. Click on **OK** in the pop-up box that then appears, giving permission to API Gateway to invoke the Lambda function you created.\n",
    "\n",
    "The last step in creating the API Gateway is to select the **Actions** dropdown and click on **Deploy API**. You will need to create a new Deployment stage and name it anything you like, for example `prod`.\n",
    "\n",
    "You have now successfully set up a public API to access your SageMaker model. Make sure to copy or write down the URL provided to invoke your newly created public API as this will be needed in the next step. This URL can be found at the top of the page, highlighted in blue next to the text **Invoke URL**."
   ]
  },
  {
   "cell_type": "markdown",
   "metadata": {},
   "source": [
    "## Step 4: Deploying our web app\n",
    "\n",
    "Now that we have a publicly available API, we can start using it in a web app. For our purposes, we have provided a simple static html file which can make use of the public api you created earlier.\n",
    "\n",
    "In the `website` folder there should be a file called `index.html`. Download the file to your computer and open that file up in a text editor of your choice. There should be a line which contains **\\*\\*REPLACE WITH PUBLIC API URL\\*\\***. Replace this string with the url that you wrote down in the last step and then save the file.\n",
    "\n",
    "Now, if you open `index.html` on your local computer, your browser will behave as a local web server and you can use the provided site to interact with your SageMaker model.\n",
    "\n",
    "If you'd like to go further, you can host this html file anywhere you'd like, for example using github or hosting a static site on Amazon's S3. Once you have done this you can share the link with anyone you'd like and have them play with it too!\n",
    "\n",
    "> **Important Note** In order for the web app to communicate with the SageMaker endpoint, the endpoint has to actually be deployed and running. This means that you are paying for it. Make sure that the endpoint is running when you want to use the web app but that you shut it down when you don't need it, otherwise you will end up with a surprisingly large AWS bill.\n",
    "\n",
    "**TODO:** Make sure that you include the edited `index.html` file in your project submission."
   ]
  },
  {
   "cell_type": "markdown",
   "metadata": {},
   "source": [
    "Now that your web app is working, trying playing around with it and see how well it works.\n",
    "\n",
    "**Question**: Give an example of a review that you entered into your web app. What was the predicted sentiment of your example review?"
   ]
  },
  {
   "cell_type": "markdown",
   "metadata": {},
   "source": [
    "**Answer:**   \n",
    "Review:   \n",
    "I was touched by the concepts and situations on this film, being myself a survivor of 48 chemotherapy treatments, I can somehow understand the feelings. Is not a pretentious film, however full of little moments that creates a very good and convincing environment. I like both main rolls. The story is completely credible, it can happen any time to anyone. It is an Ode for Life, it tell us that \"We can and should have moments of infinite joy within a limited time\" It is our choice!\n",
    "I liked very much this film!\n",
    "\n",
    "Prediction: Your review was POSITIVE!"
   ]
  },
  {
   "cell_type": "markdown",
   "metadata": {},
   "source": [
    "### Delete the endpoint\n",
    "\n",
    "Remember to always shut down your endpoint if you are no longer using it. You are charged for the length of time that the endpoint is running so if you forget and leave it on you could end up with an unexpectedly large bill."
   ]
  },
  {
   "cell_type": "code",
   "execution_count": 122,
   "metadata": {},
   "outputs": [],
   "source": [
    "predictor.delete_endpoint()"
   ]
  },
  {
   "cell_type": "code",
   "execution_count": null,
   "metadata": {},
   "outputs": [],
   "source": []
  }
 ],
 "metadata": {
  "kernelspec": {
   "display_name": "conda_pytorch_p36",
   "language": "python",
   "name": "conda_pytorch_p36"
  },
  "language_info": {
   "codemirror_mode": {
    "name": "ipython",
    "version": 3
   },
   "file_extension": ".py",
   "mimetype": "text/x-python",
   "name": "python",
   "nbconvert_exporter": "python",
   "pygments_lexer": "ipython3",
   "version": "3.6.5"
  }
 },
 "nbformat": 4,
 "nbformat_minor": 2
}
